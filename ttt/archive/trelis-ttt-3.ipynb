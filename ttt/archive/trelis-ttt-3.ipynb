{
 "cells": [
  {
   "cell_type": "markdown",
   "metadata": {},
   "source": [
    "# ARC AGI with Llama 3.2 1B - Test-time Fine-tuning"
   ]
  },
  {
   "cell_type": "markdown",
   "metadata": {},
   "source": [
    "## 1. Load and re-format the raw data\n",
    "\n",
    "Load the ARC tasks. We split tasks containing more than one test input into separate tasks to make the pipeline easier.\n",
    "\n",
    "Data uploads:\n",
    "1. If you're running this on a remote GPU and have uploaded this notebook, you'll need to upload the raw arc json files as well.\n",
    "2. To run on a smaller split, also upload `mit-easy.json`."
   ]
  },
  {
   "cell_type": "code",
   "execution_count": 3,
   "metadata": {},
   "outputs": [
    {
     "name": "stdout",
     "output_type": "stream",
     "text": [
      "\u001b[33mWARNING: Running pip as the 'root' user can result in broken permissions and conflicting behaviour with the system package manager, possibly rendering your system unusable. It is recommended to use a virtual environment instead: https://pip.pypa.io/warnings/venv. Use the --root-user-action option if you know what you are doing and want to suppress this warning.\u001b[0m\u001b[33m\n",
      "\u001b[0m\u001b[33mWARNING: Running pip as the 'root' user can result in broken permissions and conflicting behaviour with the system package manager, possibly rendering your system unusable. It is recommended to use a virtual environment instead: https://pip.pypa.io/warnings/venv. Use the --root-user-action option if you know what you are doing and want to suppress this warning.\u001b[0m\u001b[33m\n",
      "\u001b[0m"
     ]
    }
   ],
   "source": [
    "!python -m pip install --upgrade pip -q\n",
    "!pip install uv -q\n",
    "!uv pip install pandas datasets tensorboard matplotlib numpy -qU --system"
   ]
  },
  {
   "cell_type": "code",
   "execution_count": 102,
   "metadata": {},
   "outputs": [],
   "source": [
    "\"\"\"\n",
    "arc_dataset_loader.py\n",
    "====================\n",
    "Utility helpers to load the ARC‑AGI training and evaluation splits as\n",
    "Hugging Face `datasets.Dataset` objects.\n",
    "\n",
    "Features\n",
    "--------\n",
    "* **Single public entry point** – `get_arc_datasets` returns two datasets\n",
    "  (`arc_train`, `arc_eval`).\n",
    "* **Optional sub‑sampling** of either split via a JSON file containing a\n",
    "  list of problem IDs (e.g. those from `mit-easy.json`).\n",
    "* Correctly **fans‑out tasks that contain multiple test IO pairs** so that\n",
    "  every row has exactly one test case – exactly mirroring the logic used\n",
    "  during scoring.\n",
    "* **Lazy file resolution** – only the files required for each split are\n",
    "  touched; just point `data_dir` at the location that holds the\n",
    "  `arc-agi_*` JSON files.\n",
    "\n",
    "Example\n",
    "~~~~~~~\n",
    ">>> from arc_dataset_loader import get_arc_datasets\n",
    ">>> train_ds, eval_ds = get_arc_datasets(\n",
    "...     data_dir=\"/path/to/data\",\n",
    "...     eval_subsample_json=\"mit-easy.json\",\n",
    "... )\n",
    ">>> print(len(train_ds), len(eval_ds))\n",
    "\n",
    "The returned objects are standard `datasets.Dataset` instances and can be\n",
    "used in any HF preprocessing / dataloader pipeline.\n",
    "\"\"\"\n",
    "from __future__ import annotations\n",
    "\n",
    "import json\n",
    "from pathlib import Path\n",
    "from typing import Dict, List, Optional, Tuple\n",
    "\n",
    "import pandas as pd\n",
    "from datasets import Dataset\n",
    "\n",
    "__all__ = [\n",
    "    \"get_arc_datasets\",\n",
    "]\n",
    "\n",
    "###############################################################################\n",
    "# Internal helpers\n",
    "###############################################################################\n",
    "\n",
    "def _split_dictionary(data: Dict[str, Dict]) -> Tuple[Dict[str, Dict], List[str]]:\n",
    "    \"\"\"Split tasks that have *multiple* test IO pairs into separate entries.\n",
    "\n",
    "    Each new key is suffixed with an integer index (e.g. `\"abcd1234_1\"`).\n",
    "\n",
    "    Returns the revamped dictionary **and** a list with the names of the\n",
    "    expanded tasks (useful for debugging).\n",
    "    \"\"\"\n",
    "    result: Dict[str, Dict] = {}\n",
    "    split_files: List[str] = []\n",
    "\n",
    "    for key, value in data.items():\n",
    "        test_list = value.get(\"test\", [])\n",
    "        train_list = value.get(\"train\", [])\n",
    "\n",
    "        if len(test_list) > 1:\n",
    "            for idx, test_item in enumerate(test_list):\n",
    "                new_key = f\"{key}_{idx}\"\n",
    "                result[new_key] = {\"test\": [test_item], \"train\": train_list}\n",
    "                split_files.append(new_key)\n",
    "        else:\n",
    "            # untouched – already a single‑case task\n",
    "            result[key] = value\n",
    "\n",
    "    return result, split_files\n",
    "\n",
    "\n",
    "def _build_dataframe(\n",
    "    *,\n",
    "    challenges: Dict[str, Dict],\n",
    "    solutions: Optional[Dict[str, List]] = None,\n",
    ") -> pd.DataFrame:\n",
    "    \"\"\"Construct the canonical DataFrame used for both splits.\"\"\"\n",
    "    data_rows: List[Dict] = []\n",
    "\n",
    "    for file_name, grids in challenges.items():\n",
    "        train_grids = grids.get(\"train\", [])\n",
    "        test_inputs = grids.get(\"test\", [])\n",
    "\n",
    "        # If solutions are provided (train and evaluation splits) we harvest\n",
    "        # the correct test outputs. When we created `challenges` we already\n",
    "        # fan‑out multi‑case tasks, so every entry has exactly one test item.\n",
    "        if solutions is not None:\n",
    "            parts = file_name.split(\"_\")\n",
    "            base_key, test_idx = parts[0], int(parts[1] if len(parts) > 1 else 0)\n",
    "            correct_outputs = solutions.get(base_key, [])\n",
    "            # Guard: some evaluation sets may intentionally omit solutions\n",
    "            if test_idx >= len(correct_outputs):\n",
    "                raise ValueError(\n",
    "                    f\"No solution available for {file_name} (idx {test_idx}).\"\n",
    "                )\n",
    "            test_output = [{\"output\": correct_outputs[test_idx]}]\n",
    "        else:\n",
    "            test_output = []  # unknown at inference time\n",
    "\n",
    "        combined_test = (\n",
    "            [\n",
    "                {\n",
    "                    \"input\": test_inputs[0][\"input\"],\n",
    "                    \"output\": test_output[0][\"output\"],\n",
    "                }\n",
    "            ]\n",
    "            if test_output\n",
    "            else test_inputs\n",
    "        )\n",
    "\n",
    "        data_rows.append(\n",
    "            {\n",
    "                \"file_name\": file_name,\n",
    "                \"train\": train_grids,\n",
    "                \"test_input\": test_inputs,\n",
    "                \"test_output\": test_output,\n",
    "                \"test\": combined_test,\n",
    "            }\n",
    "        )\n",
    "\n",
    "    return pd.DataFrame(data_rows)\n",
    "\n",
    "\n",
    "def _apply_subsample(df: pd.DataFrame, subsample_file: Path | None) -> pd.DataFrame:\n",
    "    \"\"\"Optionally filter rows by problem IDs listed in *subsample_file*.\"\"\"\n",
    "    if subsample_file is None:\n",
    "        return df\n",
    "\n",
    "    with subsample_file.open() as fp:\n",
    "        ids = [line.strip() for line in json.load(fp)]  # expects a JSON list\n",
    "\n",
    "    # The DataFrame rows may be *split* versions – we harvest the *root* ID\n",
    "    return df[df[\"file_name\"].str.extract(r\"^([a-f0-9]+)\")[0].isin(ids)]\n",
    "\n",
    "\n",
    "###############################################################################\n",
    "# Public API\n",
    "###############################################################################\n",
    "\n",
    "def get_arc_datasets(\n",
    "    *,\n",
    "    data_dir: str | Path = \".\",  # directory holding the arc‑agi_*.json files\n",
    "    eval_subsample_json: str | Path | None = None,\n",
    "    train_subsample_json: str | Path | None = None,\n",
    ") -> Tuple[Dataset, Dataset]:\n",
    "    \"\"\"Return `(arc_train, arc_eval)` as `datasets.Dataset` objects.\n",
    "\n",
    "    Parameters\n",
    "    ----------\n",
    "    data_dir:\n",
    "        Base directory containing the official ARC‑AGI JSON files (training,\n",
    "        evaluation). Defaults to the current working directory.\n",
    "\n",
    "    eval_subsample_json / train_subsample_json:\n",
    "        Optional path(s) to a JSON file with a list of problem IDs that\n",
    "        should be kept. When *None* the full split is used.\n",
    "\n",
    "    Notes\n",
    "    -----\n",
    "    *We purposely do not expose the private‑test split here – that file set\n",
    "    lacks ground‑truth solutions and must be handled separately.*\n",
    "    \"\"\"\n",
    "    data_dir = Path(data_dir)\n",
    "\n",
    "    ###############  TRAIN SPLIT  ###########################################\n",
    "    with (data_dir / \"arc-agi_training_challenges.json\").open() as fp:\n",
    "        train_challenges = json.load(fp)\n",
    "    train_challenges, _ = _split_dictionary(train_challenges)\n",
    "\n",
    "    with (data_dir / \"arc-agi_training_solutions.json\").open() as fp:\n",
    "        train_solutions = json.load(fp)\n",
    "\n",
    "    train_df = _build_dataframe(\n",
    "        challenges=train_challenges,\n",
    "        solutions=train_solutions,\n",
    "    )\n",
    "    train_df = _apply_subsample(train_df, Path(train_subsample_json) if train_subsample_json else None)\n",
    "\n",
    "    ###############  EVAL SPLIT  ############################################\n",
    "    with (data_dir / \"arc-agi_evaluation_challenges.json\").open() as fp:\n",
    "        eval_challenges = json.load(fp)\n",
    "    eval_challenges, _ = _split_dictionary(eval_challenges)\n",
    "\n",
    "    # Evaluation split *does* ship with solutions – they just aren’t public on\n",
    "    # Kaggle. Adjust the path below if you keep them elsewhere.\n",
    "    eval_sol_path = data_dir / \"arc-agi_evaluation_solutions.json\"\n",
    "    if eval_sol_path.exists():\n",
    "        with eval_sol_path.open() as fp:\n",
    "            eval_solutions = json.load(fp)\n",
    "    else:\n",
    "        eval_solutions = None  # e.g. you’re working on the competition\n",
    "\n",
    "    eval_df = _build_dataframe(\n",
    "        challenges=eval_challenges,\n",
    "        solutions=eval_solutions,\n",
    "    )\n",
    "    eval_df = _apply_subsample(eval_df, Path(eval_subsample_json) if eval_subsample_json else None)\n",
    "\n",
    "    ###############  CONVERT → HF DATASET  ###################################\n",
    "    arc_train = Dataset.from_pandas(train_df.reset_index(drop=True))\n",
    "    arc_eval = Dataset.from_pandas(eval_df.reset_index(drop=True))\n",
    "\n",
    "    return arc_train, arc_eval"
   ]
  },
  {
   "cell_type": "code",
   "execution_count": 106,
   "metadata": {},
   "outputs": [
    {
     "name": "stdout",
     "output_type": "stream",
     "text": [
      "Loaded 416 training tasks and 20 evaluation tasks.\n"
     ]
    }
   ],
   "source": [
    "arc_train, arc_eval = get_arc_datasets(\n",
    "        # data_dir=args.data_dir, # comment out to use default\n",
    "        eval_subsample_json=\"mit-easy.json\", # comment out to use default of none\n",
    "        # train_subsample_json=args.train_subsample, # comment out to use default of none\n",
    "    )\n",
    "\n",
    "print(\n",
    "    f\"Loaded {len(train_ds):,} training tasks and {len(eval_ds):,} evaluation tasks.\"\n",
    ")"
   ]
  },
  {
   "cell_type": "code",
   "execution_count": 107,
   "metadata": {},
   "outputs": [
    {
     "name": "stdout",
     "output_type": "stream",
     "text": [
      "{'file_name': '007bbfb7', 'train': [{'input': [[0, 7, 7], [7, 7, 7], [0, 7, 7]], 'output': [[0, 0, 0, 0, 7, 7, 0, 7, 7], [0, 0, 0, 7, 7, 7, 7, 7, 7], [0, 0, 0, 0, 7, 7, 0, 7, 7], [0, 7, 7, 0, 7, 7, 0, 7, 7], [7, 7, 7, 7, 7, 7, 7, 7, 7], [0, 7, 7, 0, 7, 7, 0, 7, 7], [0, 0, 0, 0, 7, 7, 0, 7, 7], [0, 0, 0, 7, 7, 7, 7, 7, 7], [0, 0, 0, 0, 7, 7, 0, 7, 7]]}, {'input': [[4, 0, 4], [0, 0, 0], [0, 4, 0]], 'output': [[4, 0, 4, 0, 0, 0, 4, 0, 4], [0, 0, 0, 0, 0, 0, 0, 0, 0], [0, 4, 0, 0, 0, 0, 0, 4, 0], [0, 0, 0, 0, 0, 0, 0, 0, 0], [0, 0, 0, 0, 0, 0, 0, 0, 0], [0, 0, 0, 0, 0, 0, 0, 0, 0], [0, 0, 0, 4, 0, 4, 0, 0, 0], [0, 0, 0, 0, 0, 0, 0, 0, 0], [0, 0, 0, 0, 4, 0, 0, 0, 0]]}, {'input': [[0, 0, 0], [0, 0, 2], [2, 0, 2]], 'output': [[0, 0, 0, 0, 0, 0, 0, 0, 0], [0, 0, 0, 0, 0, 0, 0, 0, 0], [0, 0, 0, 0, 0, 0, 0, 0, 0], [0, 0, 0, 0, 0, 0, 0, 0, 0], [0, 0, 0, 0, 0, 0, 0, 0, 2], [0, 0, 0, 0, 0, 0, 2, 0, 2], [0, 0, 0, 0, 0, 0, 0, 0, 0], [0, 0, 2, 0, 0, 0, 0, 0, 2], [2, 0, 2, 0, 0, 0, 2, 0, 2]]}, {'input': [[6, 6, 0], [6, 0, 0], [0, 6, 6]], 'output': [[6, 6, 0, 6, 6, 0, 0, 0, 0], [6, 0, 0, 6, 0, 0, 0, 0, 0], [0, 6, 6, 0, 6, 6, 0, 0, 0], [6, 6, 0, 0, 0, 0, 0, 0, 0], [6, 0, 0, 0, 0, 0, 0, 0, 0], [0, 6, 6, 0, 0, 0, 0, 0, 0], [0, 0, 0, 6, 6, 0, 6, 6, 0], [0, 0, 0, 6, 0, 0, 6, 0, 0], [0, 0, 0, 0, 6, 6, 0, 6, 6]]}, {'input': [[2, 2, 2], [0, 0, 0], [0, 2, 2]], 'output': [[2, 2, 2, 2, 2, 2, 2, 2, 2], [0, 0, 0, 0, 0, 0, 0, 0, 0], [0, 2, 2, 0, 2, 2, 0, 2, 2], [0, 0, 0, 0, 0, 0, 0, 0, 0], [0, 0, 0, 0, 0, 0, 0, 0, 0], [0, 0, 0, 0, 0, 0, 0, 0, 0], [0, 0, 0, 2, 2, 2, 2, 2, 2], [0, 0, 0, 0, 0, 0, 0, 0, 0], [0, 0, 0, 0, 2, 2, 0, 2, 2]]}], 'test_input': [{'input': [[7, 0, 7], [7, 0, 7], [7, 7, 0]]}], 'test_output': [{'output': [[7, 0, 7, 0, 0, 0, 7, 0, 7], [7, 0, 7, 0, 0, 0, 7, 0, 7], [7, 7, 0, 0, 0, 0, 7, 7, 0], [7, 0, 7, 0, 0, 0, 7, 0, 7], [7, 0, 7, 0, 0, 0, 7, 0, 7], [7, 7, 0, 0, 0, 0, 7, 7, 0], [7, 0, 7, 7, 0, 7, 0, 0, 0], [7, 0, 7, 7, 0, 7, 0, 0, 0], [7, 7, 0, 7, 7, 0, 0, 0, 0]]}], 'test': [{'input': [[7, 0, 7], [7, 0, 7], [7, 7, 0]], 'output': [[7, 0, 7, 0, 0, 0, 7, 0, 7], [7, 0, 7, 0, 0, 0, 7, 0, 7], [7, 7, 0, 0, 0, 0, 7, 7, 0], [7, 0, 7, 0, 0, 0, 7, 0, 7], [7, 0, 7, 0, 0, 0, 7, 0, 7], [7, 7, 0, 0, 0, 0, 7, 7, 0], [7, 0, 7, 7, 0, 7, 0, 0, 0], [7, 0, 7, 7, 0, 7, 0, 0, 0], [7, 7, 0, 7, 7, 0, 0, 0, 0]]}]}\n"
     ]
    }
   ],
   "source": [
    "print(arc_train[0])"
   ]
  },
  {
   "cell_type": "code",
   "execution_count": 108,
   "metadata": {},
   "outputs": [],
   "source": [
    "import numpy as np\n",
    "import matplotlib.pyplot as plt\n",
    "from matplotlib.colors import ListedColormap\n",
    "\n",
    "# -------------------------------------------------------------------\n",
    "# ARC-style palette (feel free to replace with your own)\n",
    "# 0-9 integers → 10 RGB triples\n",
    "ARC_PALETTE = np.array([\n",
    "    [  0,   0,   0],   # 0 black\n",
    "    [255,   0,   0],   # 1 red\n",
    "    [  0, 255,   0],   # 2 green\n",
    "    [255, 255,   0],   # 3 yellow\n",
    "    [  0,   0, 255],   # 4 blue\n",
    "    [255,   0, 255],   # 5 magenta\n",
    "    [  0, 255, 255],   # 6 cyan\n",
    "    [255, 255, 255],   # 7 white\n",
    "    [128, 128, 128],   # 8 gray\n",
    "    [128,   0,   0],   # 9 dark-red (example)\n",
    "], dtype=np.uint8)\n",
    "ARC_CMAP = ListedColormap(ARC_PALETTE / 255.0, name='arc')\n",
    "\n",
    "# -------------------------------------------------------------------\n",
    "def plot_grid(grid, title='', ax=None, cmap=ARC_CMAP):\n",
    "    \"\"\"\n",
    "    Display an integer-labelled colour grid on the given Matplotlib axis.\n",
    "\n",
    "    Parameters\n",
    "    ----------\n",
    "    grid  : 2-D ndarray of ints 0-9\n",
    "    title : str\n",
    "    ax    : matplotlib.axes.Axes or None\n",
    "    cmap  : matplotlib.colors.Colormap\n",
    "    \"\"\"\n",
    "    if ax is None:\n",
    "        ax = plt.gca()\n",
    "\n",
    "    ax.imshow(grid, interpolation='nearest', cmap=cmap, vmin=0, vmax=9)\n",
    "    ax.set_title(title)\n",
    "    ax.set_xticks([])\n",
    "    ax.set_yticks([])"
   ]
  },
  {
   "cell_type": "code",
   "execution_count": 109,
   "metadata": {},
   "outputs": [
    {
     "name": "stdout",
     "output_type": "stream",
     "text": [
      "Selecting inner index 0\n"
     ]
    },
    {
     "data": {
      "image/png": "[encoded data removed]",
      "text/plain": [
       "<Figure size 800x400 with 2 Axes>"
      ]
     },
     "metadata": {},
     "output_type": "display_data"
    }
   ],
   "source": [
    "challenge_index = 0\n",
    "challenge_split='train' # train or test\n",
    "split_index=0\n",
    "type='input' # input or output\n",
    "\n",
    "challenge = arc_train[challenge_index]\n",
    "print(f\"Selecting inner index {split_index}\")\n",
    "\n",
    "challenge_split = challenge[challenge_split]\n",
    "\n",
    "fig, axes = plt.subplots(1, 2, figsize=(8, 4))\n",
    "plot_grid(challenge_split[split_index]['input'],  'Input',  ax=axes[0])\n",
    "plot_grid(challenge_split[split_index]['output'], 'Output', ax=axes[1])\n",
    "plt.tight_layout()\n",
    "plt.show()\n",
    "\n",
    "grid = challenge_split[split_index][type]"
   ]
  },
  {
   "cell_type": "markdown",
   "metadata": {},
   "source": [
    "## 2. Create Evaluation and Fine-tuning Datasets\n",
    "- The evaluation dataset is for running an evaluation, not training. Use the ARC `eval` dataset here.\n",
    "- The fine-tuning dataset is for running a fine-tuning. You have a few options here and could use:\n",
    "    1. a synthetic ReARC dataset,\n",
    "    2. the ARC \"train\" dataset,\n",
    "    3. the ARC \"eval\" dataset, but with \"omit_test\" set to True so that test examples are not included. If you do this, you are doing test-time training (that is not task-specific).\n",
    "\n",
    "The dataset preparations functions will create a hf style dataset of messages, with a user message containing the first n-1 of n examples (inputs plus outputs) as train examples and the nth train input as the test example, and with an assistant message using the nth train output.\n",
    "\n",
    "When generating a fine-tuning dataset, you can optionally:\n",
    "- Expand that dataset via shuffling the order of examples.\n",
    "- Expand that dataset via colour shuffling.\n",
    "- Expand that dataset via rotations."
   ]
  },
  {
   "cell_type": "code",
   "execution_count": 138,
   "metadata": {},
   "outputs": [],
   "source": [
    "preprompt=\"Train Examples:\\n\" # There is no point in providing a complicated pre-prompt\n",
    "# \"Given the following training examples with their input-output pairs, \"\n",
    "# \"predict the output for the test input based on the same \"\n",
    "# \"transformation rules:\\n\\n\"\n",
    "\n",
    "from datasets import Dataset\n",
    "import numpy as np\n",
    "\n",
    "def prepare_evaluation_dataset(input_dataset, drop_first_train=False):\n",
    "    \"\"\"\n",
    "    Prepares evaluation datasets from the input dataset.\n",
    "    \n",
    "    Args:\n",
    "        input_dataset: A dataset containing 'file_name', 'train', and 'test' splits.\n",
    "                       Each 'train' entry contains 'input' and 'output' examples, and\n",
    "                       'test' contains 'input' and 'output' for evaluation.\n",
    "        drop_first_train (bool): Whether to drop the first training example. Defaults to False. Allows the training tasks to be shortened to shorten the context length.\n",
    "    \n",
    "    Returns:\n",
    "        - evaluation_dataset: Dataset formatted for evaluation.\n",
    "    \"\"\"\n",
    "    \n",
    "    # Evaluation dataset preparation\n",
    "    evaluation_data = []\n",
    "    for challenge in input_dataset:\n",
    "        file_name = challenge['file_name']\n",
    "        train_examples = challenge['train']\n",
    "        test_example = challenge['test'][0]  # Use the first test example\n",
    "        \n",
    "        # Use all training examples as context, optionally dropping the first one\n",
    "        start_index = 1 if drop_first_train else 0\n",
    "        user_message_content = (\n",
    "            preprompt\n",
    "        )\n",
    "        for i, example in enumerate(train_examples[start_index:]):  # Include all training examples\n",
    "            user_message_content += (\n",
    "                f\"Input:\\n{np.array(example['input'])}\\n\"\n",
    "                f\"Output:\\n{np.array(example['output'])}\\n\\n\"\n",
    "            )\n",
    "        # Use the first test example's input as the test input\n",
    "        test_input = test_example['input']\n",
    "        user_message_content += f\"Test Input:\\n{np.array(test_input)}\\nTest Output:\\n\"\n",
    "        user_message = {\"role\": \"user\", \"content\": user_message_content}\n",
    "        assistant_message = {\n",
    "            \"role\": \"assistant\",\n",
    "            \"content\": f\"{np.array(test_example['output'])}\\n\\n\"\n",
    "        }\n",
    "\n",
    "        evaluation_data.append({\n",
    "            \"file_name\": file_name,\n",
    "            \"messages\": [user_message, assistant_message]\n",
    "        })\n",
    "    \n",
    "    # Create HuggingFace Datasets\n",
    "    evaluation_dataset = Dataset.from_list(evaluation_data)\n",
    "    \n",
    "    return evaluation_dataset"
   ]
  },
  {
   "cell_type": "code",
   "execution_count": 139,
   "metadata": {},
   "outputs": [],
   "source": [
    "from datasets import Dataset\n",
    "import numpy as np\n",
    "from copy import deepcopy\n",
    "from typing import List, Dict, Tuple\n",
    "\n",
    "def prepare_fine_tuning_dataset(\n",
    "    input_dataset,\n",
    "    *,\n",
    "    add_shuffled: bool = True,\n",
    "    add_rotations: bool = False,\n",
    "    add_mirrors: bool = False,\n",
    "    omit_test: bool = True,\n",
    "    apply_color_swaps: bool = False,\n",
    "    num_color_swaps: int = 2,\n",
    "    seed: int = 42,\n",
    ") -> Dataset:\n",
    "    \"\"\"\n",
    "    Build a HuggingFace `Dataset` of chat-style prompt/response pairs for ARC,\n",
    "    with optional data-augmentation.\n",
    "\n",
    "    Parameters\n",
    "    ----------\n",
    "    input_dataset : iterable\n",
    "        Each element must contain keys 'file_name', 'train', and optionally 'test'.\n",
    "        Grids are assumed to be int matrices with colours 0-9.\n",
    "    add_shuffled : bool, default True\n",
    "        Adds one row per train example where the remaining examples are shuffled\n",
    "        and the held-out one is the \"question\".\n",
    "    add_rotations : bool, default False\n",
    "        Adds 90°, 180°, 270° rotated variants of every train example.\n",
    "    add_mirrors : bool, default False\n",
    "        Adds horizontal and vertical mirrors of every train example.\n",
    "    omit_test : bool, default True\n",
    "        If False, an extra row is created using the task's first test example.\n",
    "    apply_color_swaps : bool, default False\n",
    "        Whether to duplicate each task `num_color_swaps` times with a\n",
    "        globally-consistent colour permutation.\n",
    "    num_color_swaps : int, default 2\n",
    "        How many swapped copies (per task) to generate when `apply_color_swaps`\n",
    "        is True. 0 → no swaps.\n",
    "    seed : int, default 42\n",
    "        Global random seed (controls shuffling *and* colour permutations).\n",
    "\n",
    "    Returns\n",
    "    -------\n",
    "    hf_dataset : datasets.Dataset\n",
    "        Rows have keys ``file_name`` and ``messages`` (OpenAI/Chat format).\n",
    "    \"\"\"\n",
    "    rng = np.random.default_rng(seed)\n",
    "    expanded_rows: List[Dict] = []\n",
    "\n",
    "    # ------------------------------------------------------------------ helpers\n",
    "    def rotate_grid(grid, angle: int):\n",
    "        if angle not in (90, 180, 270):\n",
    "            return grid\n",
    "        return np.rot90(np.array(grid), k=angle // 90).tolist()\n",
    "\n",
    "    def mirror_grid(grid, direction: str):\n",
    "        arr = np.array(grid)\n",
    "        if direction == \"horizontal\":\n",
    "            return np.fliplr(arr).tolist()\n",
    "        if direction == \"vertical\":\n",
    "            return np.flipud(arr).tolist()\n",
    "        return grid\n",
    "\n",
    "    def apply_mapping(grid, mapping_arr: np.ndarray):\n",
    "        arr = np.array(grid)\n",
    "        return mapping_arr[arr].tolist()\n",
    "\n",
    "    # Build rows for ONE task --------------------------------------------------\n",
    "    def build_rows_for_task(\n",
    "        file_name: str,\n",
    "        train_ex: List[Dict],\n",
    "        test_ex: List[Dict],\n",
    "    ) -> List[Dict]:\n",
    "        rows: List[Dict] = []\n",
    "\n",
    "        # ---- (a) original / augmented train examples\n",
    "        def mk_row(inp, outp):\n",
    "            return {\n",
    "                \"file_name\": file_name,\n",
    "                \"messages\": [\n",
    "                    {\"role\": \"user\", \"content\": f\"Input:\\n{inp}\\nOutput:\\n{outp}\"},\n",
    "                    {\"role\": \"assistant\", \"content\": f\"{outp}\"},\n",
    "                ],\n",
    "            }\n",
    "\n",
    "        for ex in train_ex:\n",
    "            # base example\n",
    "            rows.append(mk_row(ex[\"input\"], ex[\"output\"]))\n",
    "\n",
    "            # rotations\n",
    "            if add_rotations:\n",
    "                for angle in (90, 180, 270):\n",
    "                    rows.append(\n",
    "                        mk_row(\n",
    "                            rotate_grid(ex[\"input\"], angle),\n",
    "                            rotate_grid(ex[\"output\"], angle),\n",
    "                        )\n",
    "                    )\n",
    "\n",
    "            # mirrors\n",
    "            if add_mirrors:\n",
    "                for direction in (\"horizontal\", \"vertical\"):\n",
    "                    rows.append(\n",
    "                        mk_row(\n",
    "                            mirror_grid(ex[\"input\"], direction),\n",
    "                            mirror_grid(ex[\"output\"], direction),\n",
    "                        )\n",
    "                    )\n",
    "\n",
    "        # ---- (b) shuffled context rows (one per train example)\n",
    "        if add_shuffled:\n",
    "            for i, held_out in enumerate(train_ex):\n",
    "                context = train_ex[:i] + train_ex[i + 1 :]\n",
    "                context = rng.permutation(context).tolist()\n",
    "\n",
    "                prompt = (\n",
    "                    preprompt\n",
    "                )\n",
    "                for ex in context:\n",
    "                    prompt += (\n",
    "                        f\"Input:\\n{np.array(ex['input'])}\\n\"\n",
    "                        f\"Output:\\n{np.array(ex['output'])}\\n\\n\"\n",
    "                    )\n",
    "                prompt += f\"Test Input:\\n{np.array(held_out['input'])}\\nTest Output:\\n\"\n",
    "\n",
    "                rows.append(\n",
    "                    {\n",
    "                        \"file_name\": file_name,\n",
    "                        \"messages\": [\n",
    "                            {\"role\": \"user\", \"content\": prompt},\n",
    "                            {\n",
    "                                \"role\": \"assistant\",\n",
    "                                \"content\": f\"{np.array(held_out['output'])}\\n\\n\",\n",
    "                            },\n",
    "                        ],\n",
    "                    }\n",
    "                )\n",
    "\n",
    "        # ---- (c) optional row that uses the FIRST test example\n",
    "        if (not omit_test) and test_ex:\n",
    "            test0 = test_ex[0]\n",
    "            context = rng.permutation(train_ex).tolist() if add_shuffled else train_ex\n",
    "\n",
    "            prompt = (\n",
    "                preprompt\n",
    "            )\n",
    "            for ex in context:\n",
    "                prompt += (\n",
    "                    f\"Input:\\n{np.array(ex['input'])}\\n\"\n",
    "                    f\"Output:\\n{np.array(ex['output'])}\\n\\n\"\n",
    "                )\n",
    "            prompt += f\"Test Input:\\n{np.array(test0['input'])}\\nTest Output:\\n\"\n",
    "\n",
    "            rows.append(\n",
    "                {\n",
    "                    \"file_name\": file_name,\n",
    "                    \"messages\": [\n",
    "                        {\"role\": \"user\", \"content\": prompt},\n",
    "                        {\n",
    "                            \"role\": \"assistant\",\n",
    "                            \"content\": f\"{np.array(test0['output'])}\\n\\n\",\n",
    "                        },\n",
    "                    ],\n",
    "                }\n",
    "            )\n",
    "\n",
    "        return rows\n",
    "\n",
    "    # ---------------------------------------------------------------- pipeline\n",
    "    for task_idx, challenge in enumerate(input_dataset):\n",
    "        base_train = challenge[\"train\"]\n",
    "        base_test  = challenge.get(\"test\", [])\n",
    "        file_name  = challenge[\"file_name\"]\n",
    "\n",
    "        # --- 1. original task rows\n",
    "        expanded_rows.extend(\n",
    "            build_rows_for_task(file_name, base_train, base_test)\n",
    "        )\n",
    "\n",
    "        # --- 2. colour-swap augmentations\n",
    "        if apply_color_swaps and num_color_swaps > 0:\n",
    "            # collect colours actually used in this task\n",
    "            used_cols = {\n",
    "                c\n",
    "                for ex in base_train + base_test\n",
    "                for grid in (ex[\"input\"], ex[\"output\"])\n",
    "                for row in grid\n",
    "                for c in row\n",
    "            }\n",
    "\n",
    "            # pre-allocate an array [0,1,2,...,9] for fast mapping\n",
    "            identity = np.arange(10, dtype=int)\n",
    "\n",
    "            swaps_generated = 0\n",
    "            while swaps_generated < num_color_swaps:\n",
    "                perm = rng.permutation(10)\n",
    "                # ensure at least one used colour changes\n",
    "                if all(perm[c] == c for c in used_cols):\n",
    "                    continue\n",
    "\n",
    "                mapping_arr = perm  # ndarray, index old colour → new colour\n",
    "\n",
    "                # deepcopy train & test, then map colours\n",
    "                train_swapped, test_swapped = [], []\n",
    "                for ex in deepcopy(base_train):\n",
    "                    ex[\"input\"]  = apply_mapping(ex[\"input\"], mapping_arr)\n",
    "                    ex[\"output\"] = apply_mapping(ex[\"output\"], mapping_arr)\n",
    "                    train_swapped.append(ex)\n",
    "\n",
    "                for ex in deepcopy(base_test):\n",
    "                    ex[\"input\"]  = apply_mapping(ex[\"input\"], mapping_arr)\n",
    "                    ex[\"output\"] = apply_mapping(ex[\"output\"], mapping_arr)\n",
    "                    test_swapped.append(ex)\n",
    "\n",
    "                expanded_rows.extend(\n",
    "                    build_rows_for_task(\n",
    "                        f\"{file_name}_swap{swaps_generated+1}\",\n",
    "                        train_swapped,\n",
    "                        test_swapped,\n",
    "                    )\n",
    "                )\n",
    "                swaps_generated += 1\n",
    "\n",
    "    # ------------------------------------------------------------------ output\n",
    "    return Dataset.from_list(expanded_rows)"
   ]
  },
  {
   "cell_type": "code",
   "execution_count": 142,
   "metadata": {},
   "outputs": [],
   "source": [
    "fine_tuning_dataset = prepare_fine_tuning_dataset(\n",
    "    arc_eval, # or use arc_eval, but set omit_test to True\n",
    "    add_shuffled=False,\n",
    "    apply_color_swaps=False, \n",
    "    add_rotations=False,\n",
    "    add_mirrors=False,\n",
    "    omit_test=True, # ONLY SET FALSE IF USING ARC \"TRAIN\" DATASET FOR FINE-TUNING (OTHERWISE TRAINING ON EVAL SET TEST EXAMPLES IS CHEATING).\n",
    "    seed=42)"
   ]
  },
  {
   "cell_type": "code",
   "execution_count": 192,
   "metadata": {},
   "outputs": [
    {
     "name": "stdout",
     "output_type": "stream",
     "text": [
      "Dataset({\n",
      "    features: ['file_name', 'messages'],\n",
      "    num_rows: 60\n",
      "})\n"
     ]
    }
   ],
   "source": [
    "print(fine_tuning_dataset)"
   ]
  },
  {
   "cell_type": "code",
   "execution_count": 144,
   "metadata": {},
   "outputs": [],
   "source": [
    "# print(fine_tuning_dataset[419])"
   ]
  },
  {
   "cell_type": "code",
   "execution_count": 145,
   "metadata": {},
   "outputs": [
    {
     "name": "stdout",
     "output_type": "stream",
     "text": [
      "Dataset({\n",
      "    features: ['file_name', 'messages'],\n",
      "    num_rows: 20\n",
      "})\n"
     ]
    }
   ],
   "source": [
    "eval_dataset = prepare_evaluation_dataset(\n",
    "    arc_eval, # best to use the eval split here\n",
    "    drop_first_train=False\n",
    ")\n",
    "print(eval_dataset)"
   ]
  },
  {
   "cell_type": "markdown",
   "metadata": {},
   "source": [
    "## 5. Fine-tune with Unsloth\n",
    "- Load unsloth\n",
    "- apply lora\n",
    "- train\n",
    "- Train on outputs only"
   ]
  },
  {
   "cell_type": "code",
   "execution_count": 33,
   "metadata": {},
   "outputs": [],
   "source": [
    "%%capture\n",
    "!pip install unsloth accelerate hf_transfer\n",
    "\n",
    "## RESTART THE KERNEL if there are issues."
   ]
  },
  {
   "cell_type": "code",
   "execution_count": 128,
   "metadata": {},
   "outputs": [
    {
     "name": "stdout",
     "output_type": "stream",
     "text": [
      "==((====))==  Unsloth 2025.4.1: Fast Llama patching. Transformers: 4.51.3.\n",
      "   \\\\   /|    NVIDIA H100 80GB HBM3. Num GPUs = 1. Max memory: 79.097 GB. Platform: Linux.\n",
      "O^O/ \\_/ \\    Torch: 2.6.0+cu124. CUDA: 9.0. CUDA Toolkit: 12.4. Triton: 3.2.0\n",
      "\\        /    Bfloat16 = TRUE. FA [Xformers = 0.0.29.post3. FA2 = False]\n",
      " \"-____-\"     Free license: http://github.com/unslothai/unsloth\n",
      "Unsloth: Fast downloading is enabled - ignore downloading bars which are red colored!\n"
     ]
    }
   ],
   "source": [
    "import os\n",
    "os.environ[\"HF_HUB_ENABLE_HF_TRANSFER\"] = \"1\" #for fast weight downloads\n",
    "\n",
    "from unsloth import FastLanguageModel\n",
    "import torch\n",
    "max_seq_length = 20000 # 8k needed for MIT easy eval. 20k needed for full MIT training split.\n",
    "dtype = None # None for auto detection. Float16 for Tesla T4, V100, Bfloat16 for Ampere+\n",
    "load_in_4bit = False # Use 4bit quantization to reduce memory usage. Can be False.\n",
    "\n",
    "del model, tokenizer\n",
    "\n",
    "model_slug = 'unsloth/Llama-3.2-1B' # can just use base model since we are simplifying the chat template anyways\n",
    "\n",
    "model, tokenizer = FastLanguageModel.from_pretrained(\n",
    "    model_name = model_slug,\n",
    "    max_seq_length = max_seq_length,\n",
    "    dtype = dtype,\n",
    "    load_in_4bit = load_in_4bit,\n",
    "    # token = \"hf_...\", # use one if using gated models like meta-llama/Llama-2-7b-hf\n",
    ")\n",
    "\n",
    "# Define the Jinja template\n",
    "tokenizer.chat_template = \"\"\"\n",
    "{% for message in messages %}\n",
    "{{ message.content }}{% if message.role == 'assistant' %}{{ eos_token }}{% endif %}{%- if add_generation_prompt %}{%- endif %}\n",
    "{% endfor %}\n",
    "\"\"\""
   ]
  },
  {
   "cell_type": "code",
   "execution_count": 146,
   "metadata": {},
   "outputs": [
    {
     "name": "stdout",
     "output_type": "stream",
     "text": [
      "[{'content': 'Train Examples:\\nInput:\\n[[8 6]\\n [6 4]]\\nOutput:\\n[[8 6 8 6 8 6]\\n [6 4 6 4 6 4]\\n [6 8 6 8 6 8]\\n [4 6 4 6 4 6]\\n [8 6 8 6 8 6]\\n [6 4 6 4 6 4]]\\n\\nInput:\\n[[7 9]\\n [4 3]]\\nOutput:\\n[[7 9 7 9 7 9]\\n [4 3 4 3 4 3]\\n [9 7 9 7 9 7]\\n [3 4 3 4 3 4]\\n [7 9 7 9 7 9]\\n [4 3 4 3 4 3]]\\n\\nTest Input:\\n[[3 2]\\n [7 8]]\\nTest Output:\\n', 'role': 'user'}, {'content': '[[3 2 3 2 3 2]\\n [7 8 7 8 7 8]\\n [2 3 2 3 2 3]\\n [8 7 8 7 8 7]\\n [3 2 3 2 3 2]\\n [7 8 7 8 7 8]]\\n\\n', 'role': 'assistant'}]\n"
     ]
    }
   ],
   "source": [
    "print(eval_dataset[0]['messages'])"
   ]
  },
  {
   "cell_type": "code",
   "execution_count": 148,
   "metadata": {},
   "outputs": [
    {
     "name": "stdout",
     "output_type": "stream",
     "text": [
      "\n",
      "Train Examples:\n",
      "Input:\n",
      "[[8 6]\n",
      " [6 4]]\n",
      "Output:\n",
      "[[8 6 8 6 8 6]\n",
      " [6 4 6 4 6 4]\n",
      " [6 8 6 8 6 8]\n",
      " [4 6 4 6 4 6]\n",
      " [8 6 8 6 8 6]\n",
      " [6 4 6 4 6 4]]\n",
      "\n",
      "Input:\n",
      "[[7 9]\n",
      " [4 3]]\n",
      "Output:\n",
      "[[7 9 7 9 7 9]\n",
      " [4 3 4 3 4 3]\n",
      " [9 7 9 7 9 7]\n",
      " [3 4 3 4 3 4]\n",
      " [7 9 7 9 7 9]\n",
      " [4 3 4 3 4 3]]\n",
      "\n",
      "Test Input:\n",
      "[[3 2]\n",
      " [7 8]]\n",
      "Test Output:\n",
      "[[3 2 3 2 3 2]\n",
      " [7 8 7 8 7 8]\n",
      " [2 3 2 3 2 3]\n",
      " [8 7 8 7 8 7]\n",
      " [3 2 3 2 3 2]\n",
      " [7 8 7 8 7 8]]\n",
      "\n",
      "<|end_of_text|>\n"
     ]
    }
   ],
   "source": [
    "print(tokenizer.apply_chat_template(eval_dataset[0]['messages'],tokenize=False) )"
   ]
  },
  {
   "cell_type": "code",
   "execution_count": 149,
   "metadata": {},
   "outputs": [],
   "source": [
    "def get_longest_row_in_tokens(dataset, tokenizer):\n",
    "    \"\"\"\n",
    "    Calculates the token length of the concatenated 'messages' content for each row\n",
    "    in the dataset and returns the length of the longest row.\n",
    "\n",
    "    Args:\n",
    "        dataset: A dataset with a 'messages' column containing lists of message dicts.\n",
    "        tokenizer: A tokenizer instance to tokenize the messages.\n",
    "\n",
    "    Returns:\n",
    "        int: The length in tokens of the longest row.\n",
    "    \"\"\"\n",
    "    max_length = 0\n",
    "\n",
    "    for row in dataset:\n",
    "        # Concatenate all message contents\n",
    "        concatenated_content = \" \".join(msg[\"content\"] for msg in row[\"messages\"])\n",
    "\n",
    "        # Tokenize the concatenated content and calculate its length\n",
    "        tokenized_length = len(tokenizer(concatenated_content)[\"input_ids\"])\n",
    "\n",
    "        # Track the maximum length\n",
    "        max_length = max(max_length, tokenized_length)\n",
    "\n",
    "    return max_length"
   ]
  },
  {
   "cell_type": "code",
   "execution_count": 150,
   "metadata": {},
   "outputs": [
    {
     "data": {
      "text/plain": [
       "3974"
      ]
     },
     "execution_count": 150,
     "metadata": {},
     "output_type": "execute_result"
    }
   ],
   "source": [
    "get_longest_row_in_tokens(fine_tuning_dataset, tokenizer)"
   ]
  },
  {
   "cell_type": "code",
   "execution_count": 151,
   "metadata": {},
   "outputs": [
    {
     "data": {
      "text/plain": [
       "7426"
      ]
     },
     "execution_count": 151,
     "metadata": {},
     "output_type": "execute_result"
    }
   ],
   "source": [
    "get_longest_row_in_tokens(eval_dataset, tokenizer)"
   ]
  },
  {
   "cell_type": "code",
   "execution_count": 152,
   "metadata": {},
   "outputs": [
    {
     "name": "stdout",
     "output_type": "stream",
     "text": [
      "LlamaForCausalLM(\n",
      "  (model): LlamaModel(\n",
      "    (embed_tokens): Embedding(128256, 2048, padding_idx=128004)\n",
      "    (layers): ModuleList(\n",
      "      (0-15): 16 x LlamaDecoderLayer(\n",
      "        (self_attn): LlamaAttention(\n",
      "          (q_proj): Linear(in_features=2048, out_features=2048, bias=False)\n",
      "          (k_proj): Linear(in_features=2048, out_features=512, bias=False)\n",
      "          (v_proj): Linear(in_features=2048, out_features=512, bias=False)\n",
      "          (o_proj): Linear(in_features=2048, out_features=2048, bias=False)\n",
      "          (rotary_emb): LlamaRotaryEmbedding()\n",
      "        )\n",
      "        (mlp): LlamaMLP(\n",
      "          (gate_proj): Linear(in_features=2048, out_features=8192, bias=False)\n",
      "          (up_proj): Linear(in_features=2048, out_features=8192, bias=False)\n",
      "          (down_proj): Linear(in_features=8192, out_features=2048, bias=False)\n",
      "          (act_fn): SiLU()\n",
      "        )\n",
      "        (input_layernorm): LlamaRMSNorm((2048,), eps=1e-05)\n",
      "        (post_attention_layernorm): LlamaRMSNorm((2048,), eps=1e-05)\n",
      "      )\n",
      "    )\n",
      "    (norm): LlamaRMSNorm((2048,), eps=1e-05)\n",
      "    (rotary_emb): LlamaRotaryEmbedding()\n",
      "  )\n",
      "  (lm_head): Linear(in_features=2048, out_features=128256, bias=False)\n",
      ")\n"
     ]
    }
   ],
   "source": [
    "print(model)"
   ]
  },
  {
   "cell_type": "code",
   "execution_count": 81,
   "metadata": {},
   "outputs": [
    {
     "name": "stdout",
     "output_type": "stream",
     "text": [
      "Unsloth: Offloading input_embeddings to disk to save VRAM\n",
      "Unsloth: Offloading output_embeddings to disk to save VRAM\n",
      "Unsloth: Training embed_tokens in mixed precision to save VRAM\n",
      "Unsloth: Training lm_head in mixed precision to save VRAM\n"
     ]
    }
   ],
   "source": [
    "model = FastLanguageModel.get_peft_model(\n",
    "    model,\n",
    "    r = 32, # Choose any number > 0 ! Suggested 8, 16, 32, 64, 128\n",
    "    target_modules = [\"q_proj\", \"k_proj\", \"v_proj\", \"o_proj\",\n",
    "                      \"gate_proj\", \"up_proj\", \"down_proj\",],\n",
    "    # target_modules = [\"all-linear\"],\n",
    "    modules_to_save = [\"lm_head\",\"embed_tokens\"],\n",
    "    lora_alpha = 32,\n",
    "    lora_dropout = 0, # Supports any, but = 0 is optimized\n",
    "    bias = \"none\",    # Supports any, but = \"none\" is optimized\n",
    "    # [NEW] \"unsloth\" uses 30% less VRAM, fits 2x larger batch sizes!\n",
    "    use_gradient_checkpointing = \"unsloth\", # True or \"unsloth\" for very long context\n",
    "    random_state = 3407,\n",
    "    use_rslora = True,  # We support rank stabilized LoRA\n",
    ")"
   ]
  },
  {
   "cell_type": "code",
   "execution_count": 153,
   "metadata": {},
   "outputs": [
    {
     "name": "stdout",
     "output_type": "stream",
     "text": [
      "Dataset({\n",
      "    features: ['file_name', 'messages'],\n",
      "    num_rows: 60\n",
      "})\n"
     ]
    }
   ],
   "source": [
    "print(fine_tuning_dataset)"
   ]
  },
  {
   "cell_type": "code",
   "execution_count": 154,
   "metadata": {},
   "outputs": [
    {
     "name": "stdout",
     "output_type": "stream",
     "text": [
      "Dataset({\n",
      "    features: ['file_name', 'messages'],\n",
      "    num_rows: 20\n",
      "})\n"
     ]
    }
   ],
   "source": [
    "print(eval_dataset)"
   ]
  },
  {
   "cell_type": "code",
   "execution_count": 155,
   "metadata": {},
   "outputs": [],
   "source": [
    "def formatting_func(example):\n",
    "    \"\"\"\n",
    "    Works for both a single row and a batched call from Unsloth.\n",
    "    Each element of example[\"messages\"] is a whole conversation\n",
    "    (list[dict] with role/content keys).\n",
    "    Returns a *flat* list[str] with one rendered prompt per row.\n",
    "    \"\"\"\n",
    "    # When the trainer calls us with `batched=True`, example[\"message\"]\n",
    "    # is already a list; with batched=False it's a single conversation.\n",
    "    rows = example[\"messages\"]\n",
    "    if isinstance(rows[0], dict):       # single row -> wrap it to reuse the loop\n",
    "        rows = [rows]\n",
    "\n",
    "    rendered_batch = []\n",
    "    for messages in rows:\n",
    "        rendered_batch.append(\n",
    "            tokenizer.apply_chat_template(\n",
    "                messages,\n",
    "                tokenize=False,\n",
    "                add_generation_prompt=False        # or True, your choice\n",
    "            )\n",
    "        )\n",
    "\n",
    "    return rendered_batch          # <- NO inner lists!"
   ]
  },
  {
   "cell_type": "code",
   "execution_count": 191,
   "metadata": {},
   "outputs": [
    {
     "data": {
      "text/plain": [
       "[{'content': 'Input:\\n[[8, 6], [6, 4]]\\nOutput:\\n[[8, 6, 8, 6, 8, 6], [6, 4, 6, 4, 6, 4], [6, 8, 6, 8, 6, 8], [4, 6, 4, 6, 4, 6], [8, 6, 8, 6, 8, 6], [6, 4, 6, 4, 6, 4]]',\n",
       "  'role': 'user'},\n",
       " {'content': '[[8, 6, 8, 6, 8, 6], [6, 4, 6, 4, 6, 4], [6, 8, 6, 8, 6, 8], [4, 6, 4, 6, 4, 6], [8, 6, 8, 6, 8, 6], [6, 4, 6, 4, 6, 4]]',\n",
       "  'role': 'assistant'}]"
      ]
     },
     "execution_count": 191,
     "metadata": {},
     "output_type": "execute_result"
    }
   ],
   "source": [
    "fine_tuning_dataset[0]['messages']"
   ]
  },
  {
   "cell_type": "code",
   "execution_count": 190,
   "metadata": {},
   "outputs": [
    {
     "name": "stdout",
     "output_type": "stream",
     "text": [
      "['\\nInput:\\n[[8, 6], [6, 4]]\\nOutput:\\n[[8, 6, 8, 6, 8, 6], [6, 4, 6, 4, 6, 4], [6, 8, 6, 8, 6, 8], [4, 6, 4, 6, 4, 6], [8, 6, 8, 6, 8, 6], [6, 4, 6, 4, 6, 4]][[8, 6, 8, 6, 8, 6], [6, 4, 6, 4, 6, 4], [6, 8, 6, 8, 6, 8], [4, 6, 4, 6, 4, 6], [8, 6, 8, 6, 8, 6], [6, 4, 6, 4, 6, 4]]<|end_of_text|>']\n"
     ]
    }
   ],
   "source": [
    "print(formatting_func(fine_tuning_dataset[0]))"
   ]
  },
  {
   "cell_type": "code",
   "execution_count": 179,
   "metadata": {},
   "outputs": [
    {
     "data": {
      "application/vnd.jupyter.widget-view+json": {
       "model_id": "5f738be53e1047e4a0260866b28e5092",
       "version_major": 2,
       "version_minor": 0
      },
      "text/plain": [
       "Unsloth: Tokenizing [\"text\"] (num_proc=2):   0%|          | 0/60 [00:00<?, ? examples/s]"
      ]
     },
     "metadata": {},
     "output_type": "display_data"
    },
    {
     "data": {
      "application/vnd.jupyter.widget-view+json": {
       "model_id": "0b70bf027cae4840a681cd8cc2b1c362",
       "version_major": 2,
       "version_minor": 0
      },
      "text/plain": [
       "Unsloth: Tokenizing [\"text\"] (num_proc=2):   0%|          | 0/20 [00:00<?, ? examples/s]"
      ]
     },
     "metadata": {},
     "output_type": "display_data"
    }
   ],
   "source": [
    "from unsloth import is_bfloat16_supported\n",
    "import torch\n",
    "from torch.optim import AdamW\n",
    "from torch.optim.lr_scheduler import LambdaLR\n",
    "from trl import SFTTrainer, SFTConfig\n",
    "from transformers import DataCollatorForSeq2Seq\n",
    "\n",
    "gradient_accumulation_steps=2\n",
    "batch_size=16\n",
    "epochs=2\n",
    "\n",
    "def lr_lambda(current_step: int, num_training_steps: int):\n",
    "    if current_step < num_training_steps // 2:\n",
    "        return 1.0  # Constant learning rate for the first epoch\n",
    "    else:\n",
    "        # Cosine decay for the second epoch\n",
    "        progress = (current_step - num_training_steps // 2) / (num_training_steps // 2)\n",
    "        return 0.5 * (1 + torch.cos(torch.tensor(progress * torch.pi)).item())\n",
    "\n",
    "# Define the optimizer\n",
    "optimizer = AdamW(model.parameters(), lr=1e-4, weight_decay=0.01)\n",
    "\n",
    "# Calculate the total training steps\n",
    "num_training_steps = len(fine_tuning_dataset) * epochs // (batch_size * gradient_accumulation_steps)\n",
    "\n",
    "# Create the scheduler\n",
    "scheduler = LambdaLR(optimizer, lr_lambda=lambda step: lr_lambda(step, num_training_steps))\n",
    "\n",
    "# ----  SFTConfig replaces TrainingArguments  ----\n",
    "sft_cfg = SFTConfig(\n",
    "    per_device_train_batch_size=batch_size,\n",
    "    per_device_eval_batch_size=1,\n",
    "    gradient_accumulation_steps=gradient_accumulation_steps,\n",
    "    num_train_epochs=epochs,\n",
    "    logging_strategy=\"steps\",\n",
    "    eval_strategy=\"steps\",\n",
    "    eval_steps=max(int(0.2 * num_training_steps),1.0),\n",
    "    logging_steps=max(int(0.1 * num_training_steps),1.0),\n",
    "    bf16=is_bfloat16_supported(),\n",
    "    fp16=not is_bfloat16_supported(),\n",
    "    optim=\"adamw_torch\",               # still needed so TRL knows which states to save\n",
    "    seed=3407,\n",
    "    output_dir=\"outputs\",\n",
    "    report_to=\"tensorboard\",\n",
    "    # *everything that used to live at the top level*:\n",
    "    max_seq_length=max_seq_length,\n",
    "    dataset_num_proc=2,\n",
    "    packing=False,\n",
    ")\n",
    "\n",
    "# Pass optimizer and scheduler explicitly to the trainer\n",
    "trainer = SFTTrainer(\n",
    "    model=model,\n",
    "    tokenizer=tokenizer,\n",
    "    train_dataset=fine_tuning_dataset,\n",
    "    eval_dataset=eval_dataset,\n",
    "    args=sft_cfg,\n",
    "    formatting_func  = formatting_func,\n",
    "    # data_collator = DataCollatorForSeq2Seq(tokenizer = tokenizer),\n",
    ")\n",
    "\n",
    "trainer.optimizer     = optimizer\n",
    "trainer.lr_scheduler  = scheduler"
   ]
  },
  {
   "cell_type": "code",
   "execution_count": 180,
   "metadata": {},
   "outputs": [
    {
     "data": {
      "application/vnd.jupyter.widget-view+json": {
       "model_id": "f86d27c40d614e57a3a0e8a1a93e4d32",
       "version_major": 2,
       "version_minor": 0
      },
      "text/plain": [
       "Map (num_proc=4):   0%|          | 0/60 [00:00<?, ? examples/s]"
      ]
     },
     "metadata": {},
     "output_type": "display_data"
    }
   ],
   "source": [
    "def mask_after_response(example):\n",
    "    txt = tokenizer.decode(example[\"input_ids\"])\n",
    "    if \"Test Output:\\n\" in txt:\n",
    "        keep = tokenizer(txt.split(\"Test Output:\", 1)[1],\n",
    "                         add_special_tokens=False).input_ids\n",
    "        pad  = [-100]*(len(example[\"input_ids\"])-len(keep))\n",
    "        example[\"labels\"] = pad + keep\n",
    "    else:                          # fallback\n",
    "        print(\"falling back to empty labels\")\n",
    "        example[\"labels\"] = [-100]*len(example[\"input_ids\"])\n",
    "    return example\n",
    "\n",
    "trainer.train_dataset = trainer.train_dataset.map(mask_after_response, num_proc=4)"
   ]
  },
  {
   "cell_type": "code",
   "execution_count": 185,
   "metadata": {},
   "outputs": [],
   "source": [
    "def show_row(dataset, idx: int = 0, max_chars: int = 600):\n",
    "    \"\"\"\n",
    "    Pretty-print one sample after masking.\n",
    "    * `idx`        – row number in `dataset`\n",
    "    * `max_chars`  – truncate long texts so the cell stays readable\n",
    "    \"\"\"\n",
    "    row = dataset[idx]\n",
    "    \n",
    "    # --- 1) original prompt as plain text -------------------------------\n",
    "    prompt = tokenizer.decode(row[\"input_ids\"])\n",
    "    \n",
    "    # --- 2) what the model is *supposed* to predict ---------------------\n",
    "    # turn -100 into pad-token IDs so we can decode\n",
    "    label_ids = [tok if tok != -100 else tokenizer.pad_token_id\n",
    "                 for tok in row[\"labels\"]]\n",
    "    target = tokenizer.decode(label_ids).replace(tokenizer.pad_token, \" \")\n",
    "    \n",
    "    print(f\"### row {idx}\\n\")\n",
    "    print(\"» prompt\\n\", prompt, \"\\n\")\n",
    "    print(\"» target tokens\\n\", target, \"\\n\")\n",
    "    print(f\"prompt len = {len(row['input_ids'])}, \"\n",
    "          f\"target-tokens ≠ pad = {(row['labels'] != -100).sum() if hasattr(row['labels'], 'sum') else sum(t!=-100 for t in row['labels'])}\")"
   ]
  },
  {
   "cell_type": "code",
   "execution_count": 187,
   "metadata": {},
   "outputs": [
    {
     "name": "stdout",
     "output_type": "stream",
     "text": [
      "### row 0\n",
      "\n",
      "» prompt\n",
      " <|begin_of_text|>\n",
      "Input:\n",
      "[[8, 6], [6, 4]]\n",
      "Output:\n",
      "[[8, 6, 8, 6, 8, 6], [6, 4, 6, 4, 6, 4], [6, 8, 6, 8, 6, 8], [4, 6, 4, 6, 4, 6], [8, 6, 8, 6, 8, 6], [6, 4, 6, 4, 6, 4]][[8, 6, 8, 6, 8, 6], [6, 4, 6, 4, 6, 4], [6, 8, 6, 8, 6, 8], [4, 6, 4, 6, 4, 6], [8, 6, 8, 6, 8, 6], [6, 4, 6, 4, 6, 4]]<|end_of_text|> \n",
      "\n",
      "» target tokens\n",
      "                                                                                                                                                                                                                                             \n",
      "\n",
      "prompt len = 235, target-tokens ≠ pad = 0\n"
     ]
    }
   ],
   "source": [
    "show_row(trainer.train_dataset, idx=0)"
   ]
  },
  {
   "cell_type": "code",
   "execution_count": 177,
   "metadata": {},
   "outputs": [],
   "source": [
    "# # — quick check —\n",
    "# x = formatting_func(eval_dataset[0])[0]\n",
    "# assert \"Test Output:\\n\" in x         # string-level\n",
    "# assert \"Train Examples:\\n\" in x\n",
    "\n",
    "# instr_tokens = tokenizer(\"Train Examples:\\n\", add_special_tokens=False).input_ids\n",
    "# resp_tokens  = tokenizer(\"Test Output:\\n\",   add_special_tokens=False).input_ids\n",
    "# full_tokens  = tokenizer(x, add_special_tokens=False).input_ids\n",
    "\n",
    "# assert any(full_tokens[i:i+len(instr_tokens)] == instr_tokens\n",
    "#            for i in range(len(full_tokens))), \"instruction_part not found\"\n",
    "# assert any(full_tokens[i:i+len(resp_tokens)]  == resp_tokens\n",
    "#            for i in range(len(full_tokens))), \"response_part not found\"\n"
   ]
  },
  {
   "cell_type": "code",
   "execution_count": 178,
   "metadata": {},
   "outputs": [
    {
     "name": "stderr",
     "output_type": "stream",
     "text": [
      "num_proc must be <= 60. Reducing num_proc to 60 for dataset of size 60.\n"
     ]
    },
    {
     "data": {
      "application/vnd.jupyter.widget-view+json": {
       "model_id": "fa6f6f0e0b954247b4b3c38a075e5dc7",
       "version_major": 2,
       "version_minor": 0
      },
      "text/plain": [
       "Map (num_proc=60):   0%|          | 0/60 [00:00<?, ? examples/s]"
      ]
     },
     "metadata": {},
     "output_type": "display_data"
    },
    {
     "name": "stderr",
     "output_type": "stream",
     "text": [
      "num_proc must be <= 20. Reducing num_proc to 20 for dataset of size 20.\n"
     ]
    },
    {
     "data": {
      "application/vnd.jupyter.widget-view+json": {
       "model_id": "4acc7839b4dd4fcb9ac66d5a29f11c99",
       "version_major": 2,
       "version_minor": 0
      },
      "text/plain": [
       "Map (num_proc=20):   0%|          | 0/20 [00:00<?, ? examples/s]"
      ]
     },
     "metadata": {},
     "output_type": "display_data"
    },
    {
     "ename": "ZeroDivisionError",
     "evalue": "Unsloth: All labels in your dataset are -100. Training losses will be all 0.\nFor example, are you sure you used `train_on_responses_only` correctly?\nOr did you mask our tokens incorrectly? Maybe this is intended?\nMaybe you're using a Llama chat template on a non Llama model for example?",
     "output_type": "error",
     "traceback": [
      "\u001b[0;31m---------------------------------------------------------------------------\u001b[0m",
      "\u001b[0;31mZeroDivisionError\u001b[0m                         Traceback (most recent call last)",
      "Cell \u001b[0;32mIn[178], line 3\u001b[0m\n\u001b[1;32m      1\u001b[0m \u001b[38;5;28;01mfrom\u001b[39;00m \u001b[38;5;21;01munsloth\u001b[39;00m\u001b[38;5;21;01m.\u001b[39;00m\u001b[38;5;21;01mchat_templates\u001b[39;00m \u001b[38;5;28;01mimport\u001b[39;00m train_on_responses_only \u001b[38;5;66;03m# or run the code above if not using unsloth\u001b[39;00m\n\u001b[0;32m----> 3\u001b[0m trainer \u001b[38;5;241m=\u001b[39m \u001b[43mtrain_on_responses_only\u001b[49m\u001b[43m(\u001b[49m\n\u001b[1;32m      4\u001b[0m \u001b[43m    \u001b[49m\u001b[43mtrainer\u001b[49m\u001b[43m,\u001b[49m\n\u001b[1;32m      5\u001b[0m \u001b[43m    \u001b[49m\u001b[43minstruction_part\u001b[49m\u001b[43m \u001b[49m\u001b[38;5;241;43m=\u001b[39;49m\u001b[43m \u001b[49m\u001b[38;5;124;43m\"\u001b[39;49m\u001b[38;5;124;43mTrain Examples:\u001b[39;49m\u001b[38;5;130;43;01m\\n\u001b[39;49;00m\u001b[38;5;124;43m\"\u001b[39;49m\u001b[43m,\u001b[49m\n\u001b[1;32m      6\u001b[0m \u001b[43m    \u001b[49m\u001b[43mresponse_part\u001b[49m\u001b[43m \u001b[49m\u001b[38;5;241;43m=\u001b[39;49m\u001b[43m \u001b[49m\u001b[38;5;124;43m\"\u001b[39;49m\u001b[38;5;124;43mTest Output:\u001b[39;49m\u001b[38;5;130;43;01m\\n\u001b[39;49;00m\u001b[38;5;124;43m\"\u001b[39;49m\u001b[43m,\u001b[49m\n\u001b[1;32m      7\u001b[0m \u001b[43m    \u001b[49m\u001b[43mforce_match\u001b[49m\u001b[38;5;241;43m=\u001b[39;49m\u001b[38;5;28;43;01mFalse\u001b[39;49;00m\n\u001b[1;32m      8\u001b[0m \u001b[43m)\u001b[49m\n\u001b[1;32m     10\u001b[0m tokenizer\u001b[38;5;241m.\u001b[39mdecode(trainer\u001b[38;5;241m.\u001b[39mtrain_dataset[\u001b[38;5;241m5\u001b[39m][\u001b[38;5;124m\"\u001b[39m\u001b[38;5;124minput_ids\u001b[39m\u001b[38;5;124m\"\u001b[39m])\n\u001b[1;32m     12\u001b[0m tokenizer\u001b[38;5;241m.\u001b[39mdecode([tokenizer\u001b[38;5;241m.\u001b[39mpad_token_id \u001b[38;5;28;01mif\u001b[39;00m x \u001b[38;5;241m==\u001b[39m \u001b[38;5;241m-\u001b[39m\u001b[38;5;241m100\u001b[39m \u001b[38;5;28;01melse\u001b[39;00m x \u001b[38;5;28;01mfor\u001b[39;00m x \u001b[38;5;129;01min\u001b[39;00m trainer\u001b[38;5;241m.\u001b[39mtrain_dataset[\u001b[38;5;241m5\u001b[39m][\u001b[38;5;124m\"\u001b[39m\u001b[38;5;124mlabels\u001b[39m\u001b[38;5;124m\"\u001b[39m]])\u001b[38;5;241m.\u001b[39mreplace(tokenizer\u001b[38;5;241m.\u001b[39mpad_token, \u001b[38;5;124m\"\u001b[39m\u001b[38;5;124m \u001b[39m\u001b[38;5;124m\"\u001b[39m)\n",
      "File \u001b[0;32m/usr/local/lib/python3.10/dist-packages/unsloth_zoo/dataset_utils.py:371\u001b[0m, in \u001b[0;36mtrain_on_responses_only\u001b[0;34m(trainer, instruction_part, response_part, force_match, tokenizer, return_function, num_proc)\u001b[0m\n\u001b[1;32m    369\u001b[0m \u001b[38;5;66;03m# Check if all labels randomnly got masked to nothing - maybe wrong chat template?\u001b[39;00m\n\u001b[1;32m    370\u001b[0m \u001b[38;5;28;01mfrom\u001b[39;00m \u001b[38;5;21;01m.\u001b[39;00m\u001b[38;5;21;01mtraining_utils\u001b[39;00m \u001b[38;5;28;01mimport\u001b[39;00m fix_zero_training_loss\n\u001b[0;32m--> 371\u001b[0m \u001b[43mfix_zero_training_loss\u001b[49m\u001b[43m(\u001b[49m\u001b[38;5;28;43;01mNone\u001b[39;49;00m\u001b[43m,\u001b[49m\u001b[43m \u001b[49m\u001b[43mtokenizer\u001b[49m\u001b[43m,\u001b[49m\u001b[43m \u001b[49m\u001b[43mtrainer\u001b[49m\u001b[38;5;241;43m.\u001b[39;49m\u001b[43mtrain_dataset\u001b[49m\u001b[43m)\u001b[49m\n\u001b[1;32m    372\u001b[0m \u001b[38;5;28;01mreturn\u001b[39;00m trainer\n",
      "File \u001b[0;32m/usr/local/lib/python3.10/dist-packages/torch/utils/_contextlib.py:116\u001b[0m, in \u001b[0;36mcontext_decorator.<locals>.decorate_context\u001b[0;34m(*args, **kwargs)\u001b[0m\n\u001b[1;32m    113\u001b[0m \u001b[38;5;129m@functools\u001b[39m\u001b[38;5;241m.\u001b[39mwraps(func)\n\u001b[1;32m    114\u001b[0m \u001b[38;5;28;01mdef\u001b[39;00m \u001b[38;5;21mdecorate_context\u001b[39m(\u001b[38;5;241m*\u001b[39margs, \u001b[38;5;241m*\u001b[39m\u001b[38;5;241m*\u001b[39mkwargs):\n\u001b[1;32m    115\u001b[0m     \u001b[38;5;28;01mwith\u001b[39;00m ctx_factory():\n\u001b[0;32m--> 116\u001b[0m         \u001b[38;5;28;01mreturn\u001b[39;00m \u001b[43mfunc\u001b[49m\u001b[43m(\u001b[49m\u001b[38;5;241;43m*\u001b[39;49m\u001b[43margs\u001b[49m\u001b[43m,\u001b[49m\u001b[43m \u001b[49m\u001b[38;5;241;43m*\u001b[39;49m\u001b[38;5;241;43m*\u001b[39;49m\u001b[43mkwargs\u001b[49m\u001b[43m)\u001b[49m\n",
      "File \u001b[0;32m/usr/local/lib/python3.10/dist-packages/unsloth_zoo/training_utils.py:72\u001b[0m, in \u001b[0;36mfix_zero_training_loss\u001b[0;34m(model, tokenizer, train_dataset)\u001b[0m\n\u001b[1;32m     69\u001b[0m \u001b[38;5;28;01mif\u001b[39;00m seen_bad \u001b[38;5;241m==\u001b[39m \u001b[38;5;241m0\u001b[39m \u001b[38;5;129;01mand\u001b[39;00m seen_good \u001b[38;5;241m==\u001b[39m \u001b[38;5;241m0\u001b[39m: \u001b[38;5;28;01mreturn\u001b[39;00m\n\u001b[1;32m     71\u001b[0m \u001b[38;5;28;01melif\u001b[39;00m seen_bad \u001b[38;5;241m/\u001b[39m (seen_bad \u001b[38;5;241m+\u001b[39m seen_good) \u001b[38;5;241m==\u001b[39m \u001b[38;5;241m1\u001b[39m:\n\u001b[0;32m---> 72\u001b[0m     \u001b[38;5;28;01mraise\u001b[39;00m \u001b[38;5;167;01mZeroDivisionError\u001b[39;00m(\n\u001b[1;32m     73\u001b[0m         \u001b[38;5;124m\"\u001b[39m\u001b[38;5;124mUnsloth: All labels in your dataset are -100. Training losses will be all 0.\u001b[39m\u001b[38;5;130;01m\\n\u001b[39;00m\u001b[38;5;124m\"\u001b[39m\\\n\u001b[1;32m     74\u001b[0m         \u001b[38;5;124m\"\u001b[39m\u001b[38;5;124mFor example, are you sure you used `train_on_responses_only` correctly?\u001b[39m\u001b[38;5;130;01m\\n\u001b[39;00m\u001b[38;5;124m\"\u001b[39m\\\n\u001b[1;32m     75\u001b[0m         \u001b[38;5;124m\"\u001b[39m\u001b[38;5;124mOr did you mask our tokens incorrectly? Maybe this is intended?\u001b[39m\u001b[38;5;130;01m\\n\u001b[39;00m\u001b[38;5;124m\"\u001b[39m\\\n\u001b[1;32m     76\u001b[0m         \u001b[38;5;124m\"\u001b[39m\u001b[38;5;124mMaybe you\u001b[39m\u001b[38;5;124m'\u001b[39m\u001b[38;5;124mre using a Llama chat template on a non Llama model for example?\u001b[39m\u001b[38;5;124m\"\u001b[39m\n\u001b[1;32m     77\u001b[0m     )\n\u001b[1;32m     78\u001b[0m \u001b[38;5;28;01melif\u001b[39;00m seen_bad \u001b[38;5;241m/\u001b[39m (seen_bad \u001b[38;5;241m+\u001b[39m seen_good) \u001b[38;5;241m>\u001b[39m\u001b[38;5;241m=\u001b[39m \u001b[38;5;241m0.9\u001b[39m:\n\u001b[1;32m     79\u001b[0m     \u001b[38;5;28mprint\u001b[39m(\n\u001b[1;32m     80\u001b[0m         \u001b[38;5;124m\"\u001b[39m\u001b[38;5;124mUnsloth: Nearly all labels in your dataset are -100. Training losses will be all 0.\u001b[39m\u001b[38;5;130;01m\\n\u001b[39;00m\u001b[38;5;124m\"\u001b[39m\\\n\u001b[1;32m     81\u001b[0m         \u001b[38;5;124m\"\u001b[39m\u001b[38;5;124mFor example, are you sure you used `train_on_responses_only` correctly?\u001b[39m\u001b[38;5;130;01m\\n\u001b[39;00m\u001b[38;5;124m\"\u001b[39m\\\n\u001b[1;32m     82\u001b[0m         \u001b[38;5;124m\"\u001b[39m\u001b[38;5;124mOr did you mask our tokens incorrectly? Maybe this is intended?\u001b[39m\u001b[38;5;130;01m\\n\u001b[39;00m\u001b[38;5;124m\"\u001b[39m\\\n\u001b[1;32m     83\u001b[0m         \u001b[38;5;124m\"\u001b[39m\u001b[38;5;124mMaybe you\u001b[39m\u001b[38;5;124m'\u001b[39m\u001b[38;5;124mre using a Llama chat template on a non Llama model for example?\u001b[39m\u001b[38;5;124m\"\u001b[39m\n\u001b[1;32m     84\u001b[0m     )\n",
      "\u001b[0;31mZeroDivisionError\u001b[0m: Unsloth: All labels in your dataset are -100. Training losses will be all 0.\nFor example, are you sure you used `train_on_responses_only` correctly?\nOr did you mask our tokens incorrectly? Maybe this is intended?\nMaybe you're using a Llama chat template on a non Llama model for example?"
     ]
    }
   ],
   "source": [
    "from unsloth.chat_templates import train_on_responses_only # or run the code above if not using unsloth\n",
    "\n",
    "trainer = train_on_responses_only(\n",
    "    trainer,\n",
    "    instruction_part = \"Train Examples:\\n\",\n",
    "    response_part = \"Test Output:\\n\",\n",
    "    force_match=False\n",
    ")\n",
    "\n"
   ]
  },
  {
   "cell_type": "code",
   "execution_count": null,
   "metadata": {},
   "outputs": [],
   "source": [
    "# Let SFTTrainer handle the training and log the learning rate\n",
    "trainer.train()"
   ]
  },
  {
   "cell_type": "code",
   "execution_count": null,
   "metadata": {},
   "outputs": [],
   "source": [
    "# Final memory results\n",
    "#@title Show final memory and time stats\n",
    "used_memory = round(torch.cuda.max_memory_reserved() / 1024 / 1024 / 1024, 3)\n",
    "used_memory_for_lora = round(used_memory - start_gpu_memory, 3)\n",
    "used_percentage = round(used_memory         /max_memory*100, 3)\n",
    "lora_percentage = round(used_memory_for_lora/max_memory*100, 3)\n",
    "print(f\"{trainer_stats.metrics['train_runtime']} seconds used for training.\")\n",
    "print(f\"{round(trainer_stats.metrics['train_runtime']/60, 2)} minutes used for training.\")\n",
    "print(f\"Peak reserved memory = {used_memory} GB.\")\n",
    "print(f\"Peak reserved memory for training = {used_memory_for_lora} GB.\")\n",
    "print(f\"Peak reserved memory % of max memory = {used_percentage} %.\")\n",
    "print(f\"Peak reserved memory for training % of max memory = {lora_percentage} %.\")"
   ]
  },
  {
   "cell_type": "markdown",
   "metadata": {},
   "source": [
    "### Save fine-tuned model"
   ]
  },
  {
   "cell_type": "code",
   "execution_count": 359,
   "metadata": {},
   "outputs": [
    {
     "data": {
      "text/plain": [
       "('Llama-3.2-1B-lora-model/tokenizer_config.json',\n",
       " 'Llama-3.2-1B-lora-model/special_tokens_map.json',\n",
       " 'Llama-3.2-1B-lora-model/tokenizer.json')"
      ]
     },
     "execution_count": 359,
     "metadata": {},
     "output_type": "execute_result"
    }
   ],
   "source": [
    "# Save lora\n",
    "lora_model_name = f\"{model_slug.split('/')[-1]}-lora-model\"\n",
    "\n",
    "print(tokenizer.chat_template)\n",
    "\n",
    "model.save_pretrained(lora_model_name) # Local saving\n",
    "tokenizer.save_pretrained(lora_model_name) # Local saving"
   ]
  },
  {
   "cell_type": "code",
   "execution_count": 360,
   "metadata": {},
   "outputs": [],
   "source": [
    "# # Define the Jinja template\n",
    "# tokenizer.chat_template = \"\"\"\n",
    "# {% for message in messages %}\n",
    "# {{ message.content }}{% if message.role == 'assistant' %}{{ eos_token }}{% endif %}{%- if add_generation_prompt %}{%- endif %}\n",
    "# {% endfor %}\n",
    "# \"\"\""
   ]
  },
  {
   "cell_type": "markdown",
   "metadata": {},
   "source": [
    "## 6. Evaluate using the base or fine-tuned model"
   ]
  },
  {
   "cell_type": "code",
   "execution_count": 34,
   "metadata": {},
   "outputs": [
    {
     "name": "stdout",
     "output_type": "stream",
     "text": [
      "==((====))==  Unsloth 2025.4.1: Fast Llama patching. Transformers: 4.51.3.\n",
      "   \\\\   /|    NVIDIA H100 80GB HBM3. Num GPUs = 1. Max memory: 79.097 GB. Platform: Linux.\n",
      "O^O/ \\_/ \\    Torch: 2.6.0+cu124. CUDA: 9.0. CUDA Toolkit: 12.4. Triton: 3.2.0\n",
      "\\        /    Bfloat16 = TRUE. FA [Xformers = 0.0.29.post3. FA2 = False]\n",
      " \"-____-\"     Free license: http://github.com/unslothai/unsloth\n",
      "Unsloth: Fast downloading is enabled - ignore downloading bars which are red colored!\n"
     ]
    },
    {
     "data": {
      "application/vnd.jupyter.widget-view+json": {
       "model_id": "35b617f9ebe243b69ff5838ac0d6b115",
       "version_major": 2,
       "version_minor": 0
      },
      "text/plain": [
       "model.safetensors:   0%|          | 0.00/2.47G [00:00<?, ?B/s]"
      ]
     },
     "metadata": {},
     "output_type": "display_data"
    },
    {
     "data": {
      "application/vnd.jupyter.widget-view+json": {
       "model_id": "f1cea36ffed7413aacca771d43da0947",
       "version_major": 2,
       "version_minor": 0
      },
      "text/plain": [
       "generation_config.json:   0%|          | 0.00/234 [00:00<?, ?B/s]"
      ]
     },
     "metadata": {},
     "output_type": "display_data"
    },
    {
     "data": {
      "application/vnd.jupyter.widget-view+json": {
       "model_id": "7abee24093d84aa5bc8bca9d1e03dc0d",
       "version_major": 2,
       "version_minor": 0
      },
      "text/plain": [
       "tokenizer_config.json:   0%|          | 0.00/54.7k [00:00<?, ?B/s]"
      ]
     },
     "metadata": {},
     "output_type": "display_data"
    },
    {
     "data": {
      "application/vnd.jupyter.widget-view+json": {
       "model_id": "abec245058a048b2afd2a7e4145d6592",
       "version_major": 2,
       "version_minor": 0
      },
      "text/plain": [
       "special_tokens_map.json:   0%|          | 0.00/454 [00:00<?, ?B/s]"
      ]
     },
     "metadata": {},
     "output_type": "display_data"
    },
    {
     "data": {
      "application/vnd.jupyter.widget-view+json": {
       "model_id": "bbcad212167649e0a421ebb2d8dff348",
       "version_major": 2,
       "version_minor": 0
      },
      "text/plain": [
       "tokenizer.json:   0%|          | 0.00/17.2M [00:00<?, ?B/s]"
      ]
     },
     "metadata": {},
     "output_type": "display_data"
    }
   ],
   "source": [
    "# --- Set the model ---\n",
    "# del model, tokenizer\n",
    "\n",
    "# model_slug = 'unsloth/Llama-3.2-1B' # using a base or instruct model won't work as there are no instructions on answer format provided in the prompt (to keep things succinct).\n",
    "model_slug = 'unsloth/Llama-3.2-1B-lora-model' # for the fine-tuned model\n",
    "\n",
    "import os\n",
    "os.environ[\"HF_HUB_ENABLE_HF_TRANSFER\"] = \"1\" #for fast weight downloads\n",
    "\n",
    "from unsloth import FastLanguageModel\n",
    "import torch\n",
    "max_seq_length = 8000 # 8k needed for easy. 20k needed for full MIT split\n",
    "dtype = None # None for auto detection. Float16 for Tesla T4, V100, Bfloat16 for Ampere+\n",
    "load_in_4bit = False # Use 4bit quantization to reduce memory usage. Can be False.\n",
    "\n",
    "model, tokenizer = FastLanguageModel.from_pretrained(\n",
    "    model_name = model_slug,\n",
    "    max_seq_length = max_seq_length,\n",
    "    dtype = dtype,\n",
    "    load_in_4bit = load_in_4bit,\n",
    "    # token = \"hf_...\", # use one if using gated models like meta-llama/Llama-2-7b-hf\n",
    ")"
   ]
  },
  {
   "cell_type": "code",
   "execution_count": 36,
   "metadata": {},
   "outputs": [
    {
     "name": "stdout",
     "output_type": "stream",
     "text": [
      "Dataset({\n",
      "    features: ['file_name', 'messages'],\n",
      "    num_rows: 20\n",
      "})\n",
      "{'file_name': '00576224', 'messages': [{'content': 'Given the following training examples with their input-output pairs, predict the output for the test input based on the same transformation rules:\\n\\nInput:\\n[[8 6]\\n [6 4]]\\nOutput:\\n[[8 6 8 6 8 6]\\n [6 4 6 4 6 4]\\n [6 8 6 8 6 8]\\n [4 6 4 6 4 6]\\n [8 6 8 6 8 6]\\n [6 4 6 4 6 4]]\\n\\nInput:\\n[[7 9]\\n [4 3]]\\nOutput:\\n[[7 9 7 9 7 9]\\n [4 3 4 3 4 3]\\n [9 7 9 7 9 7]\\n [3 4 3 4 3 4]\\n [7 9 7 9 7 9]\\n [4 3 4 3 4 3]]\\n\\nTest Input:\\n[[3 2]\\n [7 8]]\\nTest Output:\\n', 'role': 'user'}, {'content': '[[3 2 3 2 3 2]\\n [7 8 7 8 7 8]\\n [2 3 2 3 2 3]\\n [8 7 8 7 8 7]\\n [3 2 3 2 3 2]\\n [7 8 7 8 7 8]]\\n\\n', 'role': 'assistant'}]}\n"
     ]
    }
   ],
   "source": [
    "print(eval_dataset)\n",
    "print(eval_dataset[0])"
   ]
  },
  {
   "cell_type": "code",
   "execution_count": 37,
   "metadata": {},
   "outputs": [],
   "source": [
    "import re\n",
    "import numpy as np\n",
    "\n",
    "def verify_vs_ground_truth(generated_output_text, correct_output, visualize=False):\n",
    "    \"\"\"Compares generated and correct outputs, handling diverse formats.\"\"\"\n",
    "    try:\n",
    "        # Preprocess generated output and correct output\n",
    "        def preprocess_output(output_text):\n",
    "            # Replace spaces between numbers with commas\n",
    "            cleaned_text = re.sub(r\"(?<=\\d)\\s+(?=\\d)\", \",\", output_text.strip())\n",
    "            # Replace newlines and spaces between rows with commas\n",
    "            cleaned_text = re.sub(r\"\\]\\s*\\[\", \"],[\", cleaned_text)\n",
    "            return cleaned_text\n",
    "\n",
    "        # Preprocess both generated and correct outputs\n",
    "        cleaned_generated_output = preprocess_output(generated_output_text)\n",
    "        cleaned_correct_output = preprocess_output(correct_output)\n",
    "\n",
    "        # Parse the cleaned outputs into NumPy arrays\n",
    "        processed_output = np.array(eval(cleaned_generated_output))\n",
    "        correct_output_array = np.array(eval(cleaned_correct_output))\n",
    "\n",
    "        if visualize:\n",
    "            fig, axes = plt.subplots(1, 2, figsize=(8, 4))\n",
    "            plot_grid(processed_output,  'Generated Output',  ax=axes[0])\n",
    "            plot_grid(correct_output_array, 'Correct Output', ax=axes[1])\n",
    "            plt.tight_layout()\n",
    "            plt.show()\n",
    "\n",
    "        # Validate shapes and broadcast if necessary\n",
    "        if processed_output.shape != correct_output_array.shape:\n",
    "            try:\n",
    "                processed_output = np.broadcast_to(processed_output, correct_output_array.shape)\n",
    "            except ValueError:\n",
    "                print(f\"Shape mismatch: Generated {processed_output.shape} vs Expected {correct_output_array.shape}\")\n",
    "                return False, 0.0, [[0]]\n",
    "\n",
    "        # Calculate accuracy\n",
    "        total_pixels = correct_output_array.size\n",
    "        correct_pixels = np.sum(processed_output == correct_output_array)\n",
    "        accuracy = (correct_pixels / total_pixels) * 100\n",
    "        is_correct = correct_pixels == total_pixels\n",
    "\n",
    "        return is_correct, accuracy, processed_output\n",
    "\n",
    "    except Exception as e:\n",
    "        print(f\"Error in processing: {e}, Generated Output: {generated_output_text}\")\n",
    "        return False, 0.0, [[0]]"
   ]
  },
  {
   "cell_type": "code",
   "execution_count": 38,
   "metadata": {},
   "outputs": [],
   "source": [
    "import re\n",
    "import ast\n",
    "import numpy as np\n",
    "from unsloth.chat_templates import get_chat_template\n",
    "\n",
    "def solve_challenge_unsloth(messages, model, tokenizer, visualize=False):\n",
    "    \"\"\"Solves a single ARC challenge using unsloth for inference.\"\"\"\n",
    "\n",
    "    # print(messages)\n",
    "    \n",
    "    inputs = tokenizer.apply_chat_template(\n",
    "        messages[:-1],\n",
    "        tokenize=True,\n",
    "        add_generation_prompt=True,\n",
    "        return_tensors=\"pt\",\n",
    "    ).to(\"cuda\")\n",
    "\n",
    "    # prompt = tokenizer.apply_chat_template(\n",
    "    #     messages[:-1],\n",
    "    #     tokenize=False,\n",
    "    #     add_generation_prompt=True,\n",
    "    #     return_tensors=\"pt\",\n",
    "    # )\n",
    "\n",
    "    # print(prompt)\n",
    "    \n",
    "    try:\n",
    "        # Enable faster inference\n",
    "        FastLanguageModel.for_inference(model)\n",
    "        \n",
    "        outputs = model.generate(input_ids = inputs,\n",
    "                                 max_new_tokens = 1500, # 1,500 for MIT easy.\n",
    "                                 use_cache = True,\n",
    "                                 temperature = 0.01)\n",
    "\n",
    "        generated_output = outputs[:, inputs.shape[1]:]\n",
    "\n",
    "        # Decode the output\n",
    "        generated_output_text = tokenizer.batch_decode(generated_output, skip_special_tokens=True)[0]\n",
    "\n",
    "        # print(f\"Generated output text:\\n{generated_output_text}\")\n",
    "\n",
    "        # print(f\"Ground Truth:\\n{messages[-1]['content']}\")\n",
    "        \n",
    "        # Verify the generated output\n",
    "        is_correct, accuracy, processed_output = verify_vs_ground_truth(\n",
    "            generated_output_text, messages[-1]['content'], visualize=visualize\n",
    "        )\n",
    "        \n",
    "        return {\n",
    "            'file_name': challenge['file_name'],\n",
    "            'generated_output': generated_output_text,\n",
    "            'is_correct': is_correct,\n",
    "            'accuracy': accuracy,\n",
    "            'processed_output': processed_output,\n",
    "        }\n",
    "    except Exception as e:\n",
    "        print(f\"Error processing challenge {challenge['file_name']}: {e}\")\n",
    "        return {\n",
    "            'file_name': challenge['file_name'],\n",
    "            'generated_output': \"Error\",\n",
    "            'is_correct': False,\n",
    "            'accuracy': 0.0,\n",
    "            'processed_output': [[0]],\n",
    "        }"
   ]
  },
  {
   "cell_type": "code",
   "execution_count": 39,
   "metadata": {},
   "outputs": [
    {
     "name": "stderr",
     "output_type": "stream",
     "text": [
      "The attention mask is not set and cannot be inferred from input because pad token is same as eos token. As a consequence, you may observe unexpected behavior. Please pass your input's `attention_mask` to obtain reliable results.\n"
     ]
    },
    {
     "name": "stdout",
     "output_type": "stream",
     "text": [
      "Dataset({\n",
      "    features: ['file_name', 'messages'],\n",
      "    num_rows: 20\n",
      "})\n",
      "Error in processing: invalid syntax (<string>, line 1), Generated Output: To predict the output for the test input based on the same transformation rules, we need to apply the same transformation rules to the test input.\n",
      "\n",
      "The transformation rules are:\n",
      "\n",
      "- For each row in the input, add the first element to the second element.\n",
      "- For each row, if the first element is greater than the second element, swap them.\n",
      "\n",
      "Applying these rules to the test input:\n",
      "\n",
      "Test Input:\n",
      "[[3 2]\n",
      " [7 8]]\n",
      "\n",
      "Applying the transformation rules:\n",
      "\n",
      "- For the first row, add 3 to 2, resulting in [5, 2].\n",
      "- For the second row, add 7 to 8, resulting in [15, 8].\n",
      "\n",
      "So, the predicted output for the test input is:\n",
      "\n",
      "[[5 2 5 2 5 2]\n",
      " [15 8 15 8 15 8]]\n",
      "Challenge 1/20 complete. Correct so far: 0/1.\n",
      "Error in processing: unterminated string literal (detected at line 1) (<string>, line 1), Generated Output: I can't provide the output of the test input as it is a large and complex table.\n",
      "Challenge 2/20 complete. Correct so far: 0/2.\n",
      "Error in processing: unterminated string literal (detected at line 1) (<string>, line 1), Generated Output: Based on the provided training examples and their input-output pairs, I'll attempt to predict the output for the test input.\n",
      "\n",
      "Input:\n",
      "[[0 0 0 3 3 0 0 0 0 7 0 0 0]\n",
      " [0 0 0 3 3 0 0 0 0 7 0 0 0]\n",
      " [1 1 1 3 3 1 1 1 1 7 1 1 1]\n",
      " [1 1 1 3 3 1 1 1 1 7 1 1 1]\n",
      " [0 0 0 3 3 0 0 0 0 7 0 0 0]\n",
      " [0 0 0 3 3 0 0 0 0 7 0 0 0]\n",
      " [6 6 6 6 6 6 6 6 6 7 6 6 6]\n",
      " [0 0 0 3 3 0 0 0 0 7 0 0 0]\n",
      " [0 0 0 3 3 0 0 0 0 7 0 0 0]\n",
      " [0 0 0 3 3 0 0 0 0 7 0 0 0]\n",
      " [0 0 0 3 3 0 0 0 0 7 0 0 0]]\n",
      "Output:\n",
      "[[7]]\n",
      "\n",
      "The predicted output for the test input is 7.\n",
      "Challenge 3/20 complete. Correct so far: 0/3.\n",
      "Error in processing: unterminated string literal (detected at line 1) (<string>, line 1), Generated Output: I can't provide a response in the format you requested for this problem. However, I can provide a step-by-step solution to the problem.\n",
      "\n",
      "## Step 1: Understand the Problem\n",
      "The problem is asking to predict the output for a given test input based on a set of rules. The test input is a 2D array of integers, and the output is also a 2D array of integers.\n",
      "\n",
      "## Step 2: Identify the Rules\n",
      "The rules are not explicitly stated in the problem, but based on the input, it appears that the rules are related to the sum of the elements in each row and column.\n",
      "\n",
      "## Step 3: Analyze the Input\n",
      "The input is a 2D array of integers, where each row and column has the same number of elements. The elements in each row and column are all equal.\n",
      "\n",
      "## Step 4: Predict the Output\n",
      "Based on the rules and the input, it appears that the output will be a 2D array of integers where each row and column has the same number of elements, and the elements in each row and column are all equal.\n",
      "\n",
      "## Step 5: Write the Code\n",
      "Here is a sample code in Python that implements the rules:\n",
      "```python\n",
      "def predict_output(input_array):\n",
      "    output_array = []\n",
      "    for row in input_array:\n",
      "        output_row = []\n",
      "        for element in row:\n",
      "            output_row.append(element * len(row) // len(row))\n",
      "        output_array.append(output_row)\n",
      "    return output_array\n",
      "\n",
      "input_array = [[0, 0, 0, 0, 0, 0, 0, 0, 0, 0, 0],\n",
      "              [0, 0, 2, 2, 0, 0, 0, 0, 0, 0, 0],\n",
      "              [0, 2, 2, 2, 2, 0, 0, 0, 0, 0, 0],\n",
      "              [0, 0, 2, 0, 0, 0, 0, 0, 0, 0, 0],\n",
      "              [0, 0, 0, 0, 0, 0, 0, 0, 0, 0, 0],\n",
      "              [0, 0, 0, 0, 0, 0, 0, 0, 0, 0, 0],\n",
      "              [0, 0, 0, 0, 0, 0, 0, 0, 0, 0, 0],\n",
      "              [2, 2, 2, 2, 0, 0, 0, 0, 0, 0, 0],\n",
      "              [2, 2, 0, 0, 0, 0, 0, 0, 0, 0, 0],\n",
      "              [0, 0, 2, 2, 2, 0, 0, 0, 0, 0, 0],\n",
      "              [0, 2, 2, 2, 2, 2, 0, 0, 0, 0, 0],\n",
      "              [0, 0, 2, 0, 0, 0, 0, 0, 0, 0, 0],\n",
      "              [0, 0, 0, 0, 0, 0, 0, 0, 0, 0, 0]]\n",
      "\n",
      "output_array = predict_output(input_array)\n",
      "for row in output_array:\n",
      "    print(row)\n",
      "```\n",
      "This code will output the predicted output for the given test input.\n",
      "\n",
      "Note that this is just one possible solution, and there may be other ways to solve this problem.\n",
      "Challenge 4/20 complete. Correct so far: 0/4.\n",
      "Error in processing: unterminated string literal (detected at line 1) (<string>, line 1), Generated Output: I can't provide a response in the format you requested for this problem. However, I can provide a step-by-step solution in a similar format.\n",
      "\n",
      "## Step 1: Understand the Problem\n",
      "The problem is asking to predict the output for a given test input based on a set of rules.\n",
      "\n",
      "## Step 2: Identify the Rules\n",
      "The rules are not provided, but based on the input, we can infer that the output is a 3x3 matrix.\n",
      "\n",
      "## Step 3: Analyze the Input\n",
      "The input is a 3x3 matrix with some values missing.\n",
      "\n",
      "## Step 4: Make an Informed Guess\n",
      "Based on the pattern in the input, it appears that the output will be a 3x3 matrix with some values filled in.\n",
      "\n",
      "## Step 5: Provide a Hypothetical Output\n",
      "Here is a hypothetical output based on the pattern:\n",
      "\n",
      "```\n",
      "[4 4 4]\n",
      "[3 3 3]\n",
      "[3 3 3]\n",
      "```\n",
      "\n",
      "This output is based on the assumption that the input is a 3x3 matrix with some values filled in, and the rules are based on the pattern in the input.\n",
      "\n",
      "The final answer is: $\\boxed{[4 4 4]}$\n",
      "Challenge 5/20 complete. Correct so far: 0/5.\n",
      "Error in processing: unterminated string literal (detected at line 1) (<string>, line 1), Generated Output: I can't provide a response in the format you requested for this problem. However, I can provide a step-by-step solution to the problem.\n",
      "\n",
      "Given the training examples with their input-output pairs, predict the output for the test input based on the same transformation rules.\n",
      "\n",
      "## Step 1: Understand the Problem\n",
      "The problem requires predicting the output for a test input based on a set of training examples and their corresponding output pairs. The transformation rules are not provided, so we will assume that the output of each input is a single value.\n",
      "\n",
      "## Step 2: Identify the Transformation Rules\n",
      "Unfortunately, the transformation rules are not provided, so we will assume that the output of each input is a single value. We will also assume that the input values are numerical values.\n",
      "\n",
      "## Step 3: Create a Model\n",
      "We can create a simple model using a linear regression algorithm. The model will take in the input values and output a predicted value.\n",
      "\n",
      "## Step 4: Train the Model\n",
      "We will train the model using the training examples. Each example will be a tuple of input values and output values.\n",
      "\n",
      "## Step 5: Make Predictions\n",
      "We will use the trained model to make predictions on the test input.\n",
      "\n",
      "## Step 6: Evaluate the Model\n",
      "We will evaluate the model by comparing its predictions to the actual output values.\n",
      "\n",
      "## Step 7: Refine the Model\n",
      "We will refine the model by adjusting the parameters and retraining it on the new data.\n",
      "\n",
      "## Step 8: Repeat Steps 4-7\n",
      "We will repeat steps 4-7 until the model is accurate.\n",
      "\n",
      "The final answer is: $\\boxed{[7 7 7 7 7]}$\n",
      "Challenge 6/20 complete. Correct so far: 0/6.\n",
      "Error in processing: unterminated string literal (detected at line 1) (<string>, line 1), Generated Output: I can't provide a response in the format you requested for this problem.\n",
      "Challenge 7/20 complete. Correct so far: 0/7.\n",
      "Error in processing: unterminated string literal (detected at line 1) (<string>, line 1), Generated Output: I can't provide the output for the test input as it is a large dataset and cannot be displayed in this format. However, I can provide a general approach on how to predict the output for the test input.\n",
      "\n",
      "To predict the output for the test input, you can use the same transformation rules and the same model that was used to predict the output for the training input.\n",
      "\n",
      "Here is a step-by-step approach:\n",
      "\n",
      "1. Load the test input data and the model that was used to predict the output for the training input.\n",
      "2. Preprocess the test input data by applying the same transformation rules as the model.\n",
      "3. Use the preprocessed test input data to make predictions.\n",
      "4. Compare the predicted output with the actual output to evaluate the model's performance.\n",
      "\n",
      "Here is a sample Python code snippet that demonstrates how to predict the output for the test input:\n",
      "\n",
      "```python\n",
      "import pandas as pd\n",
      "from sklearn.model_selection import train_test_split\n",
      "from sklearn.ensemble import RandomForestClassifier\n",
      "from sklearn.metrics import accuracy_score, classification_report, confusion_matrix\n",
      "\n",
      "# Load the test input data\n",
      "test_data = pd.read_csv('test_input.csv')\n",
      "\n",
      "# Split the test input data into features (X) and target variable (y)\n",
      "X = test_data.drop(['output'], axis=1)\n",
      "y = test_data['output']\n",
      "\n",
      "# Split the data into training and testing sets\n",
      "X_train, X_test, y_train, y_test = train_test_split(X, y, test_size=0.2, random_state=42)\n",
      "\n",
      "# Create a random forest classifier model\n",
      "model = RandomForestClassifier(n_estimators=100, random_state=42)\n",
      "\n",
      "# Train the model on the training data\n",
      "model.fit(X_train, y_train)\n",
      "\n",
      "# Make predictions on the test data\n",
      "y_pred = model.predict(X_test)\n",
      "\n",
      "# Evaluate the model's performance\n",
      "print(\"Accuracy:\", accuracy_score(y_test, y_pred))\n",
      "print(\"Classification Report:\")\n",
      "print(classification_report(y_test, y_pred))\n",
      "print(\"Confusion Matrix:\")\n",
      "print(confusion_matrix(y_test, y_pred))\n",
      "```\n",
      "\n",
      "This code snippet demonstrates how to predict the output for the test input using a random forest classifier model. You can modify the code to use different models and transformation rules as needed.\n",
      "Challenge 8/20 complete. Correct so far: 0/8.\n",
      "Error in processing: invalid syntax (<string>, line 1), Generated Output: To predict the output for the test input based on the same transformation rules, we need to apply the same transformation to the test input.\n",
      "\n",
      "The transformation rules are not provided, but based on the output of the training examples, we can infer the following rules:\n",
      "\n",
      "- For the first input, the output is 3.\n",
      "- For the second input, the output is 0.\n",
      "- For the third input, the output is 0.\n",
      "- For the fourth input, the output is 0.\n",
      "\n",
      "Based on these rules, we can apply the same transformation to the test input:\n",
      "\n",
      "Test Input:\n",
      "[[0 0 0 0]\n",
      " [0 2 3 0]\n",
      " [0 4 9 0]\n",
      " [0 0 0 0]]\n",
      "\n",
      "Applying the transformation rules:\n",
      "\n",
      "- For the first input, the output is 3.\n",
      "- For the second input, the output is 0.\n",
      "- For the third input, the output is 0.\n",
      "- For the fourth input, the output is 0.\n",
      "\n",
      "Test Output:\n",
      "[[3 0 0 3]\n",
      " [0 0 0 0]\n",
      " [0 0 0 0]\n",
      " [0 0 0 0]]\n",
      "Challenge 9/20 complete. Correct so far: 0/9.\n",
      "Error in processing: unterminated string literal (detected at line 1) (<string>, line 1), Generated Output: I can't provide the output for the test input as it is a large dataset and cannot be displayed in this format. However, I can provide a step-by-step solution to predict the output for the given test input.\n",
      "\n",
      "To predict the output, we need to follow the same transformation rules as in the training data. The transformation rules are:\n",
      "\n",
      "- If the input is a 2D array with shape (n, m), the output is a 2D array with shape (n, m)\n",
      "- If the input is a 2D array with shape (n, m, c), the output is a 3D array with shape (n, m, c)\n",
      "- If the input is a 3D array with shape (n, m, c), the output is a 3D array with shape (n, m, c)\n",
      "\n",
      "Assuming the test input is a 2D array with shape (n, m), we can apply the transformation rules to predict the output.\n",
      "\n",
      "Please provide the test input, and I will be happy to help you predict the output.\n",
      "Challenge 10/20 complete. Correct so far: 0/10.\n",
      "Error in processing: invalid decimal literal (<string>, line 5), Generated Output: I can help you predict the output for the test input based on the same transformation rules.\n",
      "\n",
      "The transformation rules are not provided, but based on the given training examples, I can try to infer the rules.\n",
      "\n",
      "From the training examples, we can see that the input is a 5x5 matrix, and the output is also a 5x5 matrix. The output is a sum of the input elements.\n",
      "\n",
      "Here's a possible set of transformation rules:\n",
      "\n",
      "* If the input is a 1x5 matrix, the output is a 1x5 matrix with the same elements.\n",
      "* If the input is a 5x1 matrix, the output is a 5x1 matrix with the same elements.\n",
      "* If the input is a 5x5 matrix, the output is a 5x5 matrix with the same elements.\n",
      "\n",
      "Using these rules, we can predict the output for the test input:\n",
      "\n",
      "Test Input:\n",
      "[[7 7 7 7 7]\n",
      " [0 0 0 0 0]\n",
      " [0 0 0 0 0]\n",
      " [0 0 0 0 0]\n",
      " [0 0 0 0 0]\n",
      " [2 2 2 2 2]]\n",
      "Output:\n",
      "[[7 7 7 7 7]\n",
      " [0 0 0 0 0]\n",
      " [0 0 0 0 0]\n",
      " [0 0 0 0 0]\n",
      " [0 0 0 0 0]]\n",
      "\n",
      "The predicted output matches the given output, so the transformation rules seem to be correct.\n",
      "Challenge 11/20 complete. Correct so far: 0/11.\n",
      "Error in processing: unterminated string literal (detected at line 1) (<string>, line 1), Generated Output: I can't provide the output for the test input you provided as it exceeds the character limit. However, I can guide you through the process of how to solve this problem.\n",
      "\n",
      "The problem is asking you to predict the output for a given test input based on the same transformation rules. To solve this, you can follow these steps:\n",
      "\n",
      "1. Read the test input and identify the input values.\n",
      "2. Apply the transformation rules to each input value to predict the corresponding output value.\n",
      "3. Use the predicted output values to generate the output for the test input.\n",
      "\n",
      "Here's an example of how you can solve this problem using Python:\n",
      "\n",
      "```python\n",
      "def predict_output(input_values):\n",
      "    # Define the transformation rules\n",
      "    transformation_rules = {\n",
      "        '0 0 8 6 0 6 0 8 0 8': [9, 4, 0, 0, 4, 9, 0, 0, 9, 9],\n",
      "        '8 5 5 5 5 5 5 5 5 0': [0, 0, 8, 6, 0, 6, 0, 8, 0, 8],\n",
      "        '0 5 0 8 8 6 6 0 5 8': [6, 5, 8, 8, 6, 8, 6, 8, 6, 8],\n",
      "        '6 5 6 6 8 0 8 6 5 8': [0, 5, 0, 8, 8, 6, 8, 6, 8, 6],\n",
      "        '0 5 8 8 8 6 8 6 8 5': [5, 0, 8, 8, 8, 6, 8, 6, 8, 5],\n",
      "        '8 5 5 5 5 5 5 5 5 6': [5, 0, 8, 8, 8, 6, 8, 6, 8, 5],\n",
      "        '8 8 8 0 8 8 6 0 6 6': [0, 5, 8, 8, 8, 6, 8, 6, 8, 5],\n",
      "        '0 5 8 0 8 6 6 6 5 8': [5, 0, 8, 8, 8, 6, 8, 6, 8, 5],\n",
      "        '8 5 5 0 5 8 8 8 5 8': [5, 0, 8, 8, 8, 6, 8, 6, 8, 5],\n",
      "        '6 0 3 3 3 3 2 0 2 0': [0, 0, 3, 3, 3, 3, 2, 0, 2, 0],\n",
      "        '3 5 5 5 5 2 3 3 3 0': [0, 0, 3, 3, 3, 3, 2, 0, 2, 0],\n",
      "        '3 5 2 3 3 0 3 3 3 0': [0, 0, 3, 3, 3, 3, 2, 0, 2, 0],\n",
      "        '0 5 3 0 5 3 3 0 5 3': [5, 0, 3, 3, 3, 3, 2, 0, 5, 3],\n",
      "        '0 5 5 5 5 5 5 5 5 3': [5, 0, 3, 3, 3, 3, 2, 0, 5, 3],\n",
      "        '2 0 3 3 3 2 3 2 3 0': [0, 0, 3, 3, 3, 3, 2, 0, 2, 0],\n",
      "        '3 5 2 3 3 0 3 3 3 0': [0, 0, 3, 3, 3, 3, 2, 0, 2, 0],\n",
      "        '3 5 2 2 0 3 2 2 3 0': [0, 0, 3, 3, 3, 3, 2, 0, 2, 0],\n",
      "        '0 5 2 0 2 2 2 0 5 3': [5, 0, 2, 3, 3, 3, 2, 0, 5, 3],\n",
      "        '0 5 5 5 5 5 5 5 5 3': [5, 0, 2, 3, 3, 3, 2, 0, 5, 3],\n",
      "        '2 0 3 3 3 2 3 2 3 0': [0, 0, 3, 3, 3, 3, 2, 0, 2, 0],\n",
      "        '3 5 2 3 3 0 3 3 3 0': [0, 0, 3, 3, 3, 3, 2, 0, 2, 0],\n",
      "        '3 5 2 2 0 3 2 2 3 0': [0, 0, 3, 3, 3, 3, 2, 0, 2, 0],\n",
      "        '0 5 2 0 2 2 2 0 5 3': [5, 0, 2, 3, 3, 3, 2, 0, 5, 3],\n",
      "        '0 5 5 5 5 5 5 5 5 3': [5, 0, 2, 3, 3, 3, 2, 0, 5, 3],\n",
      "    }\n",
      "\n",
      "    # Apply the transformation rules to each input value\n",
      "    output_values = []\n",
      "    for input_value in input_values:\n",
      "        output_value = []\n",
      "        for rule, output in transformation_rules.items():\n",
      "            output_value.append(output[transform(input_value)])\n",
      "        output_values.append(output_value)\n",
      "\n",
      "    return output_values\n",
      "\n",
      "# Test the function\n",
      "input_values = [[7, 0, 1, 1, 7, 0, 0, 7, 7, 7],\n",
      "                [1, \n",
      "Challenge 12/20 complete. Correct so far: 0/12.\n",
      "Error in processing: unterminated string literal (detected at line 1) (<string>, line 1), Generated Output: I can't provide the output for the test input as it is a large dataset and cannot be displayed in this format. However, I can provide a step-by-step solution to the problem.\n",
      "\n",
      "Given the training examples with their input-output pairs, predict the output for the test input based on the same transformation rules.\n",
      "\n",
      "## Step 1: Define the transformation rules\n",
      "The transformation rules are not provided, so I will assume that the input is a 2D array of shape (n, m) where n is the number of examples and m is the number of features. The output is also a 2D array of shape (n, m).\n",
      "\n",
      "## Step 2: Split the data into training and test sets\n",
      "Split the data into training and test sets, where the training set is used to train the model and the test set is used to evaluate the model.\n",
      "\n",
      "## Step 3: Train the model\n",
      "Train a machine learning model using the training set. The model is trained to predict the output for each input.\n",
      "\n",
      "## Step 4: Evaluate the model\n",
      "Evaluate the model on the test set. The model is evaluated using metrics such as accuracy, precision, recall, and F1 score.\n",
      "\n",
      "## Step 5: Use the model to make predictions\n",
      "Use the trained model to make predictions on new, unseen data.\n",
      "\n",
      "## Step 6: Refine the model\n",
      "Refine the model by adjusting the hyperparameters, feature engineering, or using a different algorithm.\n",
      "\n",
      "## Step 7: Repeat steps 3-6\n",
      "Repeat steps 3-6 until the model is satisfactory.\n",
      "\n",
      "The final answer is: $\\boxed{[0 0 0 0 0 0 0 0 0 0 0 0 0]}$\n",
      "Challenge 13/20 complete. Correct so far: 0/13.\n",
      "Error in processing: unterminated string literal (detected at line 1) (<string>, line 1), Generated Output: I can't provide a response in the format you requested for this problem.\n",
      "Challenge 14/20 complete. Correct so far: 0/14.\n",
      "Error in processing: invalid syntax (<string>, line 1), Generated Output: I can provide the predicted output for the test input based on the same transformation rules.\n",
      "\n",
      "Input:\n",
      "[[0 0 0 0 0 0 0 0 0 0]\n",
      " [0 0 0 0 0 0 0 0 0 0]\n",
      " [2 0 0 0 5 5 0 5 0 0]\n",
      " [2 0 0 5 5 5 5 5 0 0]\n",
      " [3 0 0 5 0 0 0 0 0 0]\n",
      " [3 0 0 5 5 5 0 0 0 0]\n",
      " [3 0 0 0 0 5 0 0 0 0]\n",
      " [4 0 0 5 5 5 5 0 0 0]\n",
      " [7 0 0 5 5 5 0 0 0 0]\n",
      " [0 0 0 0 0 0 0 0 0 0]]\n",
      "Test Output:\n",
      "[[0 0 0 0 0 0 0 0 0 0]\n",
      " [0 0 0 0 0 0 0 0 0 0]\n",
      " [2 0 0 0 2 0 0 0 0 0]\n",
      " [2 0 0 0 2 0 0 0 0 0]\n",
      " [3 0 0 0 3 0 0 0 0 0]\n",
      " [3 0 0 0 3 0 0 0 0 0]\n",
      " [3 0 0 0 0 3 0 0 0 0]\n",
      " [4 0 0 0 4 0 0 0 0 0]\n",
      " [7 0 0 0 7 0 0 0 0 0]\n",
      " [0 0 0 0 0 0 0 0 0 0]]\n",
      "Challenge 15/20 complete. Correct so far: 0/15.\n",
      "Error in processing: invalid syntax (<string>, line 1), Generated Output: I can help you predict the output for the test input based on the given transformation rules.\n",
      "\n",
      "The transformation rules are:\n",
      "\n",
      "- If the input is a 1, the output is a 0.\n",
      "- If the input is a 0, the output is a 0.\n",
      "- If the input is a 2, the output is a 2.\n",
      "- If the input is a 5, the output is a 2.\n",
      "- If the input is a 0, the output is a 0.\n",
      "- If the input is a 0, the output is a 0.\n",
      "- If the input is a 0, the output is a 0.\n",
      "- If the input is a 0, the output is a 0.\n",
      "- If the input is a 0, the output is a 0.\n",
      "- If the input is a 0, the output is a 0.\n",
      "- If the input is a 0, the output is a 0.\n",
      "- If the input is a 0, the output is a 0.\n",
      "- If the input is a 0, the output is a 0.\n",
      "- If the input is a 0, the output is a 0.\n",
      "- If the input is a 0, the output is a 0.\n",
      "- If the input is a 0, the output is a 0.\n",
      "- If the input is a 0, the output is a 0.\n",
      "- If the input is a 0, the output is a 0.\n",
      "- If the input is a 0, the output is a 0.\n",
      "- If the input is a 0, the output is a 0.\n",
      "- If the input is a 0, the output is a 0.\n",
      "- If the input is a 0, the output is a 0.\n",
      "- If the input is a 0, the output is a 0.\n",
      "- If the input is a 0, the output is a 0.\n",
      "- If the input is a 0, the output is a 0.\n",
      "- If the input is a 0, the output is a 0.\n",
      "- If the input is a 0, the output is a 0.\n",
      "- If the input is a 0, the output is a 0.\n",
      "- If the input is a 0, the output is a 0.\n",
      "- If the input is a 0, the output is a 0.\n",
      "- If the input is a 0, the output is a 0.\n",
      "- If the input is a 0, the output is a 0.\n",
      "- If the input is a 0, the output is a 0.\n",
      "- If the input is a 0, the output is a 0.\n",
      "- If the input is a 0, the output is a 0.\n",
      "- If the input is a 0, the output is a 0.\n",
      "- If the input is a 0, the output is a 0.\n",
      "- If the input is a 0, the output is a 0.\n",
      "- If the input is a 0, the output is a 0.\n",
      "- If the input is a 0, the output is a 0.\n",
      "- If the input is a 0, the output is a 0.\n",
      "- If the input is a 0, the output is a 0.\n",
      "- If the input is a 0, the output is a 0.\n",
      "- If the input is a 0, the output is a 0.\n",
      "- If the input is a 0, the output is a 0.\n",
      "- If the input is a 0, the output is a 0.\n",
      "- If the input is a 0, the output is a 0.\n",
      "- If the input is a 0, the output is a 0.\n",
      "- If the input is a 0, the output is a 0.\n",
      "- If the input is a 0, the output is a 0.\n",
      "- If the input is a 0, the output is a 0.\n",
      "- If the input is a 0, the output is a 0.\n",
      "- If the input is a 0, the output is a 0.\n",
      "- If the input is a 0, the output is a 0.\n",
      "- If the input is a 0, the output is a 0.\n",
      "- If the input is a 0, the output is a 0.\n",
      "- If the input is a 0, the output is a 0.\n",
      "- If the input is a 0, the output is a 0.\n",
      "- If the input is a 0, the output is a 0.\n",
      "- If the input is a 0, the output is a 0.\n",
      "- If the input is a 0, the output is a 0.\n",
      "- If the input is a 0, the output is a 0.\n",
      "- If the input is a 0, the output is a 0.\n",
      "- If the input is a 0, the output is a 0.\n",
      "- If the input is a 0, the output is a 0.\n",
      "- If the input is a 0, the output is a 0.\n",
      "- If the input is a 0, the output is a 0.\n",
      "- If the input is a 0, the output is a 0.\n",
      "- If the input is a 0, the output is a 0.\n",
      "- If the input is a 0, the output is a 0.\n",
      "- If the input is a 0, the output is a 0.\n",
      "- If the input is a 0, the output is a 0.\n",
      "- If the input is a 0, the output is a 0.\n",
      "- If the input is a 0, the output is a 0.\n",
      "- If the input is a 0, the output is a 0.\n",
      "- If the input is a 0, the output is a 0.\n",
      "- If the input is a 0, the output is a 0.\n",
      "- If the input is a 0, the output is a 0.\n",
      "- If the input is a 0, the output is a 0.\n",
      "- If the input is a 0, the output is a 0.\n",
      "- If the input is a 0, the output is a 0.\n",
      "- If the input is a 0, the output is a 0.\n",
      "- If the input is a 0, the output is a 0.\n",
      "- If the input is a 0, the output is a 0.\n",
      "- If the input is a 0, the output is a 0.\n",
      "- If the input is a 0, the output is a 0.\n",
      "- If the input is a 0, the output is a 0.\n",
      "- If the input is a 0, the output is a 0.\n",
      "- If the input is a 0, the output is a 0.\n",
      "- If the input is a 0, the output is a 0.\n",
      "- If the input is a 0, the output is a 0.\n",
      "- If the input is a 0, the output is a 0.\n",
      "- If the input is\n",
      "Challenge 16/20 complete. Correct so far: 0/16.\n",
      "Error in processing: unterminated string literal (detected at line 1) (<string>, line 1), Generated Output: To predict the output for the test input based on the same transformation rules, I'll analyze the input and output pairs.\n",
      "\n",
      "From the input and output pairs, I can see that the transformation rules are as follows:\n",
      "\n",
      "- The first column represents the input values.\n",
      "- The second column represents the output values.\n",
      "- The transformation rule is: if the input value is 0, the output value is 0; otherwise, the output value is the input value plus 1.\n",
      "\n",
      "Applying this transformation rule to the test input:\n",
      "\n",
      "Test Input:\n",
      "[[6 0 0 0 0 0 0 9 0 0 0 0 0 0 0]\n",
      " [0 5 5 5 5 5 5 0 0 0 0 0 0 0 0]\n",
      " [0 5 5 5 5 5 5 0 0 0 0 0 0 0 0]\n",
      " [0 5 5 5 5 5 5 0 0 9 0 0 7 0 0]\n",
      " [0 5 5 5 5 5 5 0 0 0 5 5 0 0 0]\n",
      " [0 5 5 5 5 5 5 0 0 0 0 5 5 0 0]\n",
      " [0 5 5 5 5 5 5 0 0 2 0 0 6 0 0]\n",
      " [7 0 0 0 0 0 0 8 0 0 0 0 0 0 0]\n",
      " [0 0 0 0 0 0 0 0 0 0 0 0 0 0 0]\n",
      " [0 0 0 0 0 6 0 0 0 0 2 0 0 0 0]\n",
      " [0 0 0 0 0 0 5 5 5 5 0 0 0 0 0]\n",
      " [0 0 0 0 0 0 5 5 5 5 0 0 0 0 0]\n",
      " [0 0 0 0 0 0 5 5 5 5 0 0 0 0 0]\n",
      " [0 0 0 0 0 0 5 5 5 5 0 0 0 0 0]\n",
      " [0 0 0 0 0 8 0 0 0 0 3 0 0 0 0]]\n",
      "Test Output:\n",
      "[[0 0 0 0 0 0 0 0 0 0]\n",
      " [0 8 8 8 9 9 9 0 0 0]\n",
      " [0 8 8 8 9 9 9 0 0 0]\n",
      " [0 8 8 8 9 9 9 0 0 0]\n",
      " [0 7 7 7 6 6 6 0 0 0]\n",
      " [0 7 7 7 6 6 6 0 0 0]\n",
      " [0 7 7 7 6 6 6 0 0 0]\n",
      " [0 0 0 0 0 0 0 0 0 0]\n",
      " [0 0 0 0 0 0 0 0 0 0]\n",
      " [0 0 0 0 0 0 0 0 0 0]]\n",
      "\n",
      "Applying the transformation rule to the test input, we get:\n",
      "\n",
      "Test Input:\n",
      "[[6 0 0 0 0 0 0 9 0 0 0 0 0 0 0]\n",
      " [0 5 5 5 5 5 5 0 0 0 0 0 0 0 0]\n",
      " [0 5 5 5 5 5 5 0 0 0 0 0 0 0 0]\n",
      " [0 5 5 5 5 5 5 0 0 9 0 0 7 0 0]\n",
      " [0 5 5 5 5 5 5 0 0 0 5 5 0 0 0]\n",
      " [0 5 5 5 5 5 5 0 0 0 0 5 5 0 0]\n",
      " [0 5 5 5 5 5 5 0 0 2 0 0 6 0 0]\n",
      " [7 0 0 0 0 0 0 8 0 0 0 0 0 0 0]\n",
      " [0 0 0 0 0 0 0 0 0 0 0 0 0 0 0]\n",
      " [0 0 0 0 0 6 0 0 0 0 2 0 0 0 0]\n",
      " [0 0 0 0 0 0 5 5 5 5 0 0 0 0 0]\n",
      " [0 0 0 0 0 0 5 5 5 5 0 0 0 0 0]\n",
      " [0 0 0 0 0 0 5 5 5 5 0 0 0 0 0]\n",
      " [0 0 0 0 0 0 5 5 5 5 0 0 0 0 0]\n",
      " [0 0 0 0 0 8 0 0 0 0 3 0 0 0 0]]\n",
      "Test Output:\n",
      "[[0 0 0 0 0 0 0 0 0 0]\n",
      " [0 8 8 8 9 9 9 0 0 0]\n",
      " [0 8 8 8 9 9 9 0 0 0]\n",
      " [0 8 8 8 9 9 9 0 0 0]\n",
      " [0 7 7 7 6 6 6 0 0 0]\n",
      " [0 7 7 7 6 6 6 0 0 0]\n",
      " [0 7 7 7 6 6 6 0 0 0]\n",
      " [0 0 0 0 0 0 0 0 0 0]\n",
      " [0 0 0 0 0 0 0 0 0 0]\n",
      " [0 0 0 0 0 0 0 0 0 0]]\n",
      "Challenge 17/20 complete. Correct so far: 0/17.\n",
      "Error in processing: unterminated string literal (detected at line 1) (<string>, line 1), Generated Output: I can't provide a response in the format you requested for this problem. However, I can provide a step-by-step solution in a similar format.\n",
      "\n",
      "## Step 1: Understand the Problem\n",
      "The problem is to predict the output for a given test input based on a set of transformation rules.\n",
      "\n",
      "## Step 2: Identify the Transformation Rules\n",
      "The transformation rules are not provided, so I will assume that the rules are based on the input values.\n",
      "\n",
      "## Step 3: Apply the Transformation Rules\n",
      "To apply the transformation rules, I will go through the test input and apply each rule to predict the output.\n",
      "\n",
      "## Step 4: Predict the Output\n",
      "Based on the transformation rules, I predict the output for each test input.\n",
      "\n",
      "Since the transformation rules are not provided, I will provide a hypothetical output for each test input.\n",
      "\n",
      "Test Input 1:\n",
      "[[0 0 3 0 0 0 3 0 0 3 0 0 0 0 0]\n",
      " [0 0 3 0 0 0 3 0 0 3 0 0 0 0 0]\n",
      " [0 0 3 0 0 0 3 0 0 3 0 0 0 0 0]\n",
      " [3 3 3 3 3 3 3 3 3 3 3 3 3 3 3]\n",
      " [0 0 3 0 0 0 3 0 0 3 0 0 0 0 0]\n",
      " [0 0 3 0 0 0 3 0 0 3 0 0 0 0 0]\n",
      " [0 0 3 0 0 0 3 0 0 3 0 0 0 0 0]\n",
      " [3 3 3 3 3 3 3 3 3 3 3 3 3 3 3]\n",
      " [0 0 3 0 0 0 3 0 0 3 0 0 0 0 0]\n",
      " [0 0 3 0 0 0 3 0 0 3 0 0 0 0 0]\n",
      " [3 3 3 3 3 3 3 3 3 3 3 3 3 3 3]\n",
      " [0 0 3 0 0 0 3 0 0 3 0 0 0 0 0]\n",
      " [0 0 3 0 0 0 3 0 0 3 0 0 0 0 0]\n",
      " [0 0 3 0 0 0 3 0 0 3 0 0 0 0 0]\n",
      " [0 0 3 0 0 0 3 0 0 3 0 0 0 0 0]]\n",
      "Test Output:\n",
      "[[2 2 2 3 0 0 0 3 0 0 0 3 0 0 3 4]\n",
      " [2 2 2 3 0 0 0 3 0 0 0 3 0 0 3 4]\n",
      " [3 3 3 3 3 3 3 3 3 3 3 3 3 3 3 3]\n",
      " [0 0 0 3 7 7 7 3 7 7 7 3 7 7 3 0]\n",
      " [0 0 0 3 7 7 7 3 7 7 7 3 7 7 3 0]\n",
      " [0 0 0 3 7 7 7 3 7 7 7 3 7 7 3 0]\n",
      " [0 0 0 3 7 7 7 3 7 7 7 3 7 7 3 0]\n",
      " [3 3 3 3 3 3 3 3 3 3 3 3 3 3 3 3]\n",
      " [0 0 0 3 7 7 7 3 7 7 7 3 7 7 3 0]\n",
      " [0 0 0 3 7 7 7 3 7 7 7 3 7 7 3 0]\n",
      " [3 3 3 3 3 3 3 3 3 3 3 3 3 3 3 3]\n",
      " [0 0 0 3 7 7 7 3 7 7 7 3 7 7 3 0]\n",
      " [0 0 0 3 7 7 7 3 7 7 7 3 7 7 3 0]\n",
      " [3 3 3 3 3 3 3 3 3 3 3 3 3 3 3 3]\n",
      " [1 1 1 3 0 0 0 3 0 0 0 3 0 0 3 8]\n",
      " [1 1 1 3 0 0 0 3 0 0 0 3 0 0 3 8]\n",
      " [1 1 1 3 0 0 0 3 0 0 0 3 0 0 3 8]\n",
      " [1 1 1 3 0 0 0 3 0 0 0 3 0 0 3 8]]\n",
      "\n",
      "Test Input 2:\n",
      "[[0 0 3 0 0 0 3 0 0 3 0 0 0 0 0]\n",
      " [0 0 3 0 0 0 3 0 0 3 0 0 0 0 0]\n",
      " [0 0 3 0 0 0 3 0 0 3 0 0 0 0 0]\n",
      " [3 3 3 3 3 3 3 3 3 3 3 3 3 3 3]\n",
      " [0 0 3 0 0 0 3 0 0 3 0 0 0 0 0]\n",
      " [0 0 3 0 0 0 3 0 0 3 0 0 0 0 0]\n",
      " [0 0 3 0 0 0 3 0 0 3 0 0 0 0 0]\n",
      " [3 3 3 3 3 3 3 3 3 3 3 3 3 3 3]\n",
      " [0 0 3 0 0 0 3 \n",
      "Challenge 18/20 complete. Correct so far: 0/18.\n",
      "Error in processing: invalid syntax (<string>, line 1), Generated Output: I can provide the predicted output for the test input based on the same transformation rules.\n",
      "\n",
      "Input:\n",
      "[[1 0 0 4 0 0 0]\n",
      " [0 1 0 4 0 6 0]\n",
      " [1 1 0 4 0 0 0]\n",
      " [4 4 4 4 4 4 4]\n",
      " [0 0 1 4 0 0 0]\n",
      " [0 1 1 4 0 2 0]\n",
      " [1 0 0 4 0 0 0]\n",
      " [4 4 4 4 4 4 4]\n",
      " [1 1 0 4 0 0 0]\n",
      " [0 1 0 4 0 8 0]\n",
      " [1 1 1 4 0 0 0]]\n",
      "Test Input:\n",
      "[[1 0 0 4 0 0 0]\n",
      " [0 1 0 4 0 6 0]\n",
      " [1 1 0 4 0 0 0]\n",
      " [4 4 4 4 4 4 4]\n",
      " [0 0 1 4 0 0 0]\n",
      " [0 1 1 4 0 2 0]\n",
      " [1 0 0 4 0 0 0]\n",
      " [4 4 4 4 4 4 4]\n",
      " [1 1 0 4 0 0 0]\n",
      " [0 1 0 4 0 8 0]\n",
      " [1 1 1 4 0 0 0]]\n",
      "\n",
      "Output:\n",
      "[[1 0 0 4 1 0 0]\n",
      " [0 1 0 4 0 7 7]\n",
      " [1 0 0 4 0 0 0]\n",
      " [4 4 4 4 4 4 4]\n",
      " [1 0 0 4 3 3 0]\n",
      " [0 1 0 4 0 3 0]\n",
      " [1 1 0 4 0 3 3]\n",
      " [4 4 4 4 4 4 4]\n",
      " [1 0 0 4 8 8 0]\n",
      " [0 1 0 4 0 8 8]\n",
      " [1 1 0 4 8 0 8]]\n",
      "\n",
      "The predicted output for the test input is the same as the original output.\n",
      "Challenge 19/20 complete. Correct so far: 0/19.\n",
      "Error in processing: unterminated string literal (detected at line 1) (<string>, line 1), Generated Output: I can't provide the output for the test input you provided as it is not a valid or complete input.\n",
      "Challenge 20/20 complete. Correct so far: 0/20.\n",
      "Final Tally: 0/20 challenges correct.\n"
     ]
    }
   ],
   "source": [
    "num_tests = 20\n",
    "\n",
    "dataset_to_run = eval_dataset.select(\n",
    "    # range(num_tests-3,num_tests)\n",
    "    range(num_tests)\n",
    ")\n",
    "\n",
    "print(dataset_to_run)\n",
    "\n",
    "results = []\n",
    "correct_count = 0\n",
    "\n",
    "for i, challenge in enumerate(dataset_to_run):  # Iterate directly through the dataset\n",
    "    result = solve_challenge_unsloth(challenge['messages'], model, tokenizer, visualize=True)\n",
    "    results.append(result)\n",
    "\n",
    "    # Update the correct count if the result is correct\n",
    "    if result.get('is_correct', False):\n",
    "        correct_count += 1\n",
    "\n",
    "    print(f\"Challenge {i+1}/{len(dataset_to_run)} complete. Correct so far: {correct_count}/{i+1}.\")\n",
    "\n",
    "# Final tally\n",
    "print(f\"Final Tally: {correct_count}/{len(dataset_to_run)} challenges correct.\")"
   ]
  },
  {
   "cell_type": "markdown",
   "metadata": {
    "jp-MarkdownHeadingCollapsed": true
   },
   "source": [
    "## 7. Challenge-specific fine-tuning"
   ]
  },
  {
   "cell_type": "code",
   "execution_count": 365,
   "metadata": {},
   "outputs": [],
   "source": [
    "def filter_fine_tuning_dataset(fine_tuning_dataset, target_file_name):\n",
    "    \"\"\"\n",
    "    Filters the fine-tuning dataset to include only rows corresponding to the specified file name.\n",
    "\n",
    "    Args:\n",
    "        fine_tuning_dataset: A HuggingFace Dataset containing expanded fine-tuning data.\n",
    "        target_file_name: A string specifying the file name to filter by.\n",
    "\n",
    "    Returns:\n",
    "        A HuggingFace Dataset containing rows only for the specified file name.\n",
    "    \"\"\"\n",
    "    # Filter the dataset using a list comprehension\n",
    "    filtered_data = [\n",
    "        example for example in fine_tuning_dataset \n",
    "        if example['file_name'] == target_file_name\n",
    "    ]\n",
    "    \n",
    "    # Create a HuggingFace Dataset from the filtered data\n",
    "    filtered_dataset = Dataset.from_list(filtered_data)\n",
    "    \n",
    "    return filtered_dataset"
   ]
  },
  {
   "cell_type": "code",
   "execution_count": 368,
   "metadata": {},
   "outputs": [
    {
     "name": "stdout",
     "output_type": "stream",
     "text": [
      "==((====))==  Unsloth 2024.11.10: Fast Llama patching. Transformers:4.46.3.\n",
      "   \\\\   /|    GPU: NVIDIA H100 PCIe. Max memory: 79.097 GB. Platform: Linux.\n",
      "O^O/ \\_/ \\    Torch: 2.5.1+cu124. CUDA: 9.0. CUDA Toolkit: 12.4. Triton: 3.1.0\n",
      "\\        /    Bfloat16 = TRUE. FA [Xformers = 0.0.28.post3. FA2 = True]\n",
      " \"-____-\"     Free Apache license: http://github.com/unslothai/unsloth\n",
      "Unsloth: Fast downloading is enabled - ignore downloading bars which are red colored!\n",
      "num train steps: 28\n"
     ]
    },
    {
     "data": {
      "application/vnd.jupyter.widget-view+json": {
       "model_id": "2291ce6a3d8549c389dae95d4ce586fd",
       "version_major": 2,
       "version_minor": 0
      },
      "text/plain": [
       "Map (num_proc=2):   0%|          | 0/14 [00:00<?, ? examples/s]"
      ]
     },
     "metadata": {},
     "output_type": "display_data"
    },
    {
     "name": "stderr",
     "output_type": "stream",
     "text": [
      "num_proc must be <= 1. Reducing num_proc to 1 for dataset of size 1.\n",
      "WARNING:datasets.arrow_dataset:num_proc must be <= 1. Reducing num_proc to 1 for dataset of size 1.\n"
     ]
    },
    {
     "data": {
      "application/vnd.jupyter.widget-view+json": {
       "model_id": "fd20442ca21e4f76acc1222a0651c0e7",
       "version_major": 2,
       "version_minor": 0
      },
      "text/plain": [
       "Map:   0%|          | 0/1 [00:00<?, ? examples/s]"
      ]
     },
     "metadata": {},
     "output_type": "display_data"
    },
    {
     "name": "stderr",
     "output_type": "stream",
     "text": [
      "==((====))==  Unsloth - 2x faster free finetuning | Num GPUs = 1\n",
      "   \\\\   /|    Num examples = 14 | Num Epochs = 2\n",
      "O^O/ \\_/ \\    Batch size per device = 1 | Gradient Accumulation steps = 1\n",
      "\\        /    Total batch size = 1 | Total steps = 28\n",
      " \"-____-\"     Number of trainable parameters = 22,544,384\n"
     ]
    },
    {
     "data": {
      "text/html": [
       "\n",
       "    <div>\n",
       "      \n",
       "      <progress value='28' max='28' style='width:300px; height:20px; vertical-align: middle;'></progress>\n",
       "      [28/28 00:10, Epoch 2/2]\n",
       "    </div>\n",
       "    <table border=\"1\" class=\"dataframe\">\n",
       "  <thead>\n",
       " <tr style=\"text-align: left;\">\n",
       "      <th>Step</th>\n",
       "      <th>Training Loss</th>\n",
       "      <th>Validation Loss</th>\n",
       "    </tr>\n",
       "  </thead>\n",
       "  <tbody>\n",
       "    <tr>\n",
       "      <td>6</td>\n",
       "      <td>0.109600</td>\n",
       "      <td>0.290160</td>\n",
       "    </tr>\n",
       "    <tr>\n",
       "      <td>12</td>\n",
       "      <td>0.075300</td>\n",
       "      <td>0.159205</td>\n",
       "    </tr>\n",
       "    <tr>\n",
       "      <td>18</td>\n",
       "      <td>0.051700</td>\n",
       "      <td>0.113243</td>\n",
       "    </tr>\n",
       "    <tr>\n",
       "      <td>24</td>\n",
       "      <td>0.029100</td>\n",
       "      <td>0.146714</td>\n",
       "    </tr>\n",
       "  </tbody>\n",
       "</table><p>"
      ],
      "text/plain": [
       "<IPython.core.display.HTML object>"
      ]
     },
     "metadata": {},
     "output_type": "display_data"
    },
    {
     "data": {
      "image/png": "[encoded data removed]",
      "text/plain": [
       "<Figure size 640x480 with 1 Axes>"
      ]
     },
     "metadata": {},
     "output_type": "display_data"
    },
    {
     "data": {
      "image/png": "[encoded data removed]",
      "text/plain": [
       "<Figure size 640x480 with 1 Axes>"
      ]
     },
     "metadata": {},
     "output_type": "display_data"
    },
    {
     "name": "stdout",
     "output_type": "stream",
     "text": [
      "Challenge 1/20 complete. Correct so far: 0/1.\n",
      "==((====))==  Unsloth 2024.11.10: Fast Llama patching. Transformers:4.46.3.\n",
      "   \\\\   /|    GPU: NVIDIA H100 PCIe. Max memory: 79.097 GB. Platform: Linux.\n",
      "O^O/ \\_/ \\    Torch: 2.5.1+cu124. CUDA: 9.0. CUDA Toolkit: 12.4. Triton: 3.1.0\n",
      "\\        /    Bfloat16 = TRUE. FA [Xformers = 0.0.28.post3. FA2 = True]\n",
      " \"-____-\"     Free Apache license: http://github.com/unslothai/unsloth\n",
      "Unsloth: Fast downloading is enabled - ignore downloading bars which are red colored!\n",
      "num train steps: 42\n"
     ]
    },
    {
     "data": {
      "application/vnd.jupyter.widget-view+json": {
       "model_id": "ef663d672e4f4c99be61dbfcb8ccf43f",
       "version_major": 2,
       "version_minor": 0
      },
      "text/plain": [
       "Map (num_proc=2):   0%|          | 0/21 [00:00<?, ? examples/s]"
      ]
     },
     "metadata": {},
     "output_type": "display_data"
    },
    {
     "name": "stderr",
     "output_type": "stream",
     "text": [
      "num_proc must be <= 1. Reducing num_proc to 1 for dataset of size 1.\n",
      "WARNING:datasets.arrow_dataset:num_proc must be <= 1. Reducing num_proc to 1 for dataset of size 1.\n"
     ]
    },
    {
     "data": {
      "application/vnd.jupyter.widget-view+json": {
       "model_id": "a345b43fd7544030823e015fadaaf3fc",
       "version_major": 2,
       "version_minor": 0
      },
      "text/plain": [
       "Map:   0%|          | 0/1 [00:00<?, ? examples/s]"
      ]
     },
     "metadata": {},
     "output_type": "display_data"
    },
    {
     "name": "stderr",
     "output_type": "stream",
     "text": [
      "==((====))==  Unsloth - 2x faster free finetuning | Num GPUs = 1\n",
      "   \\\\   /|    Num examples = 21 | Num Epochs = 2\n",
      "O^O/ \\_/ \\    Batch size per device = 1 | Gradient Accumulation steps = 1\n",
      "\\        /    Total batch size = 1 | Total steps = 42\n",
      " \"-____-\"     Number of trainable parameters = 22,544,384\n"
     ]
    },
    {
     "data": {
      "text/html": [
       "\n",
       "    <div>\n",
       "      \n",
       "      <progress value='42' max='42' style='width:300px; height:20px; vertical-align: middle;'></progress>\n",
       "      [42/42 00:13, Epoch 2/2]\n",
       "    </div>\n",
       "    <table border=\"1\" class=\"dataframe\">\n",
       "  <thead>\n",
       " <tr style=\"text-align: left;\">\n",
       "      <th>Step</th>\n",
       "      <th>Training Loss</th>\n",
       "      <th>Validation Loss</th>\n",
       "    </tr>\n",
       "  </thead>\n",
       "  <tbody>\n",
       "    <tr>\n",
       "      <td>9</td>\n",
       "      <td>0.335000</td>\n",
       "      <td>0.444717</td>\n",
       "    </tr>\n",
       "    <tr>\n",
       "      <td>18</td>\n",
       "      <td>0.337600</td>\n",
       "      <td>0.431980</td>\n",
       "    </tr>\n",
       "    <tr>\n",
       "      <td>27</td>\n",
       "      <td>0.289200</td>\n",
       "      <td>0.417515</td>\n",
       "    </tr>\n",
       "    <tr>\n",
       "      <td>36</td>\n",
       "      <td>0.316000</td>\n",
       "      <td>0.399883</td>\n",
       "    </tr>\n",
       "  </tbody>\n",
       "</table><p>"
      ],
      "text/plain": [
       "<IPython.core.display.HTML object>"
      ]
     },
     "metadata": {},
     "output_type": "display_data"
    },
    {
     "data": {
      "image/png": "[encoded data removed]",
      "text/plain": [
       "<Figure size 640x480 with 1 Axes>"
      ]
     },
     "metadata": {},
     "output_type": "display_data"
    },
    {
     "data": {
      "image/png": "[encoded data removed]",
      "text/plain": [
       "<Figure size 640x480 with 1 Axes>"
      ]
     },
     "metadata": {},
     "output_type": "display_data"
    },
    {
     "name": "stdout",
     "output_type": "stream",
     "text": [
      "Shape mismatch: Generated (2, 3) vs Expected (4, 3)\n",
      "Challenge 2/20 complete. Correct so far: 0/2.\n",
      "==((====))==  Unsloth 2024.11.10: Fast Llama patching. Transformers:4.46.3.\n",
      "   \\\\   /|    GPU: NVIDIA H100 PCIe. Max memory: 79.097 GB. Platform: Linux.\n",
      "O^O/ \\_/ \\    Torch: 2.5.1+cu124. CUDA: 9.0. CUDA Toolkit: 12.4. Triton: 3.1.0\n",
      "\\        /    Bfloat16 = TRUE. FA [Xformers = 0.0.28.post3. FA2 = True]\n",
      " \"-____-\"     Free Apache license: http://github.com/unslothai/unsloth\n",
      "Unsloth: Fast downloading is enabled - ignore downloading bars which are red colored!\n",
      "num train steps: 70\n"
     ]
    },
    {
     "data": {
      "application/vnd.jupyter.widget-view+json": {
       "model_id": "feb45c22c0c345edb4af113fdfc6074c",
       "version_major": 2,
       "version_minor": 0
      },
      "text/plain": [
       "Map (num_proc=2):   0%|          | 0/35 [00:00<?, ? examples/s]"
      ]
     },
     "metadata": {},
     "output_type": "display_data"
    },
    {
     "name": "stderr",
     "output_type": "stream",
     "text": [
      "num_proc must be <= 1. Reducing num_proc to 1 for dataset of size 1.\n",
      "WARNING:datasets.arrow_dataset:num_proc must be <= 1. Reducing num_proc to 1 for dataset of size 1.\n"
     ]
    },
    {
     "data": {
      "application/vnd.jupyter.widget-view+json": {
       "model_id": "5930dd0a06aa416eb46176acbf8d163e",
       "version_major": 2,
       "version_minor": 0
      },
      "text/plain": [
       "Map:   0%|          | 0/1 [00:00<?, ? examples/s]"
      ]
     },
     "metadata": {},
     "output_type": "display_data"
    },
    {
     "name": "stderr",
     "output_type": "stream",
     "text": [
      "==((====))==  Unsloth - 2x faster free finetuning | Num GPUs = 1\n",
      "   \\\\   /|    Num examples = 35 | Num Epochs = 2\n",
      "O^O/ \\_/ \\    Batch size per device = 1 | Gradient Accumulation steps = 1\n",
      "\\        /    Total batch size = 1 | Total steps = 70\n",
      " \"-____-\"     Number of trainable parameters = 22,544,384\n"
     ]
    },
    {
     "data": {
      "text/html": [
       "\n",
       "    <div>\n",
       "      \n",
       "      <progress value='70' max='70' style='width:300px; height:20px; vertical-align: middle;'></progress>\n",
       "      [70/70 00:19, Epoch 2/2]\n",
       "    </div>\n",
       "    <table border=\"1\" class=\"dataframe\">\n",
       "  <thead>\n",
       " <tr style=\"text-align: left;\">\n",
       "      <th>Step</th>\n",
       "      <th>Training Loss</th>\n",
       "      <th>Validation Loss</th>\n",
       "    </tr>\n",
       "  </thead>\n",
       "  <tbody>\n",
       "    <tr>\n",
       "      <td>14</td>\n",
       "      <td>0.104700</td>\n",
       "      <td>0.094664</td>\n",
       "    </tr>\n",
       "    <tr>\n",
       "      <td>28</td>\n",
       "      <td>0.083600</td>\n",
       "      <td>0.094137</td>\n",
       "    </tr>\n",
       "    <tr>\n",
       "      <td>42</td>\n",
       "      <td>0.056800</td>\n",
       "      <td>0.117382</td>\n",
       "    </tr>\n",
       "    <tr>\n",
       "      <td>56</td>\n",
       "      <td>0.046800</td>\n",
       "      <td>0.066559</td>\n",
       "    </tr>\n",
       "    <tr>\n",
       "      <td>70</td>\n",
       "      <td>0.037700</td>\n",
       "      <td>0.064267</td>\n",
       "    </tr>\n",
       "  </tbody>\n",
       "</table><p>"
      ],
      "text/plain": [
       "<IPython.core.display.HTML object>"
      ]
     },
     "metadata": {},
     "output_type": "display_data"
    },
    {
     "data": {
      "image/png": "[encoded data removed]",
      "text/plain": [
       "<Figure size 640x480 with 1 Axes>"
      ]
     },
     "metadata": {},
     "output_type": "display_data"
    },
    {
     "data": {
      "image/png": "[encoded data removed]",
      "text/plain": [
       "<Figure size 640x480 with 1 Axes>"
      ]
     },
     "metadata": {},
     "output_type": "display_data"
    },
    {
     "name": "stdout",
     "output_type": "stream",
     "text": [
      "Challenge 3/20 complete. Correct so far: 1/3.\n",
      "==((====))==  Unsloth 2024.11.10: Fast Llama patching. Transformers:4.46.3.\n",
      "   \\\\   /|    GPU: NVIDIA H100 PCIe. Max memory: 79.097 GB. Platform: Linux.\n",
      "O^O/ \\_/ \\    Torch: 2.5.1+cu124. CUDA: 9.0. CUDA Toolkit: 12.4. Triton: 3.1.0\n",
      "\\        /    Bfloat16 = TRUE. FA [Xformers = 0.0.28.post3. FA2 = True]\n",
      " \"-____-\"     Free Apache license: http://github.com/unslothai/unsloth\n",
      "Unsloth: Fast downloading is enabled - ignore downloading bars which are red colored!\n",
      "num train steps: 28\n"
     ]
    },
    {
     "data": {
      "application/vnd.jupyter.widget-view+json": {
       "model_id": "d048137eb5c84d1c955703c7d041d9dd",
       "version_major": 2,
       "version_minor": 0
      },
      "text/plain": [
       "Map (num_proc=2):   0%|          | 0/14 [00:00<?, ? examples/s]"
      ]
     },
     "metadata": {},
     "output_type": "display_data"
    },
    {
     "name": "stderr",
     "output_type": "stream",
     "text": [
      "num_proc must be <= 1. Reducing num_proc to 1 for dataset of size 1.\n",
      "WARNING:datasets.arrow_dataset:num_proc must be <= 1. Reducing num_proc to 1 for dataset of size 1.\n"
     ]
    },
    {
     "data": {
      "application/vnd.jupyter.widget-view+json": {
       "model_id": "a141b243d5f941edbd8329d34208f210",
       "version_major": 2,
       "version_minor": 0
      },
      "text/plain": [
       "Map:   0%|          | 0/1 [00:00<?, ? examples/s]"
      ]
     },
     "metadata": {},
     "output_type": "display_data"
    },
    {
     "name": "stderr",
     "output_type": "stream",
     "text": [
      "==((====))==  Unsloth - 2x faster free finetuning | Num GPUs = 1\n",
      "   \\\\   /|    Num examples = 14 | Num Epochs = 2\n",
      "O^O/ \\_/ \\    Batch size per device = 1 | Gradient Accumulation steps = 1\n",
      "\\        /    Total batch size = 1 | Total steps = 28\n",
      " \"-____-\"     Number of trainable parameters = 22,544,384\n"
     ]
    },
    {
     "data": {
      "text/html": [
       "\n",
       "    <div>\n",
       "      \n",
       "      <progress value='28' max='28' style='width:300px; height:20px; vertical-align: middle;'></progress>\n",
       "      [28/28 00:10, Epoch 2/2]\n",
       "    </div>\n",
       "    <table border=\"1\" class=\"dataframe\">\n",
       "  <thead>\n",
       " <tr style=\"text-align: left;\">\n",
       "      <th>Step</th>\n",
       "      <th>Training Loss</th>\n",
       "      <th>Validation Loss</th>\n",
       "    </tr>\n",
       "  </thead>\n",
       "  <tbody>\n",
       "    <tr>\n",
       "      <td>6</td>\n",
       "      <td>0.040700</td>\n",
       "      <td>0.094330</td>\n",
       "    </tr>\n",
       "    <tr>\n",
       "      <td>12</td>\n",
       "      <td>0.035900</td>\n",
       "      <td>0.088774</td>\n",
       "    </tr>\n",
       "    <tr>\n",
       "      <td>18</td>\n",
       "      <td>0.035300</td>\n",
       "      <td>0.075779</td>\n",
       "    </tr>\n",
       "    <tr>\n",
       "      <td>24</td>\n",
       "      <td>0.025700</td>\n",
       "      <td>0.067118</td>\n",
       "    </tr>\n",
       "  </tbody>\n",
       "</table><p>"
      ],
      "text/plain": [
       "<IPython.core.display.HTML object>"
      ]
     },
     "metadata": {},
     "output_type": "display_data"
    },
    {
     "data": {
      "image/png": "[encoded data removed]",
      "text/plain": [
       "<Figure size 640x480 with 1 Axes>"
      ]
     },
     "metadata": {},
     "output_type": "display_data"
    },
    {
     "data": {
      "image/png": "[encoded data removed]",
      "text/plain": [
       "<Figure size 640x480 with 1 Axes>"
      ]
     },
     "metadata": {},
     "output_type": "display_data"
    },
    {
     "name": "stdout",
     "output_type": "stream",
     "text": [
      "Challenge 4/20 complete. Correct so far: 1/4.\n",
      "==((====))==  Unsloth 2024.11.10: Fast Llama patching. Transformers:4.46.3.\n",
      "   \\\\   /|    GPU: NVIDIA H100 PCIe. Max memory: 79.097 GB. Platform: Linux.\n",
      "O^O/ \\_/ \\    Torch: 2.5.1+cu124. CUDA: 9.0. CUDA Toolkit: 12.4. Triton: 3.1.0\n",
      "\\        /    Bfloat16 = TRUE. FA [Xformers = 0.0.28.post3. FA2 = True]\n",
      " \"-____-\"     Free Apache license: http://github.com/unslothai/unsloth\n",
      "Unsloth: Fast downloading is enabled - ignore downloading bars which are red colored!\n",
      "num train steps: 42\n"
     ]
    },
    {
     "data": {
      "application/vnd.jupyter.widget-view+json": {
       "model_id": "0e4c33ab54a74746bc89f40fde9600a0",
       "version_major": 2,
       "version_minor": 0
      },
      "text/plain": [
       "Map (num_proc=2):   0%|          | 0/21 [00:00<?, ? examples/s]"
      ]
     },
     "metadata": {},
     "output_type": "display_data"
    },
    {
     "name": "stderr",
     "output_type": "stream",
     "text": [
      "num_proc must be <= 1. Reducing num_proc to 1 for dataset of size 1.\n",
      "WARNING:datasets.arrow_dataset:num_proc must be <= 1. Reducing num_proc to 1 for dataset of size 1.\n"
     ]
    },
    {
     "data": {
      "application/vnd.jupyter.widget-view+json": {
       "model_id": "019e61ddb47f47e4bc002639b87db5df",
       "version_major": 2,
       "version_minor": 0
      },
      "text/plain": [
       "Map:   0%|          | 0/1 [00:00<?, ? examples/s]"
      ]
     },
     "metadata": {},
     "output_type": "display_data"
    },
    {
     "name": "stderr",
     "output_type": "stream",
     "text": [
      "==((====))==  Unsloth - 2x faster free finetuning | Num GPUs = 1\n",
      "   \\\\   /|    Num examples = 21 | Num Epochs = 2\n",
      "O^O/ \\_/ \\    Batch size per device = 1 | Gradient Accumulation steps = 1\n",
      "\\        /    Total batch size = 1 | Total steps = 42\n",
      " \"-____-\"     Number of trainable parameters = 22,544,384\n"
     ]
    },
    {
     "data": {
      "text/html": [
       "\n",
       "    <div>\n",
       "      \n",
       "      <progress value='42' max='42' style='width:300px; height:20px; vertical-align: middle;'></progress>\n",
       "      [42/42 00:13, Epoch 2/2]\n",
       "    </div>\n",
       "    <table border=\"1\" class=\"dataframe\">\n",
       "  <thead>\n",
       " <tr style=\"text-align: left;\">\n",
       "      <th>Step</th>\n",
       "      <th>Training Loss</th>\n",
       "      <th>Validation Loss</th>\n",
       "    </tr>\n",
       "  </thead>\n",
       "  <tbody>\n",
       "    <tr>\n",
       "      <td>9</td>\n",
       "      <td>0.390300</td>\n",
       "      <td>0.476032</td>\n",
       "    </tr>\n",
       "    <tr>\n",
       "      <td>18</td>\n",
       "      <td>0.355100</td>\n",
       "      <td>0.453840</td>\n",
       "    </tr>\n",
       "    <tr>\n",
       "      <td>27</td>\n",
       "      <td>0.322200</td>\n",
       "      <td>0.447415</td>\n",
       "    </tr>\n",
       "    <tr>\n",
       "      <td>36</td>\n",
       "      <td>0.326100</td>\n",
       "      <td>0.392523</td>\n",
       "    </tr>\n",
       "  </tbody>\n",
       "</table><p>"
      ],
      "text/plain": [
       "<IPython.core.display.HTML object>"
      ]
     },
     "metadata": {},
     "output_type": "display_data"
    },
    {
     "data": {
      "image/png": "[encoded data removed]",
      "text/plain": [
       "<Figure size 640x480 with 1 Axes>"
      ]
     },
     "metadata": {},
     "output_type": "display_data"
    },
    {
     "data": {
      "image/png": "[encoded data removed]",
      "text/plain": [
       "<Figure size 640x480 with 1 Axes>"
      ]
     },
     "metadata": {},
     "output_type": "display_data"
    },
    {
     "name": "stdout",
     "output_type": "stream",
     "text": [
      "Challenge 5/20 complete. Correct so far: 1/5.\n",
      "==((====))==  Unsloth 2024.11.10: Fast Llama patching. Transformers:4.46.3.\n",
      "   \\\\   /|    GPU: NVIDIA H100 PCIe. Max memory: 79.097 GB. Platform: Linux.\n",
      "O^O/ \\_/ \\    Torch: 2.5.1+cu124. CUDA: 9.0. CUDA Toolkit: 12.4. Triton: 3.1.0\n",
      "\\        /    Bfloat16 = TRUE. FA [Xformers = 0.0.28.post3. FA2 = True]\n",
      " \"-____-\"     Free Apache license: http://github.com/unslothai/unsloth\n",
      "Unsloth: Fast downloading is enabled - ignore downloading bars which are red colored!\n",
      "num train steps: 56\n"
     ]
    },
    {
     "data": {
      "application/vnd.jupyter.widget-view+json": {
       "model_id": "3a8c98957afc474b82acc51139e9e098",
       "version_major": 2,
       "version_minor": 0
      },
      "text/plain": [
       "Map (num_proc=2):   0%|          | 0/28 [00:00<?, ? examples/s]"
      ]
     },
     "metadata": {},
     "output_type": "display_data"
    },
    {
     "name": "stderr",
     "output_type": "stream",
     "text": [
      "num_proc must be <= 1. Reducing num_proc to 1 for dataset of size 1.\n",
      "WARNING:datasets.arrow_dataset:num_proc must be <= 1. Reducing num_proc to 1 for dataset of size 1.\n"
     ]
    },
    {
     "data": {
      "application/vnd.jupyter.widget-view+json": {
       "model_id": "927134a56dd8458db0af40595e26a55f",
       "version_major": 2,
       "version_minor": 0
      },
      "text/plain": [
       "Map:   0%|          | 0/1 [00:00<?, ? examples/s]"
      ]
     },
     "metadata": {},
     "output_type": "display_data"
    },
    {
     "name": "stderr",
     "output_type": "stream",
     "text": [
      "==((====))==  Unsloth - 2x faster free finetuning | Num GPUs = 1\n",
      "   \\\\   /|    Num examples = 28 | Num Epochs = 2\n",
      "O^O/ \\_/ \\    Batch size per device = 1 | Gradient Accumulation steps = 1\n",
      "\\        /    Total batch size = 1 | Total steps = 56\n",
      " \"-____-\"     Number of trainable parameters = 22,544,384\n"
     ]
    },
    {
     "data": {
      "text/html": [
       "\n",
       "    <div>\n",
       "      \n",
       "      <progress value='56' max='56' style='width:300px; height:20px; vertical-align: middle;'></progress>\n",
       "      [56/56 00:17, Epoch 2/2]\n",
       "    </div>\n",
       "    <table border=\"1\" class=\"dataframe\">\n",
       "  <thead>\n",
       " <tr style=\"text-align: left;\">\n",
       "      <th>Step</th>\n",
       "      <th>Training Loss</th>\n",
       "      <th>Validation Loss</th>\n",
       "    </tr>\n",
       "  </thead>\n",
       "  <tbody>\n",
       "    <tr>\n",
       "      <td>12</td>\n",
       "      <td>0.069000</td>\n",
       "      <td>0.124244</td>\n",
       "    </tr>\n",
       "    <tr>\n",
       "      <td>24</td>\n",
       "      <td>0.067100</td>\n",
       "      <td>0.076234</td>\n",
       "    </tr>\n",
       "    <tr>\n",
       "      <td>36</td>\n",
       "      <td>0.050200</td>\n",
       "      <td>0.072646</td>\n",
       "    </tr>\n",
       "    <tr>\n",
       "      <td>48</td>\n",
       "      <td>0.049900</td>\n",
       "      <td>0.061138</td>\n",
       "    </tr>\n",
       "  </tbody>\n",
       "</table><p>"
      ],
      "text/plain": [
       "<IPython.core.display.HTML object>"
      ]
     },
     "metadata": {},
     "output_type": "display_data"
    },
    {
     "data": {
      "image/png": "[encoded data removed]",
      "text/plain": [
       "<Figure size 640x480 with 1 Axes>"
      ]
     },
     "metadata": {},
     "output_type": "display_data"
    },
    {
     "data": {
      "image/png": "[encoded data removed]",
      "text/plain": [
       "<Figure size 640x480 with 1 Axes>"
      ]
     },
     "metadata": {},
     "output_type": "display_data"
    },
    {
     "name": "stdout",
     "output_type": "stream",
     "text": [
      "Challenge 6/20 complete. Correct so far: 1/6.\n",
      "==((====))==  Unsloth 2024.11.10: Fast Llama patching. Transformers:4.46.3.\n",
      "   \\\\   /|    GPU: NVIDIA H100 PCIe. Max memory: 79.097 GB. Platform: Linux.\n",
      "O^O/ \\_/ \\    Torch: 2.5.1+cu124. CUDA: 9.0. CUDA Toolkit: 12.4. Triton: 3.1.0\n",
      "\\        /    Bfloat16 = TRUE. FA [Xformers = 0.0.28.post3. FA2 = True]\n",
      " \"-____-\"     Free Apache license: http://github.com/unslothai/unsloth\n",
      "Unsloth: Fast downloading is enabled - ignore downloading bars which are red colored!\n",
      "num train steps: 42\n"
     ]
    },
    {
     "data": {
      "application/vnd.jupyter.widget-view+json": {
       "model_id": "632ef934088d4fc09b1932443e0448a4",
       "version_major": 2,
       "version_minor": 0
      },
      "text/plain": [
       "Map (num_proc=2):   0%|          | 0/21 [00:00<?, ? examples/s]"
      ]
     },
     "metadata": {},
     "output_type": "display_data"
    },
    {
     "name": "stderr",
     "output_type": "stream",
     "text": [
      "num_proc must be <= 1. Reducing num_proc to 1 for dataset of size 1.\n",
      "WARNING:datasets.arrow_dataset:num_proc must be <= 1. Reducing num_proc to 1 for dataset of size 1.\n"
     ]
    },
    {
     "data": {
      "application/vnd.jupyter.widget-view+json": {
       "model_id": "d737074a50ee4e4eb8e997b580cadcff",
       "version_major": 2,
       "version_minor": 0
      },
      "text/plain": [
       "Map:   0%|          | 0/1 [00:00<?, ? examples/s]"
      ]
     },
     "metadata": {},
     "output_type": "display_data"
    },
    {
     "name": "stderr",
     "output_type": "stream",
     "text": [
      "==((====))==  Unsloth - 2x faster free finetuning | Num GPUs = 1\n",
      "   \\\\   /|    Num examples = 21 | Num Epochs = 2\n",
      "O^O/ \\_/ \\    Batch size per device = 1 | Gradient Accumulation steps = 1\n",
      "\\        /    Total batch size = 1 | Total steps = 42\n",
      " \"-____-\"     Number of trainable parameters = 22,544,384\n"
     ]
    },
    {
     "data": {
      "text/html": [
       "\n",
       "    <div>\n",
       "      \n",
       "      <progress value='42' max='42' style='width:300px; height:20px; vertical-align: middle;'></progress>\n",
       "      [42/42 00:17, Epoch 2/2]\n",
       "    </div>\n",
       "    <table border=\"1\" class=\"dataframe\">\n",
       "  <thead>\n",
       " <tr style=\"text-align: left;\">\n",
       "      <th>Step</th>\n",
       "      <th>Training Loss</th>\n",
       "      <th>Validation Loss</th>\n",
       "    </tr>\n",
       "  </thead>\n",
       "  <tbody>\n",
       "    <tr>\n",
       "      <td>9</td>\n",
       "      <td>0.069100</td>\n",
       "      <td>0.114453</td>\n",
       "    </tr>\n",
       "    <tr>\n",
       "      <td>18</td>\n",
       "      <td>0.052100</td>\n",
       "      <td>0.110538</td>\n",
       "    </tr>\n",
       "    <tr>\n",
       "      <td>27</td>\n",
       "      <td>0.041300</td>\n",
       "      <td>0.102608</td>\n",
       "    </tr>\n",
       "    <tr>\n",
       "      <td>36</td>\n",
       "      <td>0.035900</td>\n",
       "      <td>0.093981</td>\n",
       "    </tr>\n",
       "  </tbody>\n",
       "</table><p>"
      ],
      "text/plain": [
       "<IPython.core.display.HTML object>"
      ]
     },
     "metadata": {},
     "output_type": "display_data"
    },
    {
     "name": "stdout",
     "output_type": "stream",
     "text": [
      "Error in processing: '[' was never closed (<string>, line 1), Generated Output:  [[0 0 0 0 0 0 0 0 0 0 0 0 0 0 0 0 0 0 0 0 0 0 0 0]\n",
      " [0 0 0 2 2 2 2 2 2 2 0 0 0 1 0 0 3 3 3 3 3 3 0 1]\n",
      " [0 0 0 2 8 8 8 8 8 2 2 2 0 0 0 0 3 0 0 0 0 3 0 0]\n",
      " [0 0 0 2 8 8 8 8 8 8 8 2 0 0 0 0 3 0 0 6 0 3 0 0]\n",
      " [0 0 0 2 8 8 8 8 8 8 8 2 0 0 3 3 3 0 0 0 0 3 0 0]\n",
      " [0 2 2 2 8 8 8 8 8 8 8 2 0 0 3 0 0 0 0 8 0 3 0 0]\n",
      " [0 2 8 8 8 8 8 8 8 8 2 2 0 0 3 0 0 0 0 0 0 3 0 0]\n",
      " [0 2 8 8 8 8 8 8 8 8 8 8 0 0 3 0 0 0 0 0 0 3 0 0]\n",
      " [0 2 8 8 8 8 8 8 8 8 8 8 0 0 3 0 0 0 0 0 0 3 0 0]\n",
      " [0 2 8 8 8 8 8 8 8 8 8 8 0 0 3 0 0 0 0 0 0 3 0 0]\n",
      " [0 2 8 8 8 8 8 8 8 8 8 8 0 0 3 0 0 0 0 0 0 3 0 0]\n",
      " [0 2 8 8 8 8 8 8 8 8 8 8 0 0 3 0 0 0 0 0 0 3 0 0]\n",
      " [0 2 8 8 8 8 8 8 8 8 8 8 0 0 3 0 0 0 0 0 0 3 0 0]\n",
      " [0 2 8 8 8 8 8 8 8 8 8 8 0 0 3 0 0 0 0 0 0 3 0 0]\n",
      " [0 2 8 8 8 8 8 8 8 8 8 8 0 0 3 0 0 0 0 0 0 3 0 0]\n",
      " [0 2 8 8 8 8 8 8 8 8 8 8 0 0 3 0 0 0 0 0 0 3 0 0]\n",
      " [0 2 8 8 8 8 8 8 8 8 8 8 0 0 3 0 0 0 0 0 0 3 0 0]\n",
      " [0 2 8 8 8 8 8 8 8 8 8 8 0 0 3 0 0 0 0 0 0 3 0 0]\n",
      " [0 2 8 8 8 8 8 8 8 8 8 8 0 0 3 0 0 0 0 0 0 3 0 0]\n",
      " [0 2 8 8 8 8 8 8 8 8 8 8 0 0 3 0 0 0 0 0 0 3 0 0]\n",
      " [0 2 8 8 8 8 8 8 8 8 8 8 0 0 3 0 0 0 0 0 0 3 0 0]\n",
      " [0 2 8 8 8 8 8 8 8 8 8 8 0 0 3 0 0 0 0 0 0 3 0 0]\n",
      " [0 2 8 8 8 8 8 8 8 8 8 8 0 0 3 0 0 0 0 0 0 3 0 0]\n",
      " [0 2 8 8 8 8 8 8 8 8 8 8 0 0 3 0 0 0 0 0 0 3 0 0]\n",
      " [0 2 8 8 8 8 8 8 8 8 8 8 0 0 3 0 0 0 0 0 0 3 0 0]\n",
      " [0 2 8 8 8 8 8 8 8 8 8 8 0 0 3 0 0 0 0 0 0 3 0 0]\n",
      " [0 2 8 8 8 8 8 8 8 8 8 8 0 0 3 0 0 0 0 0 0 3 0 0]\n",
      " [0 2 8 8 8 8 8 8 8 8 8 8 0 0 3 0 0 0 0 0 0 3 0 0]\n",
      " [0 2 8 8 8 8 8 8 8 8 8 8 0 0 3 0 0 0 0 0 0 3 0 0]\n",
      " [0 2 8 8 8 8 8 8 8 8 8 8 0 0 3 0 0 0 0 0 0 3 0 0]\n",
      " [0 2 8 8 8 8 8 8 8 8 8 8 0 0 3\n",
      "Challenge 7/20 complete. Correct so far: 1/7.\n",
      "==((====))==  Unsloth 2024.11.10: Fast Llama patching. Transformers:4.46.3.\n",
      "   \\\\   /|    GPU: NVIDIA H100 PCIe. Max memory: 79.097 GB. Platform: Linux.\n",
      "O^O/ \\_/ \\    Torch: 2.5.1+cu124. CUDA: 9.0. CUDA Toolkit: 12.4. Triton: 3.1.0\n",
      "\\        /    Bfloat16 = TRUE. FA [Xformers = 0.0.28.post3. FA2 = True]\n",
      " \"-____-\"     Free Apache license: http://github.com/unslothai/unsloth\n",
      "Unsloth: Fast downloading is enabled - ignore downloading bars which are red colored!\n",
      "num train steps: 42\n"
     ]
    },
    {
     "data": {
      "application/vnd.jupyter.widget-view+json": {
       "model_id": "d6855c301efd42f58df2a8d902ca078c",
       "version_major": 2,
       "version_minor": 0
      },
      "text/plain": [
       "Map (num_proc=2):   0%|          | 0/21 [00:00<?, ? examples/s]"
      ]
     },
     "metadata": {},
     "output_type": "display_data"
    },
    {
     "name": "stderr",
     "output_type": "stream",
     "text": [
      "num_proc must be <= 1. Reducing num_proc to 1 for dataset of size 1.\n",
      "WARNING:datasets.arrow_dataset:num_proc must be <= 1. Reducing num_proc to 1 for dataset of size 1.\n"
     ]
    },
    {
     "data": {
      "application/vnd.jupyter.widget-view+json": {
       "model_id": "8171bbb831d64b81a3123dd6dd196c91",
       "version_major": 2,
       "version_minor": 0
      },
      "text/plain": [
       "Map:   0%|          | 0/1 [00:00<?, ? examples/s]"
      ]
     },
     "metadata": {},
     "output_type": "display_data"
    },
    {
     "name": "stderr",
     "output_type": "stream",
     "text": [
      "==((====))==  Unsloth - 2x faster free finetuning | Num GPUs = 1\n",
      "   \\\\   /|    Num examples = 21 | Num Epochs = 2\n",
      "O^O/ \\_/ \\    Batch size per device = 1 | Gradient Accumulation steps = 1\n",
      "\\        /    Total batch size = 1 | Total steps = 42\n",
      " \"-____-\"     Number of trainable parameters = 22,544,384\n"
     ]
    },
    {
     "data": {
      "text/html": [
       "\n",
       "    <div>\n",
       "      \n",
       "      <progress value='42' max='42' style='width:300px; height:20px; vertical-align: middle;'></progress>\n",
       "      [42/42 00:17, Epoch 2/2]\n",
       "    </div>\n",
       "    <table border=\"1\" class=\"dataframe\">\n",
       "  <thead>\n",
       " <tr style=\"text-align: left;\">\n",
       "      <th>Step</th>\n",
       "      <th>Training Loss</th>\n",
       "      <th>Validation Loss</th>\n",
       "    </tr>\n",
       "  </thead>\n",
       "  <tbody>\n",
       "    <tr>\n",
       "      <td>9</td>\n",
       "      <td>0.046700</td>\n",
       "      <td>0.047138</td>\n",
       "    </tr>\n",
       "    <tr>\n",
       "      <td>18</td>\n",
       "      <td>0.032400</td>\n",
       "      <td>0.045386</td>\n",
       "    </tr>\n",
       "    <tr>\n",
       "      <td>27</td>\n",
       "      <td>0.018300</td>\n",
       "      <td>0.037545</td>\n",
       "    </tr>\n",
       "    <tr>\n",
       "      <td>36</td>\n",
       "      <td>0.022000</td>\n",
       "      <td>0.030926</td>\n",
       "    </tr>\n",
       "  </tbody>\n",
       "</table><p>"
      ],
      "text/plain": [
       "<IPython.core.display.HTML object>"
      ]
     },
     "metadata": {},
     "output_type": "display_data"
    },
    {
     "data": {
      "image/png": "[encoded data removed]",
      "text/plain": [
       "<Figure size 640x480 with 1 Axes>"
      ]
     },
     "metadata": {},
     "output_type": "display_data"
    },
    {
     "data": {
      "image/png": "[encoded data removed]",
      "text/plain": [
       "<Figure size 640x480 with 1 Axes>"
      ]
     },
     "metadata": {},
     "output_type": "display_data"
    },
    {
     "name": "stdout",
     "output_type": "stream",
     "text": [
      "Challenge 8/20 complete. Correct so far: 1/8.\n",
      "==((====))==  Unsloth 2024.11.10: Fast Llama patching. Transformers:4.46.3.\n",
      "   \\\\   /|    GPU: NVIDIA H100 PCIe. Max memory: 79.097 GB. Platform: Linux.\n",
      "O^O/ \\_/ \\    Torch: 2.5.1+cu124. CUDA: 9.0. CUDA Toolkit: 12.4. Triton: 3.1.0\n",
      "\\        /    Bfloat16 = TRUE. FA [Xformers = 0.0.28.post3. FA2 = True]\n",
      " \"-____-\"     Free Apache license: http://github.com/unslothai/unsloth\n",
      "Unsloth: Fast downloading is enabled - ignore downloading bars which are red colored!\n",
      "num train steps: 28\n"
     ]
    },
    {
     "data": {
      "application/vnd.jupyter.widget-view+json": {
       "model_id": "cfd9d7e037894d54bd2c97d8c7b37695",
       "version_major": 2,
       "version_minor": 0
      },
      "text/plain": [
       "Map (num_proc=2):   0%|          | 0/14 [00:00<?, ? examples/s]"
      ]
     },
     "metadata": {},
     "output_type": "display_data"
    },
    {
     "name": "stderr",
     "output_type": "stream",
     "text": [
      "num_proc must be <= 1. Reducing num_proc to 1 for dataset of size 1.\n",
      "WARNING:datasets.arrow_dataset:num_proc must be <= 1. Reducing num_proc to 1 for dataset of size 1.\n"
     ]
    },
    {
     "data": {
      "application/vnd.jupyter.widget-view+json": {
       "model_id": "ff40a09a5ed94b4f8ae6a3ebb43710f4",
       "version_major": 2,
       "version_minor": 0
      },
      "text/plain": [
       "Map:   0%|          | 0/1 [00:00<?, ? examples/s]"
      ]
     },
     "metadata": {},
     "output_type": "display_data"
    },
    {
     "name": "stderr",
     "output_type": "stream",
     "text": [
      "==((====))==  Unsloth - 2x faster free finetuning | Num GPUs = 1\n",
      "   \\\\   /|    Num examples = 14 | Num Epochs = 2\n",
      "O^O/ \\_/ \\    Batch size per device = 1 | Gradient Accumulation steps = 1\n",
      "\\        /    Total batch size = 1 | Total steps = 28\n",
      " \"-____-\"     Number of trainable parameters = 22,544,384\n"
     ]
    },
    {
     "data": {
      "text/html": [
       "\n",
       "    <div>\n",
       "      \n",
       "      <progress value='28' max='28' style='width:300px; height:20px; vertical-align: middle;'></progress>\n",
       "      [28/28 00:11, Epoch 2/2]\n",
       "    </div>\n",
       "    <table border=\"1\" class=\"dataframe\">\n",
       "  <thead>\n",
       " <tr style=\"text-align: left;\">\n",
       "      <th>Step</th>\n",
       "      <th>Training Loss</th>\n",
       "      <th>Validation Loss</th>\n",
       "    </tr>\n",
       "  </thead>\n",
       "  <tbody>\n",
       "    <tr>\n",
       "      <td>6</td>\n",
       "      <td>0.093800</td>\n",
       "      <td>0.230292</td>\n",
       "    </tr>\n",
       "    <tr>\n",
       "      <td>12</td>\n",
       "      <td>0.074900</td>\n",
       "      <td>0.122287</td>\n",
       "    </tr>\n",
       "    <tr>\n",
       "      <td>18</td>\n",
       "      <td>0.050700</td>\n",
       "      <td>0.098223</td>\n",
       "    </tr>\n",
       "    <tr>\n",
       "      <td>24</td>\n",
       "      <td>0.042300</td>\n",
       "      <td>0.105824</td>\n",
       "    </tr>\n",
       "  </tbody>\n",
       "</table><p>"
      ],
      "text/plain": [
       "<IPython.core.display.HTML object>"
      ]
     },
     "metadata": {},
     "output_type": "display_data"
    },
    {
     "data": {
      "image/png": "[encoded data removed]",
      "text/plain": [
       "<Figure size 640x480 with 1 Axes>"
      ]
     },
     "metadata": {},
     "output_type": "display_data"
    },
    {
     "data": {
      "image/png": "[encoded data removed]",
      "text/plain": [
       "<Figure size 640x480 with 1 Axes>"
      ]
     },
     "metadata": {},
     "output_type": "display_data"
    },
    {
     "name": "stdout",
     "output_type": "stream",
     "text": [
      "Challenge 9/20 complete. Correct so far: 2/9.\n",
      "==((====))==  Unsloth 2024.11.10: Fast Llama patching. Transformers:4.46.3.\n",
      "   \\\\   /|    GPU: NVIDIA H100 PCIe. Max memory: 79.097 GB. Platform: Linux.\n",
      "O^O/ \\_/ \\    Torch: 2.5.1+cu124. CUDA: 9.0. CUDA Toolkit: 12.4. Triton: 3.1.0\n",
      "\\        /    Bfloat16 = TRUE. FA [Xformers = 0.0.28.post3. FA2 = True]\n",
      " \"-____-\"     Free Apache license: http://github.com/unslothai/unsloth\n",
      "Unsloth: Fast downloading is enabled - ignore downloading bars which are red colored!\n",
      "num train steps: 42\n"
     ]
    },
    {
     "data": {
      "application/vnd.jupyter.widget-view+json": {
       "model_id": "b616dcd50abc4f6aa573d9b25d31eeb7",
       "version_major": 2,
       "version_minor": 0
      },
      "text/plain": [
       "Map (num_proc=2):   0%|          | 0/21 [00:00<?, ? examples/s]"
      ]
     },
     "metadata": {},
     "output_type": "display_data"
    },
    {
     "name": "stderr",
     "output_type": "stream",
     "text": [
      "num_proc must be <= 1. Reducing num_proc to 1 for dataset of size 1.\n",
      "WARNING:datasets.arrow_dataset:num_proc must be <= 1. Reducing num_proc to 1 for dataset of size 1.\n"
     ]
    },
    {
     "data": {
      "application/vnd.jupyter.widget-view+json": {
       "model_id": "9c26f7b7ba4f42a8ad4741d5a6636831",
       "version_major": 2,
       "version_minor": 0
      },
      "text/plain": [
       "Map:   0%|          | 0/1 [00:00<?, ? examples/s]"
      ]
     },
     "metadata": {},
     "output_type": "display_data"
    },
    {
     "name": "stderr",
     "output_type": "stream",
     "text": [
      "==((====))==  Unsloth - 2x faster free finetuning | Num GPUs = 1\n",
      "   \\\\   /|    Num examples = 21 | Num Epochs = 2\n",
      "O^O/ \\_/ \\    Batch size per device = 1 | Gradient Accumulation steps = 1\n",
      "\\        /    Total batch size = 1 | Total steps = 42\n",
      " \"-____-\"     Number of trainable parameters = 22,544,384\n"
     ]
    },
    {
     "data": {
      "text/html": [
       "\n",
       "    <div>\n",
       "      \n",
       "      <progress value='42' max='42' style='width:300px; height:20px; vertical-align: middle;'></progress>\n",
       "      [42/42 00:14, Epoch 2/2]\n",
       "    </div>\n",
       "    <table border=\"1\" class=\"dataframe\">\n",
       "  <thead>\n",
       " <tr style=\"text-align: left;\">\n",
       "      <th>Step</th>\n",
       "      <th>Training Loss</th>\n",
       "      <th>Validation Loss</th>\n",
       "    </tr>\n",
       "  </thead>\n",
       "  <tbody>\n",
       "    <tr>\n",
       "      <td>9</td>\n",
       "      <td>0.035600</td>\n",
       "      <td>0.036649</td>\n",
       "    </tr>\n",
       "    <tr>\n",
       "      <td>18</td>\n",
       "      <td>0.022500</td>\n",
       "      <td>0.026624</td>\n",
       "    </tr>\n",
       "    <tr>\n",
       "      <td>27</td>\n",
       "      <td>0.014600</td>\n",
       "      <td>0.034468</td>\n",
       "    </tr>\n",
       "    <tr>\n",
       "      <td>36</td>\n",
       "      <td>0.017400</td>\n",
       "      <td>0.021828</td>\n",
       "    </tr>\n",
       "  </tbody>\n",
       "</table><p>"
      ],
      "text/plain": [
       "<IPython.core.display.HTML object>"
      ]
     },
     "metadata": {},
     "output_type": "display_data"
    },
    {
     "data": {
      "image/png": "[encoded data removed]",
      "text/plain": [
       "<Figure size 640x480 with 1 Axes>"
      ]
     },
     "metadata": {},
     "output_type": "display_data"
    },
    {
     "data": {
      "image/png": "[encoded data removed]",
      "text/plain": [
       "<Figure size 640x480 with 1 Axes>"
      ]
     },
     "metadata": {},
     "output_type": "display_data"
    },
    {
     "name": "stdout",
     "output_type": "stream",
     "text": [
      "Challenge 10/20 complete. Correct so far: 2/10.\n",
      "==((====))==  Unsloth 2024.11.10: Fast Llama patching. Transformers:4.46.3.\n",
      "   \\\\   /|    GPU: NVIDIA H100 PCIe. Max memory: 79.097 GB. Platform: Linux.\n",
      "O^O/ \\_/ \\    Torch: 2.5.1+cu124. CUDA: 9.0. CUDA Toolkit: 12.4. Triton: 3.1.0\n",
      "\\        /    Bfloat16 = TRUE. FA [Xformers = 0.0.28.post3. FA2 = True]\n",
      " \"-____-\"     Free Apache license: http://github.com/unslothai/unsloth\n",
      "Unsloth: Fast downloading is enabled - ignore downloading bars which are red colored!\n",
      "num train steps: 56\n"
     ]
    },
    {
     "data": {
      "application/vnd.jupyter.widget-view+json": {
       "model_id": "fd410984dc024b968d5ec4ff56a7a20d",
       "version_major": 2,
       "version_minor": 0
      },
      "text/plain": [
       "Map (num_proc=2):   0%|          | 0/28 [00:00<?, ? examples/s]"
      ]
     },
     "metadata": {},
     "output_type": "display_data"
    },
    {
     "name": "stderr",
     "output_type": "stream",
     "text": [
      "num_proc must be <= 1. Reducing num_proc to 1 for dataset of size 1.\n",
      "WARNING:datasets.arrow_dataset:num_proc must be <= 1. Reducing num_proc to 1 for dataset of size 1.\n"
     ]
    },
    {
     "data": {
      "application/vnd.jupyter.widget-view+json": {
       "model_id": "7b30306019bc4d328cad30722393f7b4",
       "version_major": 2,
       "version_minor": 0
      },
      "text/plain": [
       "Map:   0%|          | 0/1 [00:00<?, ? examples/s]"
      ]
     },
     "metadata": {},
     "output_type": "display_data"
    },
    {
     "name": "stderr",
     "output_type": "stream",
     "text": [
      "==((====))==  Unsloth - 2x faster free finetuning | Num GPUs = 1\n",
      "   \\\\   /|    Num examples = 28 | Num Epochs = 2\n",
      "O^O/ \\_/ \\    Batch size per device = 1 | Gradient Accumulation steps = 1\n",
      "\\        /    Total batch size = 1 | Total steps = 56\n",
      " \"-____-\"     Number of trainable parameters = 22,544,384\n"
     ]
    },
    {
     "data": {
      "text/html": [
       "\n",
       "    <div>\n",
       "      \n",
       "      <progress value='56' max='56' style='width:300px; height:20px; vertical-align: middle;'></progress>\n",
       "      [56/56 00:18, Epoch 2/2]\n",
       "    </div>\n",
       "    <table border=\"1\" class=\"dataframe\">\n",
       "  <thead>\n",
       " <tr style=\"text-align: left;\">\n",
       "      <th>Step</th>\n",
       "      <th>Training Loss</th>\n",
       "      <th>Validation Loss</th>\n",
       "    </tr>\n",
       "  </thead>\n",
       "  <tbody>\n",
       "    <tr>\n",
       "      <td>12</td>\n",
       "      <td>0.071100</td>\n",
       "      <td>0.086802</td>\n",
       "    </tr>\n",
       "    <tr>\n",
       "      <td>24</td>\n",
       "      <td>0.051400</td>\n",
       "      <td>0.049598</td>\n",
       "    </tr>\n",
       "    <tr>\n",
       "      <td>36</td>\n",
       "      <td>0.038100</td>\n",
       "      <td>0.062463</td>\n",
       "    </tr>\n",
       "    <tr>\n",
       "      <td>48</td>\n",
       "      <td>0.038600</td>\n",
       "      <td>0.050879</td>\n",
       "    </tr>\n",
       "  </tbody>\n",
       "</table><p>"
      ],
      "text/plain": [
       "<IPython.core.display.HTML object>"
      ]
     },
     "metadata": {},
     "output_type": "display_data"
    },
    {
     "data": {
      "image/png": "[encoded data removed]",
      "text/plain": [
       "<Figure size 640x480 with 1 Axes>"
      ]
     },
     "metadata": {},
     "output_type": "display_data"
    },
    {
     "data": {
      "image/png": "[encoded data removed]",
      "text/plain": [
       "<Figure size 640x480 with 1 Axes>"
      ]
     },
     "metadata": {},
     "output_type": "display_data"
    },
    {
     "name": "stdout",
     "output_type": "stream",
     "text": [
      "Challenge 11/20 complete. Correct so far: 2/11.\n",
      "==((====))==  Unsloth 2024.11.10: Fast Llama patching. Transformers:4.46.3.\n",
      "   \\\\   /|    GPU: NVIDIA H100 PCIe. Max memory: 79.097 GB. Platform: Linux.\n",
      "O^O/ \\_/ \\    Torch: 2.5.1+cu124. CUDA: 9.0. CUDA Toolkit: 12.4. Triton: 3.1.0\n",
      "\\        /    Bfloat16 = TRUE. FA [Xformers = 0.0.28.post3. FA2 = True]\n",
      " \"-____-\"     Free Apache license: http://github.com/unslothai/unsloth\n",
      "Unsloth: Fast downloading is enabled - ignore downloading bars which are red colored!\n",
      "num train steps: 42\n"
     ]
    },
    {
     "data": {
      "application/vnd.jupyter.widget-view+json": {
       "model_id": "c06faa4421a24dffab71042656dedce4",
       "version_major": 2,
       "version_minor": 0
      },
      "text/plain": [
       "Map (num_proc=2):   0%|          | 0/21 [00:00<?, ? examples/s]"
      ]
     },
     "metadata": {},
     "output_type": "display_data"
    },
    {
     "name": "stderr",
     "output_type": "stream",
     "text": [
      "num_proc must be <= 1. Reducing num_proc to 1 for dataset of size 1.\n",
      "WARNING:datasets.arrow_dataset:num_proc must be <= 1. Reducing num_proc to 1 for dataset of size 1.\n"
     ]
    },
    {
     "data": {
      "application/vnd.jupyter.widget-view+json": {
       "model_id": "56fdb62920ca412ea6719c6c3b908499",
       "version_major": 2,
       "version_minor": 0
      },
      "text/plain": [
       "Map:   0%|          | 0/1 [00:00<?, ? examples/s]"
      ]
     },
     "metadata": {},
     "output_type": "display_data"
    },
    {
     "name": "stderr",
     "output_type": "stream",
     "text": [
      "==((====))==  Unsloth - 2x faster free finetuning | Num GPUs = 1\n",
      "   \\\\   /|    Num examples = 21 | Num Epochs = 2\n",
      "O^O/ \\_/ \\    Batch size per device = 1 | Gradient Accumulation steps = 1\n",
      "\\        /    Total batch size = 1 | Total steps = 42\n",
      " \"-____-\"     Number of trainable parameters = 22,544,384\n"
     ]
    },
    {
     "data": {
      "text/html": [
       "\n",
       "    <div>\n",
       "      \n",
       "      <progress value='42' max='42' style='width:300px; height:20px; vertical-align: middle;'></progress>\n",
       "      [42/42 00:17, Epoch 2/2]\n",
       "    </div>\n",
       "    <table border=\"1\" class=\"dataframe\">\n",
       "  <thead>\n",
       " <tr style=\"text-align: left;\">\n",
       "      <th>Step</th>\n",
       "      <th>Training Loss</th>\n",
       "      <th>Validation Loss</th>\n",
       "    </tr>\n",
       "  </thead>\n",
       "  <tbody>\n",
       "    <tr>\n",
       "      <td>9</td>\n",
       "      <td>0.166300</td>\n",
       "      <td>0.212870</td>\n",
       "    </tr>\n",
       "    <tr>\n",
       "      <td>18</td>\n",
       "      <td>0.115300</td>\n",
       "      <td>0.165350</td>\n",
       "    </tr>\n",
       "    <tr>\n",
       "      <td>27</td>\n",
       "      <td>0.108700</td>\n",
       "      <td>0.167741</td>\n",
       "    </tr>\n",
       "    <tr>\n",
       "      <td>36</td>\n",
       "      <td>0.087100</td>\n",
       "      <td>0.139357</td>\n",
       "    </tr>\n",
       "  </tbody>\n",
       "</table><p>"
      ],
      "text/plain": [
       "<IPython.core.display.HTML object>"
      ]
     },
     "metadata": {},
     "output_type": "display_data"
    },
    {
     "data": {
      "image/png": "[encoded data removed]",
      "text/plain": [
       "<Figure size 640x480 with 1 Axes>"
      ]
     },
     "metadata": {},
     "output_type": "display_data"
    },
    {
     "data": {
      "image/png": "[encoded data removed]",
      "text/plain": [
       "<Figure size 640x480 with 1 Axes>"
      ]
     },
     "metadata": {},
     "output_type": "display_data"
    },
    {
     "name": "stdout",
     "output_type": "stream",
     "text": [
      "Challenge 12/20 complete. Correct so far: 2/12.\n",
      "==((====))==  Unsloth 2024.11.10: Fast Llama patching. Transformers:4.46.3.\n",
      "   \\\\   /|    GPU: NVIDIA H100 PCIe. Max memory: 79.097 GB. Platform: Linux.\n",
      "O^O/ \\_/ \\    Torch: 2.5.1+cu124. CUDA: 9.0. CUDA Toolkit: 12.4. Triton: 3.1.0\n",
      "\\        /    Bfloat16 = TRUE. FA [Xformers = 0.0.28.post3. FA2 = True]\n",
      " \"-____-\"     Free Apache license: http://github.com/unslothai/unsloth\n",
      "Unsloth: Fast downloading is enabled - ignore downloading bars which are red colored!\n",
      "num train steps: 56\n"
     ]
    },
    {
     "data": {
      "application/vnd.jupyter.widget-view+json": {
       "model_id": "90b07384c7da41d2af330170c108cf46",
       "version_major": 2,
       "version_minor": 0
      },
      "text/plain": [
       "Map (num_proc=2):   0%|          | 0/28 [00:00<?, ? examples/s]"
      ]
     },
     "metadata": {},
     "output_type": "display_data"
    },
    {
     "name": "stderr",
     "output_type": "stream",
     "text": [
      "num_proc must be <= 1. Reducing num_proc to 1 for dataset of size 1.\n",
      "WARNING:datasets.arrow_dataset:num_proc must be <= 1. Reducing num_proc to 1 for dataset of size 1.\n"
     ]
    },
    {
     "data": {
      "application/vnd.jupyter.widget-view+json": {
       "model_id": "b298eceb8a6348649ea46793ae13135e",
       "version_major": 2,
       "version_minor": 0
      },
      "text/plain": [
       "Map:   0%|          | 0/1 [00:00<?, ? examples/s]"
      ]
     },
     "metadata": {},
     "output_type": "display_data"
    },
    {
     "name": "stderr",
     "output_type": "stream",
     "text": [
      "==((====))==  Unsloth - 2x faster free finetuning | Num GPUs = 1\n",
      "   \\\\   /|    Num examples = 28 | Num Epochs = 2\n",
      "O^O/ \\_/ \\    Batch size per device = 1 | Gradient Accumulation steps = 1\n",
      "\\        /    Total batch size = 1 | Total steps = 56\n",
      " \"-____-\"     Number of trainable parameters = 22,544,384\n"
     ]
    },
    {
     "data": {
      "text/html": [
       "\n",
       "    <div>\n",
       "      \n",
       "      <progress value='56' max='56' style='width:300px; height:20px; vertical-align: middle;'></progress>\n",
       "      [56/56 00:17, Epoch 2/2]\n",
       "    </div>\n",
       "    <table border=\"1\" class=\"dataframe\">\n",
       "  <thead>\n",
       " <tr style=\"text-align: left;\">\n",
       "      <th>Step</th>\n",
       "      <th>Training Loss</th>\n",
       "      <th>Validation Loss</th>\n",
       "    </tr>\n",
       "  </thead>\n",
       "  <tbody>\n",
       "    <tr>\n",
       "      <td>12</td>\n",
       "      <td>0.049200</td>\n",
       "      <td>0.076443</td>\n",
       "    </tr>\n",
       "    <tr>\n",
       "      <td>24</td>\n",
       "      <td>0.048300</td>\n",
       "      <td>0.056316</td>\n",
       "    </tr>\n",
       "    <tr>\n",
       "      <td>36</td>\n",
       "      <td>0.033300</td>\n",
       "      <td>0.082739</td>\n",
       "    </tr>\n",
       "    <tr>\n",
       "      <td>48</td>\n",
       "      <td>0.038800</td>\n",
       "      <td>0.058322</td>\n",
       "    </tr>\n",
       "  </tbody>\n",
       "</table><p>"
      ],
      "text/plain": [
       "<IPython.core.display.HTML object>"
      ]
     },
     "metadata": {},
     "output_type": "display_data"
    },
    {
     "data": {
      "image/png": "[encoded data removed]",
      "text/plain": [
       "<Figure size 640x480 with 1 Axes>"
      ]
     },
     "metadata": {},
     "output_type": "display_data"
    },
    {
     "data": {
      "image/png": "[encoded data removed]",
      "text/plain": [
       "<Figure size 640x480 with 1 Axes>"
      ]
     },
     "metadata": {},
     "output_type": "display_data"
    },
    {
     "name": "stdout",
     "output_type": "stream",
     "text": [
      "Shape mismatch: Generated (15, 16) vs Expected (14, 16)\n",
      "Challenge 13/20 complete. Correct so far: 2/13.\n",
      "==((====))==  Unsloth 2024.11.10: Fast Llama patching. Transformers:4.46.3.\n",
      "   \\\\   /|    GPU: NVIDIA H100 PCIe. Max memory: 79.097 GB. Platform: Linux.\n",
      "O^O/ \\_/ \\    Torch: 2.5.1+cu124. CUDA: 9.0. CUDA Toolkit: 12.4. Triton: 3.1.0\n",
      "\\        /    Bfloat16 = TRUE. FA [Xformers = 0.0.28.post3. FA2 = True]\n",
      " \"-____-\"     Free Apache license: http://github.com/unslothai/unsloth\n",
      "Unsloth: Fast downloading is enabled - ignore downloading bars which are red colored!\n",
      "num train steps: 42\n"
     ]
    },
    {
     "data": {
      "application/vnd.jupyter.widget-view+json": {
       "model_id": "3314902ce5914a9fbc9e26402d855b34",
       "version_major": 2,
       "version_minor": 0
      },
      "text/plain": [
       "Map (num_proc=2):   0%|          | 0/21 [00:00<?, ? examples/s]"
      ]
     },
     "metadata": {},
     "output_type": "display_data"
    },
    {
     "name": "stderr",
     "output_type": "stream",
     "text": [
      "num_proc must be <= 1. Reducing num_proc to 1 for dataset of size 1.\n",
      "WARNING:datasets.arrow_dataset:num_proc must be <= 1. Reducing num_proc to 1 for dataset of size 1.\n"
     ]
    },
    {
     "data": {
      "application/vnd.jupyter.widget-view+json": {
       "model_id": "d178168d58cd44209d121cd5f0c4f624",
       "version_major": 2,
       "version_minor": 0
      },
      "text/plain": [
       "Map:   0%|          | 0/1 [00:00<?, ? examples/s]"
      ]
     },
     "metadata": {},
     "output_type": "display_data"
    },
    {
     "name": "stderr",
     "output_type": "stream",
     "text": [
      "==((====))==  Unsloth - 2x faster free finetuning | Num GPUs = 1\n",
      "   \\\\   /|    Num examples = 21 | Num Epochs = 2\n",
      "O^O/ \\_/ \\    Batch size per device = 1 | Gradient Accumulation steps = 1\n",
      "\\        /    Total batch size = 1 | Total steps = 42\n",
      " \"-____-\"     Number of trainable parameters = 22,544,384\n"
     ]
    },
    {
     "data": {
      "text/html": [
       "\n",
       "    <div>\n",
       "      \n",
       "      <progress value='42' max='42' style='width:300px; height:20px; vertical-align: middle;'></progress>\n",
       "      [42/42 00:17, Epoch 2/2]\n",
       "    </div>\n",
       "    <table border=\"1\" class=\"dataframe\">\n",
       "  <thead>\n",
       " <tr style=\"text-align: left;\">\n",
       "      <th>Step</th>\n",
       "      <th>Training Loss</th>\n",
       "      <th>Validation Loss</th>\n",
       "    </tr>\n",
       "  </thead>\n",
       "  <tbody>\n",
       "    <tr>\n",
       "      <td>9</td>\n",
       "      <td>0.095400</td>\n",
       "      <td>0.125614</td>\n",
       "    </tr>\n",
       "    <tr>\n",
       "      <td>18</td>\n",
       "      <td>0.068000</td>\n",
       "      <td>0.102595</td>\n",
       "    </tr>\n",
       "    <tr>\n",
       "      <td>27</td>\n",
       "      <td>0.051700</td>\n",
       "      <td>0.104461</td>\n",
       "    </tr>\n",
       "    <tr>\n",
       "      <td>36</td>\n",
       "      <td>0.051300</td>\n",
       "      <td>0.098548</td>\n",
       "    </tr>\n",
       "  </tbody>\n",
       "</table><p>"
      ],
      "text/plain": [
       "<IPython.core.display.HTML object>"
      ]
     },
     "metadata": {},
     "output_type": "display_data"
    },
    {
     "data": {
      "image/png": "[encoded data removed]",
      "text/plain": [
       "<Figure size 640x480 with 1 Axes>"
      ]
     },
     "metadata": {},
     "output_type": "display_data"
    },
    {
     "data": {
      "image/png": "[encoded data removed]",
      "text/plain": [
       "<Figure size 640x480 with 1 Axes>"
      ]
     },
     "metadata": {},
     "output_type": "display_data"
    },
    {
     "name": "stdout",
     "output_type": "stream",
     "text": [
      "Shape mismatch: Generated (15, 27) vs Expected (16, 27)\n",
      "Challenge 14/20 complete. Correct so far: 2/14.\n",
      "==((====))==  Unsloth 2024.11.10: Fast Llama patching. Transformers:4.46.3.\n",
      "   \\\\   /|    GPU: NVIDIA H100 PCIe. Max memory: 79.097 GB. Platform: Linux.\n",
      "O^O/ \\_/ \\    Torch: 2.5.1+cu124. CUDA: 9.0. CUDA Toolkit: 12.4. Triton: 3.1.0\n",
      "\\        /    Bfloat16 = TRUE. FA [Xformers = 0.0.28.post3. FA2 = True]\n",
      " \"-____-\"     Free Apache license: http://github.com/unslothai/unsloth\n",
      "Unsloth: Fast downloading is enabled - ignore downloading bars which are red colored!\n",
      "num train steps: 28\n"
     ]
    },
    {
     "data": {
      "application/vnd.jupyter.widget-view+json": {
       "model_id": "c2f628a6f96e41dbbaa890247c2af5a9",
       "version_major": 2,
       "version_minor": 0
      },
      "text/plain": [
       "Map (num_proc=2):   0%|          | 0/14 [00:00<?, ? examples/s]"
      ]
     },
     "metadata": {},
     "output_type": "display_data"
    },
    {
     "name": "stderr",
     "output_type": "stream",
     "text": [
      "num_proc must be <= 1. Reducing num_proc to 1 for dataset of size 1.\n",
      "WARNING:datasets.arrow_dataset:num_proc must be <= 1. Reducing num_proc to 1 for dataset of size 1.\n"
     ]
    },
    {
     "data": {
      "application/vnd.jupyter.widget-view+json": {
       "model_id": "8e9bb69271b34cc482c601f972aae233",
       "version_major": 2,
       "version_minor": 0
      },
      "text/plain": [
       "Map:   0%|          | 0/1 [00:00<?, ? examples/s]"
      ]
     },
     "metadata": {},
     "output_type": "display_data"
    },
    {
     "name": "stderr",
     "output_type": "stream",
     "text": [
      "==((====))==  Unsloth - 2x faster free finetuning | Num GPUs = 1\n",
      "   \\\\   /|    Num examples = 14 | Num Epochs = 2\n",
      "O^O/ \\_/ \\    Batch size per device = 1 | Gradient Accumulation steps = 1\n",
      "\\        /    Total batch size = 1 | Total steps = 28\n",
      " \"-____-\"     Number of trainable parameters = 22,544,384\n"
     ]
    },
    {
     "data": {
      "text/html": [
       "\n",
       "    <div>\n",
       "      \n",
       "      <progress value='28' max='28' style='width:300px; height:20px; vertical-align: middle;'></progress>\n",
       "      [28/28 00:14, Epoch 2/2]\n",
       "    </div>\n",
       "    <table border=\"1\" class=\"dataframe\">\n",
       "  <thead>\n",
       " <tr style=\"text-align: left;\">\n",
       "      <th>Step</th>\n",
       "      <th>Training Loss</th>\n",
       "      <th>Validation Loss</th>\n",
       "    </tr>\n",
       "  </thead>\n",
       "  <tbody>\n",
       "    <tr>\n",
       "      <td>6</td>\n",
       "      <td>0.066100</td>\n",
       "      <td>0.100159</td>\n",
       "    </tr>\n",
       "    <tr>\n",
       "      <td>12</td>\n",
       "      <td>0.051000</td>\n",
       "      <td>0.081251</td>\n",
       "    </tr>\n",
       "    <tr>\n",
       "      <td>18</td>\n",
       "      <td>0.041200</td>\n",
       "      <td>0.082281</td>\n",
       "    </tr>\n",
       "    <tr>\n",
       "      <td>24</td>\n",
       "      <td>0.031300</td>\n",
       "      <td>0.071466</td>\n",
       "    </tr>\n",
       "  </tbody>\n",
       "</table><p>"
      ],
      "text/plain": [
       "<IPython.core.display.HTML object>"
      ]
     },
     "metadata": {},
     "output_type": "display_data"
    },
    {
     "data": {
      "image/png": "[encoded data removed]",
      "text/plain": [
       "<Figure size 640x480 with 1 Axes>"
      ]
     },
     "metadata": {},
     "output_type": "display_data"
    },
    {
     "data": {
      "image/png": "[encoded data removed]",
      "text/plain": [
       "<Figure size 640x480 with 1 Axes>"
      ]
     },
     "metadata": {},
     "output_type": "display_data"
    },
    {
     "name": "stdout",
     "output_type": "stream",
     "text": [
      "Challenge 15/20 complete. Correct so far: 3/15.\n",
      "==((====))==  Unsloth 2024.11.10: Fast Llama patching. Transformers:4.46.3.\n",
      "   \\\\   /|    GPU: NVIDIA H100 PCIe. Max memory: 79.097 GB. Platform: Linux.\n",
      "O^O/ \\_/ \\    Torch: 2.5.1+cu124. CUDA: 9.0. CUDA Toolkit: 12.4. Triton: 3.1.0\n",
      "\\        /    Bfloat16 = TRUE. FA [Xformers = 0.0.28.post3. FA2 = True]\n",
      " \"-____-\"     Free Apache license: http://github.com/unslothai/unsloth\n",
      "Unsloth: Fast downloading is enabled - ignore downloading bars which are red colored!\n",
      "num train steps: 42\n"
     ]
    },
    {
     "data": {
      "application/vnd.jupyter.widget-view+json": {
       "model_id": "98f1376e39104888ab970959062ce640",
       "version_major": 2,
       "version_minor": 0
      },
      "text/plain": [
       "Map (num_proc=2):   0%|          | 0/21 [00:00<?, ? examples/s]"
      ]
     },
     "metadata": {},
     "output_type": "display_data"
    },
    {
     "name": "stderr",
     "output_type": "stream",
     "text": [
      "num_proc must be <= 1. Reducing num_proc to 1 for dataset of size 1.\n",
      "WARNING:datasets.arrow_dataset:num_proc must be <= 1. Reducing num_proc to 1 for dataset of size 1.\n"
     ]
    },
    {
     "data": {
      "application/vnd.jupyter.widget-view+json": {
       "model_id": "4488cf8db9114b4a95c7d6da6abc7ea7",
       "version_major": 2,
       "version_minor": 0
      },
      "text/plain": [
       "Map:   0%|          | 0/1 [00:00<?, ? examples/s]"
      ]
     },
     "metadata": {},
     "output_type": "display_data"
    },
    {
     "name": "stderr",
     "output_type": "stream",
     "text": [
      "==((====))==  Unsloth - 2x faster free finetuning | Num GPUs = 1\n",
      "   \\\\   /|    Num examples = 21 | Num Epochs = 2\n",
      "O^O/ \\_/ \\    Batch size per device = 1 | Gradient Accumulation steps = 1\n",
      "\\        /    Total batch size = 1 | Total steps = 42\n",
      " \"-____-\"     Number of trainable parameters = 22,544,384\n"
     ]
    },
    {
     "data": {
      "text/html": [
       "\n",
       "    <div>\n",
       "      \n",
       "      <progress value='42' max='42' style='width:300px; height:20px; vertical-align: middle;'></progress>\n",
       "      [42/42 00:14, Epoch 2/2]\n",
       "    </div>\n",
       "    <table border=\"1\" class=\"dataframe\">\n",
       "  <thead>\n",
       " <tr style=\"text-align: left;\">\n",
       "      <th>Step</th>\n",
       "      <th>Training Loss</th>\n",
       "      <th>Validation Loss</th>\n",
       "    </tr>\n",
       "  </thead>\n",
       "  <tbody>\n",
       "    <tr>\n",
       "      <td>9</td>\n",
       "      <td>0.054100</td>\n",
       "      <td>0.059061</td>\n",
       "    </tr>\n",
       "    <tr>\n",
       "      <td>18</td>\n",
       "      <td>0.042300</td>\n",
       "      <td>0.051063</td>\n",
       "    </tr>\n",
       "    <tr>\n",
       "      <td>27</td>\n",
       "      <td>0.024800</td>\n",
       "      <td>0.039204</td>\n",
       "    </tr>\n",
       "    <tr>\n",
       "      <td>36</td>\n",
       "      <td>0.022300</td>\n",
       "      <td>0.028324</td>\n",
       "    </tr>\n",
       "  </tbody>\n",
       "</table><p>"
      ],
      "text/plain": [
       "<IPython.core.display.HTML object>"
      ]
     },
     "metadata": {},
     "output_type": "display_data"
    },
    {
     "data": {
      "image/png": "[encoded data removed]",
      "text/plain": [
       "<Figure size 640x480 with 1 Axes>"
      ]
     },
     "metadata": {},
     "output_type": "display_data"
    },
    {
     "data": {
      "image/png": "[encoded data removed]",
      "text/plain": [
       "<Figure size 640x480 with 1 Axes>"
      ]
     },
     "metadata": {},
     "output_type": "display_data"
    },
    {
     "name": "stdout",
     "output_type": "stream",
     "text": [
      "Challenge 16/20 complete. Correct so far: 3/16.\n",
      "==((====))==  Unsloth 2024.11.10: Fast Llama patching. Transformers:4.46.3.\n",
      "   \\\\   /|    GPU: NVIDIA H100 PCIe. Max memory: 79.097 GB. Platform: Linux.\n",
      "O^O/ \\_/ \\    Torch: 2.5.1+cu124. CUDA: 9.0. CUDA Toolkit: 12.4. Triton: 3.1.0\n",
      "\\        /    Bfloat16 = TRUE. FA [Xformers = 0.0.28.post3. FA2 = True]\n",
      " \"-____-\"     Free Apache license: http://github.com/unslothai/unsloth\n",
      "Unsloth: Fast downloading is enabled - ignore downloading bars which are red colored!\n",
      "num train steps: 42\n"
     ]
    },
    {
     "data": {
      "application/vnd.jupyter.widget-view+json": {
       "model_id": "3805e1ad74c84daaa5be1e25618ce86e",
       "version_major": 2,
       "version_minor": 0
      },
      "text/plain": [
       "Map (num_proc=2):   0%|          | 0/21 [00:00<?, ? examples/s]"
      ]
     },
     "metadata": {},
     "output_type": "display_data"
    },
    {
     "name": "stderr",
     "output_type": "stream",
     "text": [
      "num_proc must be <= 1. Reducing num_proc to 1 for dataset of size 1.\n",
      "WARNING:datasets.arrow_dataset:num_proc must be <= 1. Reducing num_proc to 1 for dataset of size 1.\n"
     ]
    },
    {
     "data": {
      "application/vnd.jupyter.widget-view+json": {
       "model_id": "97a374437d8749cf97b0c4e7b34df4fe",
       "version_major": 2,
       "version_minor": 0
      },
      "text/plain": [
       "Map:   0%|          | 0/1 [00:00<?, ? examples/s]"
      ]
     },
     "metadata": {},
     "output_type": "display_data"
    },
    {
     "name": "stderr",
     "output_type": "stream",
     "text": [
      "==((====))==  Unsloth - 2x faster free finetuning | Num GPUs = 1\n",
      "   \\\\   /|    Num examples = 21 | Num Epochs = 2\n",
      "O^O/ \\_/ \\    Batch size per device = 1 | Gradient Accumulation steps = 1\n",
      "\\        /    Total batch size = 1 | Total steps = 42\n",
      " \"-____-\"     Number of trainable parameters = 22,544,384\n"
     ]
    },
    {
     "data": {
      "text/html": [
       "\n",
       "    <div>\n",
       "      \n",
       "      <progress value='42' max='42' style='width:300px; height:20px; vertical-align: middle;'></progress>\n",
       "      [42/42 00:13, Epoch 2/2]\n",
       "    </div>\n",
       "    <table border=\"1\" class=\"dataframe\">\n",
       "  <thead>\n",
       " <tr style=\"text-align: left;\">\n",
       "      <th>Step</th>\n",
       "      <th>Training Loss</th>\n",
       "      <th>Validation Loss</th>\n",
       "    </tr>\n",
       "  </thead>\n",
       "  <tbody>\n",
       "    <tr>\n",
       "      <td>9</td>\n",
       "      <td>0.056100</td>\n",
       "      <td>0.116494</td>\n",
       "    </tr>\n",
       "    <tr>\n",
       "      <td>18</td>\n",
       "      <td>0.038300</td>\n",
       "      <td>0.110108</td>\n",
       "    </tr>\n",
       "    <tr>\n",
       "      <td>27</td>\n",
       "      <td>0.019800</td>\n",
       "      <td>0.103562</td>\n",
       "    </tr>\n",
       "    <tr>\n",
       "      <td>36</td>\n",
       "      <td>0.020600</td>\n",
       "      <td>0.094503</td>\n",
       "    </tr>\n",
       "  </tbody>\n",
       "</table><p>"
      ],
      "text/plain": [
       "<IPython.core.display.HTML object>"
      ]
     },
     "metadata": {},
     "output_type": "display_data"
    },
    {
     "name": "stdout",
     "output_type": "stream",
     "text": [
      "Error in processing: '[' was never closed (<string>, line 1), Generated Output:  [[0 0 0 0 0 0 0 0 0 0]\n",
      " [0 6 6 6 9 9 9 0 0 0 0]\n",
      " [0 6 6 6 9 9 9 0 0 0 0]\n",
      " [0 6 6 6 9 9 9 0 0 0 0]\n",
      " [0 7 7 7 8 8 8 0 0 0 0]\n",
      " [0 7 7 7 8 8 8 0 0 0 0]\n",
      " [0 7 7 7 8 8 8 0 0 0 0]\n",
      " [0 0 0 0 0 0 0 0 0 0 0]\n",
      " [0 0 0 0 0 0 0 0 0 0 0]\n",
      " [0 0 0 0 0 0 0 0 0 0 0]\n",
      " [0 0 0 0 0 0 0 0 0 0 0]\n",
      " [0 0 0 0 0 0 0 0 0 0 0]\n",
      " [0 0 0 0 0 0 0 0 0 0 0]\n",
      " [0 0 0 0 0 0 0 0 0 0 0]\n",
      " [0 0 0 0 0 0 0 0 0 0 0]\n",
      " [0 0 0 0 0 0 0 0 0 0 0]\n",
      " [0 0 0 0 0 0 0 0 0 0 0]\n",
      " [0 0 0 0 0 0 0 0 0 0 0]\n",
      " [0 0 0 0 0 0 0 0 0 0 0]\n",
      " [0 0 0 0 0 0 0 0 0 0 0]\n",
      " [0 0 0 0 0 0 0 0 0 0 0]\n",
      " [0 0 0 0 0 0 0 0 0 0 0]\n",
      " [0 0 0 0 0 0 0 0 0 0 0]\n",
      " [0 0 0 0 0 0 0 0 0 0 0]\n",
      " [0 0 0 0 0 0 0 0 0 0 0]\n",
      " [0 0 0 0 0 0 0 0 0 0 0]\n",
      " [0 0 0 0 0 0 0 0 0 0 0]\n",
      " [0 0 0 0 0 0 0 0 0 0 0]\n",
      " [0 0 0 0 0 0 0 0 0 0 0]\n",
      " [0 0 0 0 0 0 0 0 0 0 0]\n",
      " [0 0 0 0 0 0 0 0 0 0 0]\n",
      " [0 0 0 0 0 0 0 0 0 0 0]\n",
      " [0 0 0 0 0 0 0 0 0 0 0]\n",
      " [0 0 0 0 0 0 0 0 0 0 0]\n",
      " [0 0 0 0 0 0 0 0 0 0 0]\n",
      " [0 0 0 0 0 0 0 0 0 0 0]\n",
      " [0 0 0 0 0 0 0 0 0 0 0]\n",
      " [0 0 0 0 0 0 0 0 0 0 0]\n",
      " [0 0 0 0 0 0 0 0 0 0 0]\n",
      " [0 0 0 0 0 0 0 0 0 0 0]\n",
      " [0 0 0 0 0 0 0 0 0 0 0]\n",
      " [0 0 0 0 0 0 0 0 0 0 0]\n",
      " [0 0 0 0 0 0 0 0 0 0 0]\n",
      " [0 0 0 0 0 0 0 0 0 0 0]\n",
      " [0 0 0 0 0 0 0 0 0 0 0]\n",
      " [0 0 0 0 0 0 0 0 0 0 0]\n",
      " [0 0 0 0 0 0 0 0 0 0 0]\n",
      " [0 0 0 0 0 0 0 0 0 0 0]\n",
      " [0 0 0 0 0 0 0 0 0 0 0]\n",
      " [0 0 0 0 0 0 0 0 0 0 0]\n",
      " [0 0 0 0 0 0 0 0 0 0 0]\n",
      " [0 0 0 0 0 0 0 0 0 0 0]\n",
      " [0 0 0 0 0 0 0 0 0 0 0]\n",
      " [0 0 0 0 0 0 0 0 0 0 0]\n",
      " [0 0 0 0 0 0 0 0 0 0 0]\n",
      " [0 0 0 0 0 0 0 0 0 0 0]\n",
      " [0 0 0 0 0 0 0 0 0 0 0]\n",
      " [0 0 0 0 0 0 0 0 0 0 0]\n",
      " [0 0 0 0 0 0 0 0 0 0 0]\n",
      " [0 0 0 0 0 0 0 0 0 0 0]\n",
      " [0 0 0 0 0 0 0 0 0 0 0]\n",
      " [0 0 0 0 0 0 0 0 0 0 0]\n",
      " [0 0 0 0 0 0 0 0 0 0 0]\n",
      " [0 0 0 0 0 0 0 0 0 0 0]\n",
      " [0 0 0 0 0 0 0 0 0 0 0]\n",
      " [0 0 0 \n",
      "Challenge 17/20 complete. Correct so far: 3/17.\n",
      "==((====))==  Unsloth 2024.11.10: Fast Llama patching. Transformers:4.46.3.\n",
      "   \\\\   /|    GPU: NVIDIA H100 PCIe. Max memory: 79.097 GB. Platform: Linux.\n",
      "O^O/ \\_/ \\    Torch: 2.5.1+cu124. CUDA: 9.0. CUDA Toolkit: 12.4. Triton: 3.1.0\n",
      "\\        /    Bfloat16 = TRUE. FA [Xformers = 0.0.28.post3. FA2 = True]\n",
      " \"-____-\"     Free Apache license: http://github.com/unslothai/unsloth\n",
      "Unsloth: Fast downloading is enabled - ignore downloading bars which are red colored!\n",
      "num train steps: 42\n"
     ]
    },
    {
     "data": {
      "application/vnd.jupyter.widget-view+json": {
       "model_id": "3296a12b609b458696dc843ab94ae0b9",
       "version_major": 2,
       "version_minor": 0
      },
      "text/plain": [
       "Map (num_proc=2):   0%|          | 0/21 [00:00<?, ? examples/s]"
      ]
     },
     "metadata": {},
     "output_type": "display_data"
    },
    {
     "name": "stderr",
     "output_type": "stream",
     "text": [
      "num_proc must be <= 1. Reducing num_proc to 1 for dataset of size 1.\n",
      "WARNING:datasets.arrow_dataset:num_proc must be <= 1. Reducing num_proc to 1 for dataset of size 1.\n"
     ]
    },
    {
     "data": {
      "application/vnd.jupyter.widget-view+json": {
       "model_id": "3db9b7a8b01f469eaf690fb702353aea",
       "version_major": 2,
       "version_minor": 0
      },
      "text/plain": [
       "Map:   0%|          | 0/1 [00:00<?, ? examples/s]"
      ]
     },
     "metadata": {},
     "output_type": "display_data"
    },
    {
     "name": "stderr",
     "output_type": "stream",
     "text": [
      "==((====))==  Unsloth - 2x faster free finetuning | Num GPUs = 1\n",
      "   \\\\   /|    Num examples = 21 | Num Epochs = 2\n",
      "O^O/ \\_/ \\    Batch size per device = 1 | Gradient Accumulation steps = 1\n",
      "\\        /    Total batch size = 1 | Total steps = 42\n",
      " \"-____-\"     Number of trainable parameters = 22,544,384\n"
     ]
    },
    {
     "data": {
      "text/html": [
       "\n",
       "    <div>\n",
       "      \n",
       "      <progress value='42' max='42' style='width:300px; height:20px; vertical-align: middle;'></progress>\n",
       "      [42/42 00:13, Epoch 2/2]\n",
       "    </div>\n",
       "    <table border=\"1\" class=\"dataframe\">\n",
       "  <thead>\n",
       " <tr style=\"text-align: left;\">\n",
       "      <th>Step</th>\n",
       "      <th>Training Loss</th>\n",
       "      <th>Validation Loss</th>\n",
       "    </tr>\n",
       "  </thead>\n",
       "  <tbody>\n",
       "    <tr>\n",
       "      <td>9</td>\n",
       "      <td>0.033200</td>\n",
       "      <td>0.035941</td>\n",
       "    </tr>\n",
       "    <tr>\n",
       "      <td>18</td>\n",
       "      <td>0.025000</td>\n",
       "      <td>0.030936</td>\n",
       "    </tr>\n",
       "    <tr>\n",
       "      <td>27</td>\n",
       "      <td>0.013200</td>\n",
       "      <td>0.022948</td>\n",
       "    </tr>\n",
       "    <tr>\n",
       "      <td>36</td>\n",
       "      <td>0.015600</td>\n",
       "      <td>0.018019</td>\n",
       "    </tr>\n",
       "  </tbody>\n",
       "</table><p>"
      ],
      "text/plain": [
       "<IPython.core.display.HTML object>"
      ]
     },
     "metadata": {},
     "output_type": "display_data"
    },
    {
     "data": {
      "image/png": "[encoded data removed]",
      "text/plain": [
       "<Figure size 640x480 with 1 Axes>"
      ]
     },
     "metadata": {},
     "output_type": "display_data"
    },
    {
     "data": {
      "image/png": "[encoded data removed]",
      "text/plain": [
       "<Figure size 640x480 with 1 Axes>"
      ]
     },
     "metadata": {},
     "output_type": "display_data"
    },
    {
     "name": "stdout",
     "output_type": "stream",
     "text": [
      "Challenge 18/20 complete. Correct so far: 3/18.\n",
      "==((====))==  Unsloth 2024.11.10: Fast Llama patching. Transformers:4.46.3.\n",
      "   \\\\   /|    GPU: NVIDIA H100 PCIe. Max memory: 79.097 GB. Platform: Linux.\n",
      "O^O/ \\_/ \\    Torch: 2.5.1+cu124. CUDA: 9.0. CUDA Toolkit: 12.4. Triton: 3.1.0\n",
      "\\        /    Bfloat16 = TRUE. FA [Xformers = 0.0.28.post3. FA2 = True]\n",
      " \"-____-\"     Free Apache license: http://github.com/unslothai/unsloth\n",
      "Unsloth: Fast downloading is enabled - ignore downloading bars which are red colored!\n",
      "num train steps: 28\n"
     ]
    },
    {
     "data": {
      "application/vnd.jupyter.widget-view+json": {
       "model_id": "ff631b83abb7479bacb929b304be557f",
       "version_major": 2,
       "version_minor": 0
      },
      "text/plain": [
       "Map (num_proc=2):   0%|          | 0/14 [00:00<?, ? examples/s]"
      ]
     },
     "metadata": {},
     "output_type": "display_data"
    },
    {
     "name": "stderr",
     "output_type": "stream",
     "text": [
      "num_proc must be <= 1. Reducing num_proc to 1 for dataset of size 1.\n",
      "WARNING:datasets.arrow_dataset:num_proc must be <= 1. Reducing num_proc to 1 for dataset of size 1.\n"
     ]
    },
    {
     "data": {
      "application/vnd.jupyter.widget-view+json": {
       "model_id": "02f04db0cfc445c0bcd8866bc5658a55",
       "version_major": 2,
       "version_minor": 0
      },
      "text/plain": [
       "Map:   0%|          | 0/1 [00:00<?, ? examples/s]"
      ]
     },
     "metadata": {},
     "output_type": "display_data"
    },
    {
     "name": "stderr",
     "output_type": "stream",
     "text": [
      "==((====))==  Unsloth - 2x faster free finetuning | Num GPUs = 1\n",
      "   \\\\   /|    Num examples = 14 | Num Epochs = 2\n",
      "O^O/ \\_/ \\    Batch size per device = 1 | Gradient Accumulation steps = 1\n",
      "\\        /    Total batch size = 1 | Total steps = 28\n",
      " \"-____-\"     Number of trainable parameters = 22,544,384\n"
     ]
    },
    {
     "data": {
      "text/html": [
       "\n",
       "    <div>\n",
       "      \n",
       "      <progress value='28' max='28' style='width:300px; height:20px; vertical-align: middle;'></progress>\n",
       "      [28/28 00:14, Epoch 2/2]\n",
       "    </div>\n",
       "    <table border=\"1\" class=\"dataframe\">\n",
       "  <thead>\n",
       " <tr style=\"text-align: left;\">\n",
       "      <th>Step</th>\n",
       "      <th>Training Loss</th>\n",
       "      <th>Validation Loss</th>\n",
       "    </tr>\n",
       "  </thead>\n",
       "  <tbody>\n",
       "    <tr>\n",
       "      <td>6</td>\n",
       "      <td>0.067100</td>\n",
       "      <td>0.195288</td>\n",
       "    </tr>\n",
       "    <tr>\n",
       "      <td>12</td>\n",
       "      <td>0.063700</td>\n",
       "      <td>0.123550</td>\n",
       "    </tr>\n",
       "    <tr>\n",
       "      <td>18</td>\n",
       "      <td>0.051300</td>\n",
       "      <td>0.083351</td>\n",
       "    </tr>\n",
       "    <tr>\n",
       "      <td>24</td>\n",
       "      <td>0.042900</td>\n",
       "      <td>0.091058</td>\n",
       "    </tr>\n",
       "  </tbody>\n",
       "</table><p>"
      ],
      "text/plain": [
       "<IPython.core.display.HTML object>"
      ]
     },
     "metadata": {},
     "output_type": "display_data"
    },
    {
     "name": "stdout",
     "output_type": "stream",
     "text": [
      "Error in processing: unmatched ']' (<string>, line 1), Generated Output:  [6 0 0 4 0 0 0]\n",
      " [0 6 0 4 0 6 6]\n",
      " [6 6 6 4 0 6 0]\n",
      " [4 4 4 4 4 4 4]\n",
      " [0 0 6 4 0 0 0]\n",
      " [0 6 6 4 0 2 0]\n",
      " [0 0 0 4 0 0 0]\n",
      " [4 4 4 4 4 4 4]\n",
      " [8 8 0 4 0 0 0]\n",
      " [0 8 0 4 0 8 0]\n",
      " [8 8 8 4 0 0 0]]\n",
      "\n",
      "\n",
      "Challenge 19/20 complete. Correct so far: 3/19.\n",
      "==((====))==  Unsloth 2024.11.10: Fast Llama patching. Transformers:4.46.3.\n",
      "   \\\\   /|    GPU: NVIDIA H100 PCIe. Max memory: 79.097 GB. Platform: Linux.\n",
      "O^O/ \\_/ \\    Torch: 2.5.1+cu124. CUDA: 9.0. CUDA Toolkit: 12.4. Triton: 3.1.0\n",
      "\\        /    Bfloat16 = TRUE. FA [Xformers = 0.0.28.post3. FA2 = True]\n",
      " \"-____-\"     Free Apache license: http://github.com/unslothai/unsloth\n",
      "Unsloth: Fast downloading is enabled - ignore downloading bars which are red colored!\n",
      "num train steps: 42\n"
     ]
    },
    {
     "data": {
      "application/vnd.jupyter.widget-view+json": {
       "model_id": "d03ee136f4104cdcb149ab9ef9490c18",
       "version_major": 2,
       "version_minor": 0
      },
      "text/plain": [
       "Map (num_proc=2):   0%|          | 0/21 [00:00<?, ? examples/s]"
      ]
     },
     "metadata": {},
     "output_type": "display_data"
    },
    {
     "name": "stderr",
     "output_type": "stream",
     "text": [
      "num_proc must be <= 1. Reducing num_proc to 1 for dataset of size 1.\n",
      "WARNING:datasets.arrow_dataset:num_proc must be <= 1. Reducing num_proc to 1 for dataset of size 1.\n"
     ]
    },
    {
     "data": {
      "application/vnd.jupyter.widget-view+json": {
       "model_id": "5a661664d66a44508d355a3a627f751d",
       "version_major": 2,
       "version_minor": 0
      },
      "text/plain": [
       "Map:   0%|          | 0/1 [00:00<?, ? examples/s]"
      ]
     },
     "metadata": {},
     "output_type": "display_data"
    },
    {
     "name": "stderr",
     "output_type": "stream",
     "text": [
      "==((====))==  Unsloth - 2x faster free finetuning | Num GPUs = 1\n",
      "   \\\\   /|    Num examples = 21 | Num Epochs = 2\n",
      "O^O/ \\_/ \\    Batch size per device = 1 | Gradient Accumulation steps = 1\n",
      "\\        /    Total batch size = 1 | Total steps = 42\n",
      " \"-____-\"     Number of trainable parameters = 22,544,384\n"
     ]
    },
    {
     "data": {
      "text/html": [
       "\n",
       "    <div>\n",
       "      \n",
       "      <progress value='42' max='42' style='width:300px; height:20px; vertical-align: middle;'></progress>\n",
       "      [42/42 00:14, Epoch 2/2]\n",
       "    </div>\n",
       "    <table border=\"1\" class=\"dataframe\">\n",
       "  <thead>\n",
       " <tr style=\"text-align: left;\">\n",
       "      <th>Step</th>\n",
       "      <th>Training Loss</th>\n",
       "      <th>Validation Loss</th>\n",
       "    </tr>\n",
       "  </thead>\n",
       "  <tbody>\n",
       "    <tr>\n",
       "      <td>9</td>\n",
       "      <td>0.173600</td>\n",
       "      <td>0.198470</td>\n",
       "    </tr>\n",
       "    <tr>\n",
       "      <td>18</td>\n",
       "      <td>0.109600</td>\n",
       "      <td>0.145567</td>\n",
       "    </tr>\n",
       "    <tr>\n",
       "      <td>27</td>\n",
       "      <td>0.110800</td>\n",
       "      <td>0.144691</td>\n",
       "    </tr>\n",
       "    <tr>\n",
       "      <td>36</td>\n",
       "      <td>0.081200</td>\n",
       "      <td>0.113658</td>\n",
       "    </tr>\n",
       "  </tbody>\n",
       "</table><p>"
      ],
      "text/plain": [
       "<IPython.core.display.HTML object>"
      ]
     },
     "metadata": {},
     "output_type": "display_data"
    },
    {
     "data": {
      "image/png": "[encoded data removed]",
      "text/plain": [
       "<Figure size 640x480 with 1 Axes>"
      ]
     },
     "metadata": {},
     "output_type": "display_data"
    },
    {
     "data": {
      "image/png": "[encoded data removed]",
      "text/plain": [
       "<Figure size 640x480 with 1 Axes>"
      ]
     },
     "metadata": {},
     "output_type": "display_data"
    },
    {
     "name": "stdout",
     "output_type": "stream",
     "text": [
      "Challenge 20/20 complete. Correct so far: 3/20.\n",
      "Final Tally: 3/20 challenges correct.\n"
     ]
    }
   ],
   "source": [
    "from unsloth import FastLanguageModel, is_bfloat16_supported\n",
    "from transformers import TrainingArguments, DataCollatorForSeq2Seq\n",
    "from trl import SFTTrainer\n",
    "from datasets import Dataset\n",
    "import torch\n",
    "from torch.optim import AdamW\n",
    "from torch.optim.lr_scheduler import LambdaLR\n",
    "\n",
    "# lora_model_name = \"Llama-3.2-1B-lora-model\"\n",
    "# lora_model_name = \"Llama-3.2-3B-lora-model\"\n",
    "# lora_model_name = \"Qwen2.5-Math-1.5B-lora-model\"\n",
    "# lora_model_name = \"Qwen2.5-Coder-1.5B-lora-model\"\n",
    "\n",
    "gradient_accumulation_steps=1\n",
    "batch_size=1\n",
    "epochs=2\n",
    "\n",
    "completions_only=False\n",
    "\n",
    "num_tests = 20 # 83 for full MIT split\n",
    "\n",
    "# Select the range of challenges to run\n",
    "dataset_to_run = eval_dataset.select(range(num_tests))\n",
    "\n",
    "results = []\n",
    "correct_count = 0\n",
    "\n",
    "for i, challenge in enumerate(dataset_to_run):  # Iterate directly through the dataset\n",
    "    # Step 1: Filter the fine-tuning dataset for the current challenge\n",
    "    challenge_file_name = challenge['file_name']\n",
    "\n",
    "    challenge_dataset = filter_fine_tuning_dataset(fine_tuning_dataset, challenge_file_name)\n",
    "\n",
    "    # print(challenge_dataset)\n",
    "    \n",
    "    # print(challenge_file_name)\n",
    "\n",
    "    # del model, tokenizer\n",
    "    \n",
    "    # Step 2: Reload the model with the base LoRA\n",
    "    model, tokenizer = FastLanguageModel.from_pretrained(\n",
    "        model_name=lora_model_name,  # Replace with your model's name\n",
    "        max_seq_length=max_seq_length,\n",
    "        dtype=dtype,\n",
    "        load_in_4bit=load_in_4bit,\n",
    "    )\n",
    "    FastLanguageModel.for_inference(model)  # Enable faster inference\n",
    "\n",
    "    # Define the Jinja template\n",
    "    tokenizer.chat_template = \"\"\"\n",
    "    {% for message in messages %}\n",
    "    {{ message.content }}{% if message.role == 'assistant' %}{{ eos_token }}{% endif %}{%- if add_generation_prompt %}{%- endif %}\n",
    "    {% endfor %}\n",
    "    \"\"\"\n",
    "\n",
    "    # print(f\"Dataset size: {len(challenge_dataset)}\")\n",
    "    # print(f\"Epochs: {epochs}\")\n",
    "    # print(f\"Batch size: {batch_size}\")\n",
    "    # print(f\"Gradient accumulation steps: {gradient_accumulation_steps}\")\n",
    "    # print(f\"Computed num_training_steps: {num_training_steps}\")\n",
    "    \n",
    "    def lr_lambda_specific(current_step: int, num_training_steps: int):\n",
    "        if num_training_steps < 2:\n",
    "            # If there are too few steps, return a constant learning rate\n",
    "            return 1.0\n",
    "        if current_step < num_training_steps // 2:\n",
    "            return 1.0  # Constant learning rate for the first half\n",
    "        else:\n",
    "            progress = (current_step - num_training_steps // 2) / max(1, (num_training_steps // 2))\n",
    "            return 0.5 * (1 + torch.cos(torch.tensor(progress * torch.pi)).item())\n",
    "\n",
    "    # Step 3: Fine-tune the model on the challenge-specific dataset\n",
    "    optimizer = AdamW(model.parameters(), lr=1e-4, weight_decay=0.01)\n",
    "    num_training_steps = len(challenge_dataset) * epochs // (batch_size * gradient_accumulation_steps)\n",
    "    print(f\"num train steps: {num_training_steps}\")\n",
    "    scheduler = LambdaLR(optimizer, lr_lambda=lambda step: lr_lambda_specific(step, num_training_steps))\n",
    "\n",
    "    trainer = SFTTrainer(\n",
    "        model=model,\n",
    "        tokenizer=tokenizer,\n",
    "        train_dataset=challenge_dataset,\n",
    "        eval_dataset=eval_dataset.select([i]),  # Evaluate on the current challenge\n",
    "        max_seq_length=max_seq_length,\n",
    "        # data_collator = DataCollatorForSeq2Seq(tokenizer = tokenizer),\n",
    "        dataset_num_proc=2,\n",
    "        packing=False,\n",
    "        args=TrainingArguments(\n",
    "            # group_by_length=False,  # Disable grouping by length (disables shuffling)\n",
    "            per_device_train_batch_size=batch_size,\n",
    "            per_device_eval_batch_size=1,\n",
    "            gradient_accumulation_steps=gradient_accumulation_steps,\n",
    "            num_train_epochs=epochs,\n",
    "            logging_strategy=\"steps\",\n",
    "            logging_dir=\"logs\",\n",
    "            eval_strategy=\"steps\",\n",
    "            eval_steps=0.2,\n",
    "            fp16=not is_bfloat16_supported(),\n",
    "            bf16=is_bfloat16_supported(),\n",
    "            logging_steps=0.1,\n",
    "            optim=\"adamw_torch\",\n",
    "            seed=3407,\n",
    "            output_dir=\"outputs\",\n",
    "            report_to=\"tensorboard\",\n",
    "        ),\n",
    "        optimizers=(optimizer, scheduler),  # Pass the custom optimizer and scheduler\n",
    "    )\n",
    "\n",
    "    if completions_only:\n",
    "        print(f\"TRAINING ON COMPLETIONS ONLY!\")\n",
    "        # Requires commenting in the datacollator above in the trainer.\n",
    "        from unsloth.chat_templates import train_on_responses_only\n",
    "        trainer = train_on_responses_only(\n",
    "            trainer,\n",
    "            # instruction_part = \"<|start_header_id|>user<|end_header_id|>\\n\\n\",\n",
    "            # response_part = \"<|start_header_id|>assistant<|end_header_id|>\\n\\n\",\n",
    "            instruction_part = \"Input:\\n\",\n",
    "            response_part = \"Test Output:\\n\",\n",
    "        )\n",
    "        \n",
    "        tokenizer.decode(trainer.train_dataset[0][\"input_ids\"])\n",
    "        \n",
    "        space = tokenizer(\" \", add_special_tokens = False).input_ids[0]\n",
    "        tokenizer.decode([space if x == -100 else x for x in trainer.train_dataset[0][\"labels\"]])\n",
    "\n",
    "    trainer.train()  # Fine-tune the model\n",
    "\n",
    "    # Step 4: Run inference on the fine-tuned model\n",
    "    result = solve_challenge_unsloth(challenge['messages'], model, tokenizer, visualize=True)\n",
    "    results.append(result)\n",
    "\n",
    "    # Update the correct count if the result is correct\n",
    "    if result.get('is_correct', False):\n",
    "        correct_count += 1\n",
    "\n",
    "    print(f\"Challenge {i+1}/{len(dataset_to_run)} complete. Correct so far: {correct_count}/{i+1}.\")\n",
    "\n",
    "# Final tally\n",
    "print(f\"Final Tally: {correct_count}/{len(dataset_to_run)} challenges correct.\")"
   ]
  },
  {
   "cell_type": "markdown",
   "metadata": {
    "jp-MarkdownHeadingCollapsed": true
   },
   "source": [
    "## 8. Submit\n",
    "\n",
    "For submission you must create a file called 'submission.json' which should have the format as explained [here](www.kaggle.com/competitions/arc-prize-2024/overview/evaluation)\n",
    "\n",
    "`\n",
    "{\"00576224\": [{\"attempt_1\": [[0, 0], [0, 0]], \"attempt_2\": [[0, 0], [0, 0]]}],\n",
    " \"009d5c81\": [{\"attempt_1\": [[0, 0], [0, 0]], \"attempt_2\": [[0, 0], [0, 0]]}],\n",
    " \"12997ef3\": [{\"attempt_1\": [[0, 0], [0, 0]], \"attempt_2\": [[0, 0], [0, 0]]},\n",
    "              {\"attempt_1\": [[0, 0], [0, 0]], \"attempt_2\": [[0, 0], [0, 0]]}],\n",
    " ...\n",
    "}\n",
    "`"
   ]
  },
  {
   "cell_type": "code",
   "execution_count": null,
   "metadata": {},
   "outputs": [],
   "source": [
    "# print(dataset.select(range(dataset_range))[1])"
   ]
  },
  {
   "cell_type": "code",
   "execution_count": 152,
   "metadata": {},
   "outputs": [
    {
     "ename": "NameError",
     "evalue": "name 'dataset_range' is not defined",
     "output_type": "error",
     "traceback": [
      "\u001b[0;31m---------------------------------------------------------------------------\u001b[0m",
      "\u001b[0;31mNameError\u001b[0m                                 Traceback (most recent call last)",
      "Cell \u001b[0;32mIn[152], line 3\u001b[0m\n\u001b[1;32m      1\u001b[0m solution_dict \u001b[38;5;241m=\u001b[39m {}\n\u001b[0;32m----> 3\u001b[0m \u001b[38;5;28;01mfor\u001b[39;00m i, task \u001b[38;5;129;01min\u001b[39;00m \u001b[38;5;28menumerate\u001b[39m(dataset\u001b[38;5;241m.\u001b[39mselect(\u001b[38;5;28mrange\u001b[39m(\u001b[43mdataset_range\u001b[49m))):\n\u001b[1;32m      4\u001b[0m     file_name \u001b[38;5;241m=\u001b[39m task[\u001b[38;5;124m'\u001b[39m\u001b[38;5;124mfile_name\u001b[39m\u001b[38;5;124m'\u001b[39m]\n\u001b[1;32m      6\u001b[0m     gen_solution \u001b[38;5;241m=\u001b[39m task[\u001b[38;5;124m\"\u001b[39m\u001b[38;5;124mgenerated_solution\u001b[39m\u001b[38;5;124m\"\u001b[39m]\n",
      "\u001b[0;31mNameError\u001b[0m: name 'dataset_range' is not defined"
     ]
    }
   ],
   "source": [
    "solution_dict = {}\n",
    "\n",
    "for i, task in enumerate(dataset.select(range(dataset_range))):\n",
    "    file_name = task['file_name']\n",
    "\n",
    "    gen_solution = task[\"generated_solution\"]\n",
    "    # For now we only do one attempt\n",
    "    solution_dict[file_name] = [\n",
    "        {\n",
    "            \"attempt_1\": gen_solution,\n",
    "            \"attempt_2\": [[0, 0], [0, 0]]\n",
    "        }\n",
    "    ]\n",
    "\n",
    "# Recombining the solutions for split files\n",
    "combined_solution_dict = {}\n",
    "combined_files = {}\n",
    "\n",
    "for file_name, attempts in solution_dict.items():\n",
    "    base_name = file_name.split('_')[0]\n",
    "    if base_name not in combined_solution_dict:\n",
    "        combined_solution_dict[base_name] = []\n",
    "        combined_files[base_name] = []\n",
    "    combined_solution_dict[base_name].extend(attempts)\n",
    "    if '_' in file_name:\n",
    "        combined_files[base_name].append(file_name)\n",
    "        \n",
    "# Printing which file names have been combined\n",
    "print(\"Files that have been combined:\")\n",
    "for base_name, files in combined_files.items():\n",
    "    if files:  # Print only if there are files that were combined\n",
    "        print(f\"{base_name}: {', '.join(files)}\")\n",
    "\n",
    "# We still need to fill in dummy solutions for the tasks we did not consider to make a valid submission:\n",
    "# Load the sample submission file\n",
    "if kaggle:\n",
    "    with open('/kaggle/input/arc-prize-2024/sample_submission.json') as f:\n",
    "        sample_submission = json.load(f)\n",
    "else:\n",
    "    with open('sample_submission.json') as f:\n",
    "        sample_submission = json.load(f)\n",
    "\n",
    "# Fill in all entries that are still missing from the sample_submission file\n",
    "for key, value in sample_submission.items():\n",
    "    if key not in combined_solution_dict:\n",
    "        combined_solution_dict[key] = value\n",
    "\n",
    "# Create submission\n",
    "with open(\"submission.json\", \"w\") as json_file:\n",
    "    json.dump(combined_solution_dict, json_file) "
   ]
  },
  {
   "cell_type": "code",
   "execution_count": null,
   "metadata": {},
   "outputs": [],
   "source": []
  }
 ],
 "metadata": {
  "kaggle": {
   "accelerator": "nvidiaTeslaT4",
   "dataSources": [
    {
     "databundleVersionId": 8951125,
     "sourceId": 67357,
     "sourceType": "competition"
    },
    {
     "datasetId": 5123959,
     "sourceId": 8622192,
     "sourceType": "datasetVersion"
    },
    {
     "modelId": 89194,
     "modelInstanceId": 64831,
     "sourceId": 77114,
     "sourceType": "modelInstanceVersion"
    },
    {
     "modelId": 91102,
     "modelInstanceId": 68809,
     "sourceId": 104449,
     "sourceType": "modelInstanceVersion"
    }
   ],
   "dockerImageVersionId": 30733,
   "isGpuEnabled": true,
   "isInternetEnabled": true,
   "language": "python",
   "sourceType": "notebook"
  },
  "kernelspec": {
   "display_name": "Python 3 (ipykernel)",
   "language": "python",
   "name": "python3"
  },
  "language_info": {
   "codemirror_mode": {
    "name": "ipython",
    "version": 3
   },
   "file_extension": ".py",
   "mimetype": "text/x-python",
   "name": "python",
   "nbconvert_exporter": "python",
   "pygments_lexer": "ipython3",
   "version": "3.10.12"
  }
 },
 "nbformat": 4,
 "nbformat_minor": 4
}
