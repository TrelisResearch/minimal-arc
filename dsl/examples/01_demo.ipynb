{
 "cells": [
  {
   "cell_type": "markdown",
   "metadata": {},
   "source": [
    "# ARC DSL Demo\n",
    "\n",
    "This notebook demonstrates the ARC DSL system on a simple task."
   ]
  },
  {
   "cell_type": "code",
   "execution_count": null,
   "metadata": {},
   "outputs": [],
   "source": [
    "# Import necessary modules\n",
    "import sys\n",
    "import time\n",
    "import numpy as np\n",
    "import matplotlib.pyplot as plt\n",
    "from pathlib import Path\n",
    "\n",
    "# Add the parent directory to the path\n",
    "sys.path.append(str(Path.cwd().parent.parent))\n",
    "\n",
    "# Import our DSL modules with the correct paths\n",
    "from dsl.dsl_utils.primitives import ALL_PRIMITIVES\n",
    "from dsl.dsl_utils.types import Grid\n",
    "from dsl.search.enumerator import iter_deepening\n",
    "from dsl.search.verifier import verify, evaluate_program\n",
    "from dsl.io.loader import load_task, load_solution, load_train_pairs, load_test_input\n",
    "from dsl.io.visualizer import visualize_task"
   ]
  },
  {
   "cell_type": "markdown",
   "metadata": {},
   "source": [
    "## Load Task 0a1d4ef5\n",
    "\n",
    "This is a simple task from the MIT-easy dataset."
   ]
  },
  {
   "cell_type": "code",
   "execution_count": null,
   "metadata": {},
   "outputs": [],
   "source": [
    "# Load the task\n",
    "task_id = \"0a1d4ef5\"\n",
    "task = load_task(task_id)\n",
    "\n",
    "# Extract training pairs\n",
    "train_pairs = load_train_pairs(task)\n",
    "test_input = load_test_input(task)\n",
    "\n",
    "# Try to load the solution\n",
    "solution = None\n",
    "try:\n",
    "    solution_grid = load_solution(task_id)\n",
    "    solution = Grid(solution_grid)\n",
    "except Exception as e:\n",
    "    print(f\"Warning: Could not load solution: {e}\")"
   ]
  },
  {
   "cell_type": "markdown",
   "metadata": {},
   "source": [
    "## Visualize Training Examples\n",
    "\n",
    "Let's look at the training examples to understand the task."
   ]
  },
  {
   "cell_type": "code",
   "execution_count": null,
   "metadata": {},
   "outputs": [],
   "source": [
    "# Visualize the task without predictions\n",
    "fig = visualize_task(task)\n",
    "plt.show()"
   ]
  },
  {
   "cell_type": "markdown",
   "metadata": {},
   "source": [
    "## Run the Solver\n",
    "\n",
    "Now let's run our DSL solver to find a program that solves this task."
   ]
  },
  {
   "cell_type": "code",
   "execution_count": null,
   "metadata": {},
   "outputs": [],
   "source": [
    "# Get shapes for heuristics\n",
    "input_shape = train_pairs[0][0].shape\n",
    "output_shape = train_pairs[0][1].shape\n",
    "\n",
    "print(f\"Input shape: {input_shape}, Output shape: {output_shape}\")\n",
    "print(f\"Searching for programs with max depth 4...\")\n",
    "\n",
    "# Start the search\n",
    "start_time = time.time()\n",
    "found_solution = False\n",
    "valid_program = None\n",
    "prediction = None\n",
    "\n",
    "# Generate and verify programs\n",
    "for program in iter_deepening(ALL_PRIMITIVES, 4, input_shape, output_shape, 30.0):\n",
    "    if verify(program, train_pairs):\n",
    "        valid_program = program\n",
    "        found_solution = True\n",
    "        print(f\"Found valid program: {program}\")\n",
    "        \n",
    "        # Generate prediction for the test input\n",
    "        prediction = evaluate_program(program, test_input)\n",
    "        if prediction is not None:\n",
    "            print(f\"Generated prediction for test input\")\n",
    "        else:\n",
    "            print(f\"Failed to generate prediction for test input\")\n",
    "        \n",
    "        break\n",
    "\n",
    "elapsed_time = time.time() - start_time\n",
    "print(f\"Search completed in {elapsed_time:.2f} seconds\")"
   ]
  },
  {
   "cell_type": "markdown",
   "metadata": {},
   "source": [
    "## Visualize Results\n",
    "\n",
    "Let's visualize the results of our solver."
   ]
  },
  {
   "cell_type": "code",
   "execution_count": null,
   "metadata": {},
   "outputs": [],
   "source": [
    "if found_solution:\n",
    "    # Check if the prediction matches the solution\n",
    "    if solution is not None and prediction is not None:\n",
    "        if prediction == solution:\n",
    "            print(\"Prediction matches the solution!\")\n",
    "        else:\n",
    "            print(\"Prediction does not match the solution\")\n",
    "    \n",
    "    # Visualize the results\n",
    "    fig = visualize_task(task, prediction, solution)\n",
    "    plt.show()\n",
    "else:\n",
    "    print(\"No solution found\")"
   ]
  },
  {
   "cell_type": "markdown",
   "metadata": {},
   "source": [
    "## Timing Analysis\n",
    "\n",
    "Let's measure how long it takes to run the solver on this task."
   ]
  },
  {
   "cell_type": "code",
   "execution_count": null,
   "metadata": {},
   "outputs": [],
   "source": [
    "# Run the solver multiple times to get an average time\n",
    "n_runs = 3\n",
    "times = []\n",
    "\n",
    "for i in range(n_runs):\n",
    "    start_time = time.time()\n",
    "    \n",
    "    # Generate and verify programs\n",
    "    for program in iter_deepening(ALL_PRIMITIVES, 4, input_shape, output_shape, 15.0):\n",
    "        if verify(program, train_pairs):\n",
    "            break\n",
    "    \n",
    "    elapsed_time = time.time() - start_time\n",
    "    times.append(elapsed_time)\n",
    "    print(f\"Run {i+1}: {elapsed_time:.2f} seconds\")\n",
    "\n",
    "print(f\"Average time: {sum(times) / len(times):.2f} seconds\")"
   ]
  },
  {
   "cell_type": "code",
   "execution_count": null,
   "metadata": {},
   "outputs": [],
   "source": []
  }
 ],
 "metadata": {
  "kernelspec": {
   "display_name": "Python (.venv – dsl)",
   "language": "python",
   "name": "dsl"
  },
  "language_info": {
   "codemirror_mode": {
    "name": "ipython",
    "version": 3
   },
   "file_extension": ".py",
   "mimetype": "text/x-python",
   "name": "python",
   "nbconvert_exporter": "python",
   "pygments_lexer": "ipython3",
   "version": "3.12.4"
  }
 },
 "nbformat": 4,
 "nbformat_minor": 4
}
